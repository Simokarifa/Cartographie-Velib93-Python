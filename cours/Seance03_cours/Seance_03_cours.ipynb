{
 "cells": [
  {
   "cell_type": "markdown",
   "metadata": {},
   "source": [
    "# Séance 3 : Compléments sur les Listes, Dates"
   ]
  },
  {
   "cell_type": "markdown",
   "metadata": {},
   "source": [
    "## Listes : Accès aux méthodes et propriétés des éléments d'une liste selon leur type"
   ]
  },
  {
   "cell_type": "code",
   "execution_count": 3,
   "metadata": {},
   "outputs": [],
   "source": [
    "maliste = [\"Hello world !\", 123.0, [123.23, 456], 13, {'nom' : 'dupont'}]"
   ]
  },
  {
   "cell_type": "markdown",
   "metadata": {},
   "source": [
    "Si un élément d'une liste est une chaine on peut directement, via son index dans la liste, utiliser les méthodes des chaines dessus."
   ]
  },
  {
   "cell_type": "code",
   "execution_count": 4,
   "metadata": {},
   "outputs": [
    {
     "name": "stdout",
     "output_type": "stream",
     "text": [
      "['Hello', 'world', '!']\n"
     ]
    }
   ],
   "source": [
    "temp = maliste[0].split(\" \")\n",
    "print(temp)"
   ]
  },
  {
   "cell_type": "markdown",
   "metadata": {},
   "source": [
    "Un élément d'une liste peut être d'un type numérique, idem pour accèder aux méthode des float\n"
   ]
  },
  {
   "cell_type": "code",
   "execution_count": 6,
   "metadata": {},
   "outputs": [
    {
     "name": "stdout",
     "output_type": "stream",
     "text": [
      "True\n"
     ]
    }
   ],
   "source": [
    "temp = maliste[1].is_integer()\n",
    "print(temp)"
   ]
  },
  {
   "cell_type": "code",
   "execution_count": 7,
   "metadata": {},
   "outputs": [
    {
     "name": "stdout",
     "output_type": "stream",
     "text": [
      "False\n"
     ]
    }
   ],
   "source": [
    "# même principe si l'élément est une liste \n",
    "temp = maliste[2][0].is_integer()\n",
    "print(temp)"
   ]
  },
  {
   "cell_type": "code",
   "execution_count": 9,
   "metadata": {},
   "outputs": [
    {
     "name": "stdout",
     "output_type": "stream",
     "text": [
      "2\n"
     ]
    }
   ],
   "source": [
    "temp = len(maliste[2])\n",
    "print(temp)"
   ]
  },
  {
   "cell_type": "markdown",
   "metadata": {},
   "source": [
    "Même principe pour un dictionnaire"
   ]
  },
  {
   "cell_type": "code",
   "execution_count": 10,
   "metadata": {},
   "outputs": [
    {
     "name": "stdout",
     "output_type": "stream",
     "text": [
      "DUPONT\n"
     ]
    }
   ],
   "source": [
    "temp = maliste[4][\"nom\"].upper()\n",
    "print(temp)"
   ]
  },
  {
   "cell_type": "markdown",
   "metadata": {},
   "source": [
    "## Listes : Opérations sur les listes"
   ]
  },
  {
   "cell_type": "markdown",
   "metadata": {},
   "source": [
    "### Opérateur + , append(), extend()"
   ]
  },
  {
   "cell_type": "markdown",
   "metadata": {},
   "source": [
    "#### Ajouter \"en place\" Vs créer un nouvel objet"
   ]
  },
  {
   "cell_type": "code",
   "execution_count": 11,
   "metadata": {},
   "outputs": [
    {
     "data": {
      "text/plain": [
       "[1, 2, 3, 4]"
      ]
     },
     "execution_count": 11,
     "metadata": {},
     "output_type": "execute_result"
    }
   ],
   "source": [
    "liste_1 = [1, 2, 3]\n",
    "liste_1 + [4]"
   ]
  },
  {
   "cell_type": "code",
   "execution_count": 12,
   "metadata": {},
   "outputs": [
    {
     "name": "stdout",
     "output_type": "stream",
     "text": [
      "[1, 2, 3]\n"
     ]
    }
   ],
   "source": [
    "print(liste_1)"
   ]
  },
  {
   "cell_type": "code",
   "execution_count": 13,
   "metadata": {},
   "outputs": [
    {
     "name": "stdout",
     "output_type": "stream",
     "text": [
      "[1, 2, 3, 4]\n"
     ]
    }
   ],
   "source": [
    "liste_1.append(4)\n",
    "print(liste_1)"
   ]
  },
  {
   "cell_type": "markdown",
   "metadata": {},
   "source": [
    "Append() fait une modification en place sur un objet list qui est mutable.\n",
    "\n",
    "l'opérateur + va créer un nouvel objet.\n",
    "\n",
    "Pour continuer à manupuler la liste depuis la variable liste_1 suite à l'utilisation de + il faudrait référencer l'objet issus de l'opération avec la variable liste_1"
   ]
  },
  {
   "cell_type": "code",
   "execution_count": 14,
   "metadata": {},
   "outputs": [
    {
     "data": {
      "text/plain": [
       "[1, 2, 3, 4]"
      ]
     },
     "execution_count": 14,
     "metadata": {},
     "output_type": "execute_result"
    }
   ],
   "source": [
    "liste_1 = [1, 2, 3]\n",
    "liste_1 = liste_1 + [4]\n",
    "liste_1"
   ]
  },
  {
   "cell_type": "markdown",
   "metadata": {},
   "source": [
    "Ce qui peut aussi s'écrire : "
   ]
  },
  {
   "cell_type": "code",
   "execution_count": 15,
   "metadata": {},
   "outputs": [
    {
     "data": {
      "text/plain": [
       "[1, 2, 3, 4]"
      ]
     },
     "execution_count": 15,
     "metadata": {},
     "output_type": "execute_result"
    }
   ],
   "source": [
    "liste_1 = [1, 2, 3]\n",
    "liste_1 += [4]\n",
    "liste_1"
   ]
  },
  {
   "cell_type": "markdown",
   "metadata": {},
   "source": [
    "#### Extend() pour insérer une liste à suite d'une autre"
   ]
  },
  {
   "cell_type": "markdown",
   "metadata": {},
   "source": [
    "Avec le + on prend les deux objets pour en créer un troisième"
   ]
  },
  {
   "cell_type": "code",
   "execution_count": 16,
   "metadata": {},
   "outputs": [
    {
     "data": {
      "text/plain": [
       "['1-1', '1-2', '1-3', '2-1', '2-2', '2-3']"
      ]
     },
     "execution_count": 16,
     "metadata": {},
     "output_type": "execute_result"
    }
   ],
   "source": [
    "liste_1 = ['1-1', '1-2', '1-3']\n",
    "liste_2 = ['2-1', '2-2', '2-3']\n",
    "\n",
    "liste_3 = liste_1 + liste_2\n",
    "liste_3"
   ]
  },
  {
   "cell_type": "markdown",
   "metadata": {},
   "source": [
    "Avec extend() on modifie la première liste en y ajoutant le contenu de la seconde liste"
   ]
  },
  {
   "cell_type": "code",
   "execution_count": 17,
   "metadata": {},
   "outputs": [
    {
     "data": {
      "text/plain": [
       "['1-1', '1-2', '1-3', '2-1', '2-2', '2-3']"
      ]
     },
     "execution_count": 17,
     "metadata": {},
     "output_type": "execute_result"
    }
   ],
   "source": [
    "liste_1.extend(liste_2)\n",
    "liste_1"
   ]
  },
  {
   "cell_type": "markdown",
   "metadata": {},
   "source": [
    "Attention : avec Append on aurait inséré la seconde liste comme élément de la liste de départ :"
   ]
  },
  {
   "cell_type": "code",
   "execution_count": 18,
   "metadata": {},
   "outputs": [
    {
     "data": {
      "text/plain": [
       "['1-1', '1-2', '1-3', ['2-1', '2-2', '2-3']]"
      ]
     },
     "execution_count": 18,
     "metadata": {},
     "output_type": "execute_result"
    }
   ],
   "source": [
    "liste_1 = ['1-1', '1-2', '1-3']\n",
    "liste_2 = ['2-1', '2-2', '2-3']\n",
    "liste_1.append(liste_2)\n",
    "liste_1"
   ]
  },
  {
   "cell_type": "markdown",
   "metadata": {},
   "source": [
    "Opérateur * "
   ]
  },
  {
   "cell_type": "code",
   "execution_count": 19,
   "metadata": {},
   "outputs": [
    {
     "data": {
      "text/plain": [
       "['1-1',\n",
       " '1-2',\n",
       " '1-3',\n",
       " ['2-1', '2-2', '2-3'],\n",
       " '1-1',\n",
       " '1-2',\n",
       " '1-3',\n",
       " ['2-1', '2-2', '2-3'],\n",
       " '1-1',\n",
       " '1-2',\n",
       " '1-3',\n",
       " ['2-1', '2-2', '2-3']]"
      ]
     },
     "execution_count": 19,
     "metadata": {},
     "output_type": "execute_result"
    }
   ],
   "source": [
    "liste_4 = liste_1 * 3\n",
    "liste_4"
   ]
  },
  {
   "cell_type": "markdown",
   "metadata": {},
   "source": [
    "## Listes : Slices pour découper"
   ]
  },
  {
   "cell_type": "markdown",
   "metadata": {},
   "source": [
    "Attention : la découpe par les slices revient à créer un nouvel objet"
   ]
  },
  {
   "cell_type": "code",
   "execution_count": 4,
   "metadata": {},
   "outputs": [],
   "source": [
    "lettres = ['a', 'z', 'e', 'r', 't', 'y', 'u', 'i', 'o', 'p']"
   ]
  },
  {
   "cell_type": "markdown",
   "metadata": {},
   "source": [
    "On a déjà vu que l'on peut récupérer un objet contenu dans une liste par son index dans la liste"
   ]
  },
  {
   "cell_type": "code",
   "execution_count": 5,
   "metadata": {},
   "outputs": [
    {
     "data": {
      "text/plain": [
       "'e'"
      ]
     },
     "execution_count": 5,
     "metadata": {},
     "output_type": "execute_result"
    }
   ],
   "source": [
    "lettres[2]"
   ]
  },
  {
   "cell_type": "markdown",
   "metadata": {},
   "source": [
    "Le slice correspond à l'utilisation de deux index séparés par : pour récupérer un sous ensemble de la liste dans un mécanisme de recopie."
   ]
  },
  {
   "cell_type": "code",
   "execution_count": null,
   "metadata": {},
   "outputs": [],
   "source": [
    "lettres[2:7]"
   ]
  },
  {
   "cell_type": "markdown",
   "metadata": {},
   "source": [
    "Pas de valeur après les : revient à aller jusqu'à la fin de la liste"
   ]
  },
  {
   "cell_type": "code",
   "execution_count": null,
   "metadata": {},
   "outputs": [],
   "source": [
    "lettres[2:]"
   ]
  },
  {
   "cell_type": "markdown",
   "metadata": {},
   "source": [
    "Pas de valeur avant les : revient à démarrer du début de la liste"
   ]
  },
  {
   "cell_type": "code",
   "execution_count": null,
   "metadata": {},
   "outputs": [],
   "source": [
    "lettres[:7]"
   ]
  },
  {
   "cell_type": "markdown",
   "metadata": {},
   "source": [
    "Absence de valeur des 2 côtés des : revient à faire une copie de toute la liste"
   ]
  },
  {
   "cell_type": "code",
   "execution_count": null,
   "metadata": {},
   "outputs": [],
   "source": [
    "lettres[:]"
   ]
  },
  {
   "cell_type": "markdown",
   "metadata": {},
   "source": [
    "L'utiisation d'index négatif permet de spécifier une position en partant de la fin"
   ]
  },
  {
   "cell_type": "code",
   "execution_count": null,
   "metadata": {},
   "outputs": [],
   "source": [
    "lettres[-3:]"
   ]
  },
  {
   "cell_type": "code",
   "execution_count": null,
   "metadata": {},
   "outputs": [],
   "source": [
    "lettres[:-3]"
   ]
  },
  {
   "cell_type": "markdown",
   "metadata": {},
   "source": [
    "Une troisième valeur permet de définir le pas, elle est de 1 par défaut quand elle n'est pas spécifiée"
   ]
  },
  {
   "cell_type": "code",
   "execution_count": null,
   "metadata": {},
   "outputs": [],
   "source": [
    "# dans le slice \n",
    "liste = ['a', 'b', 'c', 'd', 'e', 'f']\n",
    "liste[0:7:2]"
   ]
  },
  {
   "cell_type": "markdown",
   "metadata": {},
   "source": [
    "Les slices peuvent être utilisées dans certaines fonctions pour agir sur certains éléments d'une liste"
   ]
  },
  {
   "cell_type": "code",
   "execution_count": null,
   "metadata": {},
   "outputs": [],
   "source": [
    "liste = ['a', 'b', 'c', 'd', 'e', 'f']\n",
    "del liste[3:]\n",
    "print(liste)"
   ]
  },
  {
   "cell_type": "markdown",
   "metadata": {},
   "source": [
    "### Des slices sur les chaines ..."
   ]
  },
  {
   "cell_type": "code",
   "execution_count": 7,
   "metadata": {},
   "outputs": [
    {
     "data": {
      "text/plain": [
       "'ertyu'"
      ]
     },
     "execution_count": 7,
     "metadata": {},
     "output_type": "execute_result"
    }
   ],
   "source": [
    "chaine = 'azertyuiop'\n",
    "chaine[2:7]"
   ]
  },
  {
   "cell_type": "markdown",
   "metadata": {},
   "source": [
    "## Références partagées, Shallow Copy et Deep Copy"
   ]
  },
  {
   "cell_type": "markdown",
   "metadata": {},
   "source": [
    "### Références partagées sur des objets non mutables"
   ]
  },
  {
   "cell_type": "code",
   "execution_count": null,
   "metadata": {},
   "outputs": [],
   "source": [
    "a = 2\n",
    "b = a\n",
    "b"
   ]
  },
  {
   "cell_type": "markdown",
   "metadata": {},
   "source": [
    "Les variable b et a référencent maintenant le même objet de type int\n",
    "Ce type d'objet non mutable, il ne peut pas être modifié \"en place\"."
   ]
  },
  {
   "cell_type": "code",
   "execution_count": null,
   "metadata": {},
   "outputs": [],
   "source": [
    "b = 3"
   ]
  },
  {
   "cell_type": "markdown",
   "metadata": {},
   "source": [
    "b référence maintenant un nouvel objet de type int dont la valeur est 3 ...\n",
    "\n",
    "mais a référence toujours l'objet int initial avec la valeur 2"
   ]
  },
  {
   "cell_type": "code",
   "execution_count": null,
   "metadata": {},
   "outputs": [],
   "source": [
    "a"
   ]
  },
  {
   "cell_type": "markdown",
   "metadata": {},
   "source": [
    "### Références partagées sur des objets mutables (exemple avec les listes)"
   ]
  },
  {
   "cell_type": "code",
   "execution_count": null,
   "metadata": {},
   "outputs": [],
   "source": [
    "liste_a = [[1, 2], 'b', 'c', 'd']\n",
    "liste_b = liste_a\n",
    "liste_b"
   ]
  },
  {
   "cell_type": "markdown",
   "metadata": {},
   "source": [
    "Modification d'un éléments dans une liste par une référence partagée"
   ]
  },
  {
   "cell_type": "code",
   "execution_count": null,
   "metadata": {},
   "outputs": [],
   "source": [
    "liste_b[1] = 123\n",
    "liste_b"
   ]
  },
  {
   "cell_type": "markdown",
   "metadata": {},
   "source": [
    "liste_b et liste_a référencent le même objet list.\n",
    "\n",
    "l'objet list étant mutable, si on le modifie depuis la variable liste_b, liste_a montrera bien cette modiication"
   ]
  },
  {
   "cell_type": "code",
   "execution_count": null,
   "metadata": {},
   "outputs": [],
   "source": [
    "liste_a"
   ]
  },
  {
   "cell_type": "markdown",
   "metadata": {},
   "source": [
    "### Modification d'un élément mutable suite à la création d'un nouvel objet par une copie (list.copy() ou slice)"
   ]
  },
  {
   "cell_type": "code",
   "execution_count": null,
   "metadata": {},
   "outputs": [],
   "source": [
    "liste_a = [[1, 2], 'b', 'c', 'd']\n",
    "# création de liste_b par copie de liste_a\n",
    "liste_b = liste_a.copy()\n",
    "# modification de liste_b\n",
    "liste_b[1] = 789\n",
    "liste_b"
   ]
  },
  {
   "cell_type": "markdown",
   "metadata": {},
   "source": [
    "et regardons ce qu'il se passe dans liste_a"
   ]
  },
  {
   "cell_type": "code",
   "execution_count": null,
   "metadata": {},
   "outputs": [],
   "source": [
    "liste_a"
   ]
  },
  {
   "cell_type": "markdown",
   "metadata": {},
   "source": [
    "Après la copie, liste_a et liste_b référencent 2 objets différents qui référencent eux même les mêmes objets.\n",
    "\n",
    "En modifiant l'objet liste_b on change une des ses réfences sans changer les références contenues dans liste_a."
   ]
  },
  {
   "cell_type": "markdown",
   "metadata": {},
   "source": [
    "Au passage on peut vérifier avec une autre méthode de copie de liste déjà vue : le slice"
   ]
  },
  {
   "cell_type": "code",
   "execution_count": null,
   "metadata": {},
   "outputs": [],
   "source": [
    "liste_a = [[1, 2], 'b', 'c', 'd']\n",
    "# création de liste_b par slice vide de liste_a\n",
    "liste_b = liste_a[:]\n",
    "# modification de liste_b\n",
    "liste_b[1] = 789\n",
    "liste_b"
   ]
  },
  {
   "cell_type": "code",
   "execution_count": null,
   "metadata": {},
   "outputs": [],
   "source": [
    "liste_a"
   ]
  },
  {
   "cell_type": "markdown",
   "metadata": {},
   "source": [
    "#### Mais attention cette copie n'est pas complète et ne concerne que les éléments DIRECTEMENT référencés dans la list, on parle de Shallow Copy.\n",
    "Si l'élément modifié au sein d'un objet mutable est lui même mutable alors l'utilisation des références partagées peut entrainer des erreurs.\n",
    "\n",
    "Nous avons fait le test avec la modification d'un élément de liste de type str donc non mutable.\n",
    "\n",
    "Modifions maintenant un des éléments de la liste [1, 2] contenu dans le premier étément de la liste référencée par les variables liste_a et liste_b : "
   ]
  },
  {
   "cell_type": "code",
   "execution_count": null,
   "metadata": {},
   "outputs": [],
   "source": [
    "liste_a = [[1, 2], 'b', 'c', 'd']\n",
    "\n",
    "# Copie de la liste dans un nouvel objet via un slice\n",
    "liste_b = liste_a[:]\n",
    "\n",
    "# modification d'une valeur contenu dans un objet mutable (list) de l'object recopié (lui même mutable)\n",
    "liste_b[0][1] = 789\n",
    "\n",
    "liste_a"
   ]
  },
  {
   "cell_type": "markdown",
   "metadata": {},
   "source": [
    "Ce résultat peut paraître étrange compte tenu de ce que l'on vient de voir.\n",
    "\n",
    "liste_b[0] et liste_a[0] référencent le même objet de type list [1, 2]\n",
    "C'est cette référence qui se retrouve partagée dans les deux listes suite à la copie.\n",
    "\n",
    "Cette liste [1, 2] référence elle-même 2 objets int : 1 et 2\n",
    "\n",
    "la liste est mutable donc on peut modifier [1, 2] sans en changer les références dans liste_a et liste_b qui continueront donc de partager le même objet.\n",
    "\n",
    "=> On peut penser avoir fait une copie complète des données mais en fait on conserve des éléments partagée aux deux objet ce qui peut être source d'erreur !"
   ]
  },
  {
   "cell_type": "markdown",
   "metadata": {},
   "source": [
    "Pour garantir une copie complète et recursive de toutes les objets référencés dans un objet, il faut réaliser une Deep Copy"
   ]
  },
  {
   "cell_type": "code",
   "execution_count": null,
   "metadata": {},
   "outputs": [],
   "source": [
    "import copy\n",
    "liste_a = [[1, 2], 'b', 'c', 'd']\n",
    "liste_b = copy.deepcopy(liste_a)\n",
    "\n",
    "liste_b[1] = 123\n",
    "liste_b[0][0] = 456\n",
    "\n",
    "print(liste_a)\n",
    "print(liste_b)"
   ]
  },
  {
   "cell_type": "markdown",
   "metadata": {},
   "source": [
    "## Les compréhensions de liste"
   ]
  },
  {
   "cell_type": "markdown",
   "metadata": {},
   "source": [
    "La compréhension fait en une ligne des opérations sur une liste "
   ]
  },
  {
   "cell_type": "code",
   "execution_count": null,
   "metadata": {},
   "outputs": [],
   "source": [
    "liste = ['1', '2', '3', '4', '5']"
   ]
  },
  {
   "cell_type": "code",
   "execution_count": null,
   "metadata": {},
   "outputs": [],
   "source": [
    "liste_2 = [valeur for valeur in liste]\n",
    "liste_2"
   ]
  },
  {
   "cell_type": "markdown",
   "metadata": {},
   "source": [
    "#### Transformer une valeur"
   ]
  },
  {
   "cell_type": "code",
   "execution_count": null,
   "metadata": {},
   "outputs": [],
   "source": [
    "# solution classique : \n",
    "\n",
    "# on prépare une liste vide pour y mettre les valeurs converties\n",
    "liste_entier = []\n",
    "# on boucle sur les valeutrs de la liste initiale\n",
    "for x in liste:\n",
    "    # on ajoute dans la liste cible le résultat de la conversion \n",
    "    liste_entier.append(int(x))\n",
    "\n",
    "# ce qui donne : \n",
    "liste_entier "
   ]
  },
  {
   "cell_type": "code",
   "execution_count": null,
   "metadata": {},
   "outputs": [],
   "source": [
    "liste_entier = [ int(x) for x in liste ]\n",
    "liste_entier"
   ]
  },
  {
   "cell_type": "markdown",
   "metadata": {},
   "source": [
    "le code est mis entre [] pour bien spécifier qu'on souhaite une liste en sortie\n",
    "puis on indique que pour chaque x de la liste initiale on va calculer int(x)"
   ]
  },
  {
   "cell_type": "markdown",
   "metadata": {},
   "source": [
    "#### Filtrer les éléments à garder pour le résultat"
   ]
  },
  {
   "cell_type": "markdown",
   "metadata": {},
   "source": [
    "On peut aussi ajouter des conditions dans le parcours de la liste initiale : \n",
    "ici on va garder uniquement les éléments dont la valuer est > 3"
   ]
  },
  {
   "cell_type": "code",
   "execution_count": null,
   "metadata": {},
   "outputs": [],
   "source": [
    "liste = [1, 4, 3, 4, 5, 2, 4, 8, 9 , 1, 0]\n",
    "nouvelle_liste = [ x for x in liste if x > 3]\n",
    "nouvelle_liste"
   ]
  },
  {
   "cell_type": "markdown",
   "metadata": {},
   "source": [
    "On peut trés bien filtrer et traiter en même temps : "
   ]
  },
  {
   "cell_type": "code",
   "execution_count": null,
   "metadata": {},
   "outputs": [],
   "source": [
    "liste = ['1', '2', '3', '4', '5']\n",
    "nouvelle_liste = [ int(x) for x in liste if int(x) > 3]\n",
    "nouvelle_liste"
   ]
  },
  {
   "cell_type": "markdown",
   "metadata": {},
   "source": [
    "On peut aussi utiliser 2 listes pour définir les éléments communs : "
   ]
  },
  {
   "cell_type": "code",
   "execution_count": 1,
   "metadata": {},
   "outputs": [
    {
     "data": {
      "text/plain": [
       "[1, 4, 4, 1]"
      ]
     },
     "execution_count": 1,
     "metadata": {},
     "output_type": "execute_result"
    }
   ],
   "source": [
    "ma_liste1 = [1, 2, 3, 4, 4, 6, 8, 1]\n",
    "ma_liste2 = [1, 9, 4, 7, 9]\n",
    "\n",
    "[x for x in ma_liste1 if x in ma_liste2]\n"
   ]
  },
  {
   "cell_type": "markdown",
   "metadata": {},
   "source": [
    "Pour ce qui est des doublons ... on va voir plus bas l'apport du type Set"
   ]
  },
  {
   "cell_type": "markdown",
   "metadata": {},
   "source": [
    "## Sur les dictionnaires ?"
   ]
  },
  {
   "cell_type": "code",
   "execution_count": 2,
   "metadata": {},
   "outputs": [],
   "source": [
    "fruits = [{'nom': 'ananas', \n",
    "          'poids' : 500,\n",
    "          'origine' : 'venezuela'\n",
    "         },\n",
    "          {'nom': 'banane', \n",
    "          'poids' : 50,\n",
    "          'origine' : 'martinique'\n",
    "         },\n",
    "          {'nom': 'fraise', \n",
    "          'poids' : 250,\n",
    "          'origine' : 'espagne'\n",
    "         },\n",
    "         {'nom': 'melon', \n",
    "          'poids' : 735,\n",
    "          'origine' : 'espagne'\n",
    "         }]"
   ]
  },
  {
   "cell_type": "code",
   "execution_count": 3,
   "metadata": {},
   "outputs": [
    {
     "data": {
      "text/plain": [
       "{'ananas': {'nom': 'ananas', 'poids': 500, 'origine': 'venezuela'},\n",
       " 'banane': {'nom': 'banane', 'poids': 50, 'origine': 'martinique'},\n",
       " 'fraise': {'nom': 'fraise', 'poids': 250, 'origine': 'espagne'},\n",
       " 'melon': {'nom': 'melon', 'poids': 735, 'origine': 'espagne'}}"
      ]
     },
     "execution_count": 3,
     "metadata": {},
     "output_type": "execute_result"
    }
   ],
   "source": [
    "fruits_dict = { fruit[\"nom\"] : fruit for fruit in fruits}\n",
    "fruits_dict"
   ]
  },
  {
   "cell_type": "code",
   "execution_count": 3,
   "metadata": {},
   "outputs": [
    {
     "data": {
      "text/plain": [
       "{'nom': 'ananas', 'poids': 500, 'origine': 'venezuela'}"
      ]
     },
     "execution_count": 3,
     "metadata": {},
     "output_type": "execute_result"
    }
   ],
   "source": [
    "fruits_dict[\"ananas\"]"
   ]
  },
  {
   "cell_type": "markdown",
   "metadata": {},
   "source": [
    "## Les objets set"
   ]
  },
  {
   "cell_type": "code",
   "execution_count": null,
   "metadata": {},
   "outputs": [],
   "source": [
    "mon_set = {1, 2, 3, 4}"
   ]
  },
  {
   "cell_type": "markdown",
   "metadata": {},
   "source": [
    "Comme un set est une collection d'éléments unique on peut s'en servir pour facilement récupérer une liste de valeurs uniques à partir d'une liste avec des doublons"
   ]
  },
  {
   "cell_type": "code",
   "execution_count": null,
   "metadata": {},
   "outputs": [],
   "source": [
    "ma_liste1 = [1, 2, 3, 4, 4, 6, 8, 1]\n",
    "mon_set1 = set(ma_liste1)\n",
    "mon_set1"
   ]
  },
  {
   "cell_type": "code",
   "execution_count": null,
   "metadata": {},
   "outputs": [],
   "source": [
    "ma_liste2 = [1,9,4,7,9]\n",
    "mon_set2 = set(ma_liste2)\n",
    "mon_set2"
   ]
  },
  {
   "cell_type": "markdown",
   "metadata": {},
   "source": [
    "Autre méthode utile sur les set : l'intersection"
   ]
  },
  {
   "cell_type": "code",
   "execution_count": null,
   "metadata": {},
   "outputs": [],
   "source": [
    "mon_set1.intersection(mon_set2)"
   ]
  },
  {
   "cell_type": "markdown",
   "metadata": {},
   "source": [
    "## Les dates en python"
   ]
  },
  {
   "cell_type": "markdown",
   "metadata": {},
   "source": [
    "### Module Datetime"
   ]
  },
  {
   "cell_type": "markdown",
   "metadata": {},
   "source": [
    "L'objet date"
   ]
  },
  {
   "cell_type": "code",
   "execution_count": 3,
   "metadata": {},
   "outputs": [
    {
     "data": {
      "text/plain": [
       "datetime.date(2021, 2, 4)"
      ]
     },
     "execution_count": 3,
     "metadata": {},
     "output_type": "execute_result"
    }
   ],
   "source": [
    "from datetime import date\n",
    "aujourdhui = date.today()\n",
    "aujourdhui"
   ]
  },
  {
   "cell_type": "code",
   "execution_count": 4,
   "metadata": {},
   "outputs": [
    {
     "name": "stdout",
     "output_type": "stream",
     "text": [
      "2021-02-04\n"
     ]
    }
   ],
   "source": [
    "print(aujourdhui)"
   ]
  },
  {
   "cell_type": "markdown",
   "metadata": {},
   "source": [
    "L'objet datetime"
   ]
  },
  {
   "cell_type": "code",
   "execution_count": 5,
   "metadata": {},
   "outputs": [],
   "source": [
    "from datetime import datetime"
   ]
  },
  {
   "cell_type": "code",
   "execution_count": 6,
   "metadata": {},
   "outputs": [
    {
     "data": {
      "text/plain": [
       "datetime.datetime(2021, 2, 4, 18, 37, 42, 733780)"
      ]
     },
     "execution_count": 6,
     "metadata": {},
     "output_type": "execute_result"
    }
   ],
   "source": [
    "maintenant = datetime.now()\n",
    "maintenant"
   ]
  },
  {
   "cell_type": "code",
   "execution_count": 7,
   "metadata": {},
   "outputs": [
    {
     "name": "stdout",
     "output_type": "stream",
     "text": [
      "2021-02-04 18:37:42.733780\n"
     ]
    }
   ],
   "source": [
    "print(maintenant)"
   ]
  },
  {
   "cell_type": "code",
   "execution_count": 8,
   "metadata": {},
   "outputs": [
    {
     "data": {
      "text/plain": [
       "42"
      ]
     },
     "execution_count": 8,
     "metadata": {},
     "output_type": "execute_result"
    }
   ],
   "source": [
    "maintenant.second"
   ]
  },
  {
   "cell_type": "code",
   "execution_count": 9,
   "metadata": {},
   "outputs": [
    {
     "data": {
      "text/plain": [
       "datetime.datetime(1900, 2, 4, 18, 37, 42, 733780)"
      ]
     },
     "execution_count": 9,
     "metadata": {},
     "output_type": "execute_result"
    }
   ],
   "source": [
    "date2 = maintenant.replace(year=1900)\n",
    "date2"
   ]
  },
  {
   "cell_type": "markdown",
   "metadata": {},
   "source": [
    "Passer d'un datetime à sa date"
   ]
  },
  {
   "cell_type": "code",
   "execution_count": 10,
   "metadata": {},
   "outputs": [
    {
     "name": "stdout",
     "output_type": "stream",
     "text": [
      "2021-02-04\n"
     ]
    }
   ],
   "source": [
    "maintenant = datetime.now()\n",
    "aujourdhui = maintenant.date()\n",
    "print(aujourdhui)"
   ]
  },
  {
   "cell_type": "markdown",
   "metadata": {},
   "source": [
    "#### Formater une date/time en chaine et inversement"
   ]
  },
  {
   "cell_type": "code",
   "execution_count": 11,
   "metadata": {},
   "outputs": [
    {
     "data": {
      "text/plain": [
       "'2021-02-04 18:37:44.766183'"
      ]
     },
     "execution_count": 11,
     "metadata": {},
     "output_type": "execute_result"
    }
   ],
   "source": [
    "maintenant.strftime('%Y-%m-%d %H:%M:%S.%f')"
   ]
  },
  {
   "cell_type": "code",
   "execution_count": 12,
   "metadata": {},
   "outputs": [
    {
     "data": {
      "text/plain": [
       "datetime.datetime(2020, 11, 2, 19, 0, 0, 1)"
      ]
     },
     "execution_count": 12,
     "metadata": {},
     "output_type": "execute_result"
    }
   ],
   "source": [
    "text = '2020-11-02 19:00:00.000001'\n",
    "ma_date = datetime.strptime(text, '%Y-%m-%d %H:%M:%S.%f')\n",
    "ma_date"
   ]
  },
  {
   "cell_type": "code",
   "execution_count": 13,
   "metadata": {},
   "outputs": [
    {
     "name": "stdout",
     "output_type": "stream",
     "text": [
      "2020-11-02 19:00:00.000001\n"
     ]
    }
   ],
   "source": [
    "print(ma_date)"
   ]
  },
  {
   "cell_type": "markdown",
   "metadata": {},
   "source": [
    "#### timedelta"
   ]
  },
  {
   "cell_type": "code",
   "execution_count": 14,
   "metadata": {},
   "outputs": [],
   "source": [
    "from datetime import timedelta"
   ]
  },
  {
   "cell_type": "markdown",
   "metadata": {},
   "source": [
    "##### Créer un timedelta à partir de deux objets datetime"
   ]
  },
  {
   "cell_type": "code",
   "execution_count": 15,
   "metadata": {},
   "outputs": [
    {
     "data": {
      "text/plain": [
       "datetime.timedelta(days=93, seconds=85072, microseconds=616054)"
      ]
     },
     "execution_count": 15,
     "metadata": {},
     "output_type": "execute_result"
    }
   ],
   "source": [
    "ma_date = datetime.strptime('2020-11-02 19:00:00.000001', '%Y-%m-%d %H:%M:%S.%f')\n",
    "maintenant = datetime.now()\n",
    "maintenant - ma_date"
   ]
  },
  {
   "cell_type": "markdown",
   "metadata": {},
   "source": [
    "##### Utiliser un objet timedelta pour déterminer une nouvelle date à partir d'une date donnée"
   ]
  },
  {
   "cell_type": "code",
   "execution_count": 16,
   "metadata": {},
   "outputs": [
    {
     "data": {
      "text/plain": [
       "datetime.datetime(2021, 2, 5, 18, 37, 59, 566880)"
      ]
     },
     "execution_count": 16,
     "metadata": {},
     "output_type": "execute_result"
    }
   ],
   "source": [
    "maintenant = datetime.now()\n",
    "maintenant + timedelta(days=1, seconds=1)"
   ]
  },
  {
   "cell_type": "markdown",
   "metadata": {},
   "source": [
    "#### Date ISO 8601"
   ]
  },
  {
   "cell_type": "code",
   "execution_count": 17,
   "metadata": {},
   "outputs": [
    {
     "data": {
      "text/plain": [
       "datetime.datetime(2011, 11, 4, 0, 5, 23, tzinfo=datetime.timezone(datetime.timedelta(seconds=14400)))"
      ]
     },
     "execution_count": 17,
     "metadata": {},
     "output_type": "execute_result"
    }
   ],
   "source": [
    "datetime.fromisoformat('2011-11-04T00:05:23+04:00')"
   ]
  },
  {
   "cell_type": "code",
   "execution_count": 18,
   "metadata": {},
   "outputs": [
    {
     "data": {
      "text/plain": [
       "'2020-11-02T19:00:00.000001'"
      ]
     },
     "execution_count": 18,
     "metadata": {},
     "output_type": "execute_result"
    }
   ],
   "source": [
    "ma_date = datetime.strptime('2020-11-02 19:00:00.000001', '%Y-%m-%d %H:%M:%S.%f')\n",
    "ma_date.isoformat()"
   ]
  },
  {
   "cell_type": "markdown",
   "metadata": {},
   "source": [
    "### Module time"
   ]
  },
  {
   "cell_type": "code",
   "execution_count": 13,
   "metadata": {},
   "outputs": [
    {
     "name": "stdout",
     "output_type": "stream",
     "text": [
      "10.000483099996927\n"
     ]
    }
   ],
   "source": [
    "import time \n",
    "t1 = time.perf_counter()\n",
    "time.sleep(10)\n",
    "duree = time.perf_counter() - t1\n",
    "\n",
    "print(duree)\n"
   ]
  },
  {
   "cell_type": "markdown",
   "metadata": {},
   "source": [
    "### Package Arrow"
   ]
  },
  {
   "cell_type": "markdown",
   "metadata": {},
   "source": [
    "https://arrow.readthedocs.io/en/stable/"
   ]
  }
 ],
 "metadata": {
  "kernelspec": {
   "display_name": "Python 3",
   "language": "python",
   "name": "python3"
  },
  "language_info": {
   "codemirror_mode": {
    "name": "ipython",
    "version": 3
   },
   "file_extension": ".py",
   "mimetype": "text/x-python",
   "name": "python",
   "nbconvert_exporter": "python",
   "pygments_lexer": "ipython3",
   "version": "3.8.6"
  }
 },
 "nbformat": 4,
 "nbformat_minor": 4
}
