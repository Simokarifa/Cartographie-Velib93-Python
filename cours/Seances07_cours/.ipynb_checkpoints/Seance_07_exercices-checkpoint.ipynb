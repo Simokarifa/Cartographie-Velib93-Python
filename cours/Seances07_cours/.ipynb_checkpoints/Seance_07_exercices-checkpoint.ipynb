{
 "cells": [
  {
   "cell_type": "markdown",
   "metadata": {},
   "source": [
    "#### Reprendre l'exemple du cours qui scrape la page insee de tous les pays et ajouter une étape intérmédiaire permettant de récupérer les noms continents et de les ajouter comme 'attributs' des pays"
   ]
  },
  {
   "cell_type": "markdown",
   "metadata": {},
   "source": [
    "###### Commencer ici par faire un code qui va boucler sur les continents contenus dans la page"
   ]
  },
  {
   "cell_type": "code",
   "execution_count": null,
   "metadata": {},
   "outputs": [],
   "source": []
  },
  {
   "cell_type": "markdown",
   "metadata": {},
   "source": [
    "###### Puis y ajouter le code issu du cours pour traiter les pays"
   ]
  },
  {
   "cell_type": "code",
   "execution_count": null,
   "metadata": {},
   "outputs": [],
   "source": []
  },
  {
   "cell_type": "markdown",
   "metadata": {},
   "source": [
    "#### Créer une fonction qui prend en paramètre des coordonnées et retourne une adresse\n",
    "\n",
    "Indications\n",
    "- construire un dictionnaire des paramètres d'URL : mes_params = {'lat':48.8736809161, 'lon': 2.29025241063}\n",
    "- utiliser le paramètre params de la methode get\n",
    "- utiliser request.get() pour faire les requêtes Web\n",
    "- utiliser json.load(r.text) pour convertir le text brut de la requête en dict et récupérer \n",
    "\n",
    "la fonction doit retourner : \n",
    "- l'adresse si le geocodage inverse est bon\n",
    "- un texte \"Geocodage impossible\" sinon\n",
    "\n",
    "\n",
    "Attention : mettre tous les 'import' necessaires pour votre code pour ne pas dépendre des import des cellules précédantes\n"
   ]
  },
  {
   "cell_type": "code",
   "execution_count": null,
   "metadata": {},
   "outputs": [],
   "source": [
    "# compléter la fonction ici :\n",
    "def reverse(lat, lon):\n",
    "    pass"
   ]
  },
  {
   "cell_type": "code",
   "execution_count": null,
   "metadata": {},
   "outputs": [],
   "source": [
    "# appeler la fonction ici : \n",
    "reverse(48.8736, 2.3145)"
   ]
  },
  {
   "cell_type": "markdown",
   "metadata": {},
   "source": [
    "#### A partir de la liste d'arbres ci-dessous utiliser la fonction développée à l'exercice précedent pour récupérer l'adresse la plus proche et l'ajouter à chaque dictionnaire d'arbre de la liste\n",
    "\n",
    "Indications : \n",
    "- boucle sur chaque élément de la liste avec une boucle for\n",
    "- dans la boucle, ajouter un index 'adresse' à chaque élément pour y mettre le résultat de la fonction\n",
    "\n",
    "Rappel sur le modèle d'URL de l'API Adresse de Revers Geocoding à appeler par une requête GET :\n",
    "\n",
    "https://api-adresse.data.gouv.fr/reverse/?lon=2.37&lat=48.357"
   ]
  },
  {
   "cell_type": "code",
   "execution_count": null,
   "metadata": {},
   "outputs": [],
   "source": [
    "arbres = [\n",
    "    {'point':(48.8736809161,2.29025241063), 'type':'sapin'},\n",
    "    {'point':(48.8577764958,2.31452314446), 'type':'erable'},\n",
    "    {'point':(48.8678069026,2.38883414897), 'type':'sapin'},\n",
    "    {'point':(48.8183891866,2.43791851368), 'type':'erable'},\n",
    "    {'point':(488465652331,2.25242001202), 'type':'pin'},\n",
    "    {'point':(48.857749011,2.33940394029), 'type':'platane'}\n",
    "]"
   ]
  },
  {
   "cell_type": "markdown",
   "metadata": {},
   "source": [
    "Noter que le 5ème arbre a une coordonnée fausse, si elle fait planter votre fonction c'est que des cas ne sont pas assez bien gérés"
   ]
  },
  {
   "cell_type": "code",
   "execution_count": null,
   "metadata": {},
   "outputs": [],
   "source": [
    "# votre code ici : \n"
   ]
  },
  {
   "cell_type": "markdown",
   "metadata": {},
   "source": [
    "### Récupérer l'adresse de l'entreprise suivante via l'API SIREN de l'INSEE puis géocodez là via l'API Adresse"
   ]
  },
  {
   "cell_type": "code",
   "execution_count": null,
   "metadata": {},
   "outputs": [],
   "source": [
    "nom = \"Vill'up\""
   ]
  },
  {
   "cell_type": "code",
   "execution_count": null,
   "metadata": {},
   "outputs": [],
   "source": [
    "# votre code ici : \n"
   ]
  },
  {
   "cell_type": "markdown",
   "metadata": {},
   "source": [
    "#### Créer une carte et avec un marker par élément de la liste"
   ]
  },
  {
   "cell_type": "code",
   "execution_count": null,
   "metadata": {},
   "outputs": [],
   "source": [
    "# votre code ici : \n"
   ]
  }
 ],
 "metadata": {
  "kernelspec": {
   "display_name": "Python 3",
   "language": "python",
   "name": "python3"
  },
  "language_info": {
   "codemirror_mode": {
    "name": "ipython",
    "version": 3
   },
   "file_extension": ".py",
   "mimetype": "text/x-python",
   "name": "python",
   "nbconvert_exporter": "python",
   "pygments_lexer": "ipython3",
   "version": "3.7.4"
  }
 },
 "nbformat": 4,
 "nbformat_minor": 4
}
