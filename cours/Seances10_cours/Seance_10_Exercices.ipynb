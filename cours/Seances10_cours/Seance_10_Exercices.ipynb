{
 "cells": [
  {
   "cell_type": "markdown",
   "metadata": {},
   "source": [
    "# Séance 10 : Exercices et Scripts"
   ]
  },
  {
   "cell_type": "markdown",
   "metadata": {},
   "source": [
    "## Exercice 1"
   ]
  },
  {
   "cell_type": "markdown",
   "metadata": {},
   "source": [
    "Créer une fonction qui va traiter une liste pour mettre ses élements texte en minuscule ou majuscule selon ce qu'on lui demande"
   ]
  },
  {
   "cell_type": "code",
   "execution_count": null,
   "metadata": {},
   "outputs": [],
   "source": [
    "ma_liste = [1, \"ZoZ\", [1, 2], \"Prenom\", \"NOM\", {\"nom\" : \"toto\"}]"
   ]
  },
  {
   "cell_type": "code",
   "execution_count": null,
   "metadata": {},
   "outputs": [],
   "source": [
    "def mafonction(liste, traitement):\n",
    "    \"\"\"\n",
    "    documentation\n",
    "    \"\"\"\n",
    "    # on initie une nouvelle liste vide qui sera le résultat\n",
    "    nouvelle_liste = []\n",
    "    \n",
    "    # boucler sur les éléments de la liste\n",
    "    for elem in liste :\n",
    "        \n",
    "        # vérifier si l'élément est bien une chaine\n",
    "        if type(elem) == str:\n",
    "            # appliquer le bon traitement\n",
    "            if traitement == 'M':\n",
    "                nouvelle_liste.append(elem.upper())\n",
    "            elif traitement == 'm':\n",
    "                nouvelle_liste.append(elem.lower())\n",
    "            else :\n",
    "                pass\n",
    "        else :\n",
    "            nouvelle_liste.append(elem)\n",
    "    \n",
    "    return nouvelle_liste       \n",
    "\n",
    "# appel de la fonction\n"
   ]
  },
  {
   "cell_type": "code",
   "execution_count": null,
   "metadata": {},
   "outputs": [],
   "source": [
    "mafonction(ma_liste, \"m\")"
   ]
  },
  {
   "cell_type": "markdown",
   "metadata": {},
   "source": [
    "## Exercice 2"
   ]
  },
  {
   "cell_type": "markdown",
   "metadata": {},
   "source": [
    "Une population d'étudiants a été notée pendant l'année.\n",
    "chaque note obtenue (sur 20) est associée à un coefficient tel qu'une épreuve se retrouve notée comme suit : (note, coéfficient)\n",
    "certaines notes ont un coéfficient à 0 car les devoirs rendus sont des bonus : seuls les points au dessus de 10 sont ajoutés avant de calculer la moyenne.\n",
    "\n",
    "Créer une fonction 'calcmoyennes' qui pour un étudiant calculera ses moyennes pondérées\n",
    "- en prenant en compte les notes des devoirs optionnels\n",
    "- sans prendre en compte les notes des devoir optionnelles\n",
    "Les deux valeurs seront retournées sous la forme d'un tuple (moyenne sans bonus, moyenne avec bonus)\n",
    "\n",
    "le résultat est mis dans un dictionnaire\n",
    "\n",
    "{\n",
    "\n",
    "    'moyenne_bonus' : 13,\n",
    "    'moyenne': 12\n",
    "}\n",
    "        "
   ]
  },
  {
   "cell_type": "code",
   "execution_count": null,
   "metadata": {},
   "outputs": [],
   "source": [
    "notes = {\n",
    "    'donald' : [(12,4), (10,2), (9,3), (15,1)],\n",
    "    'pluto' : [(11,4), (8,2), (12,3), (14,1), (15,0)],\n",
    "    'mickey' : [(12,4), (13,2), (16,3), (10,1), ],\n",
    "    'minie' : [(18,4), (11,2), (15,3), (9,1), (18,0)],\n",
    "    'daisy' : [(5,4), (14,2), (10,3), (11,1), ],\n",
    "    'picsou' : [(13,4), (11,2), (12,3), (15,1), (16,0)]\n",
    "}"
   ]
  },
  {
   "cell_type": "code",
   "execution_count": null,
   "metadata": {},
   "outputs": [],
   "source": [
    "# votre fonction ici\n",
    "\n",
    "\n",
    "# Appel de la fonction\n"
   ]
  },
  {
   "cell_type": "markdown",
   "metadata": {},
   "source": [
    "## Excercie 3"
   ]
  },
  {
   "cell_type": "markdown",
   "metadata": {},
   "source": [
    "A partir de l'exercice 2 créer une fonction 'calcmoyennesListe' qui va s'occuper de créer les moyennes pour tous les éléves et qui va créer un nouvel ensemble formatté comme suit : \n",
    "\n",
    "moyennes = {\n",
    "\n",
    "    'donald' : {\n",
    "        'moyenne_bonus' : 13,\n",
    "        'moyenne': 12},\n",
    "        },\n",
    "    ...\n",
    "}\n"
   ]
  },
  {
   "cell_type": "code",
   "execution_count": null,
   "metadata": {},
   "outputs": [],
   "source": [
    "# votre fonction ici  \n",
    "    \n",
    "\n",
    "# Appel de la fonction\n",
    "calcmoyennesListe(notes)"
   ]
  },
  {
   "cell_type": "markdown",
   "metadata": {},
   "source": [
    "## Excercice 4 (travail sur 2 dictionnaires)"
   ]
  },
  {
   "cell_type": "markdown",
   "metadata": {},
   "source": [
    "Soit les deux dictionnaires ci-dessous.\n",
    "créer une fonction 'fusion' qui va les fusionner sur la base des clés communes et obtenir le résultat suivant : \n",
    "\n",
    "\n",
    "\n",
    "{\n",
    "\n",
    " 'donald': {\n",
    "    'notes': [(12, 4), (10, 2), (9, 3), (15, 1)],\n",
    "    'moyennes': {'moyenne_bonus': 11.0, 'moyenne': 11.0}\n",
    "    },\n",
    " 'pluto': {\n",
    "    'notes': [(11, 4), (8, 2), (12, 3), (14, 1), (15, 0)],\n",
    "   'moyennes': {'moyenne_bonus': 11.5, 'moyenne': 11.0}\n",
    "   },\n",
    " ...\n",
    " \n",
    " }\n"
   ]
  },
  {
   "cell_type": "code",
   "execution_count": null,
   "metadata": {},
   "outputs": [],
   "source": [
    "notes = {\n",
    "    'donald' : [(12,4), (10,2), (9,3), (15,1), ],\n",
    "    'pluto' : [(11,4), (8,2), (12,3), (14,1), (15,0)],\n",
    "    'mickey' : [(12,4), (13,2), (16,3), (10,1), ],\n",
    "    'minie' : [(18,4), (11,2), (15,3), (9,1), (18,0)],\n",
    "    'daisy' : [(5,4), (14,2), (10,3), (11,1), ],\n",
    "    'picsou' : [(13,4), (11,2), (12,3), (15,1), (16,0)]\n",
    "}\n",
    "\n",
    "moyennes = {\n",
    "    'donald': {'moyenne_bonus': 11.0, 'moyenne': 11.0},\n",
    "    'pluto': {'moyenne_bonus': 11.5, 'moyenne': 11.0},\n",
    "    'mickey': {'moyenne_bonus': 13.2, 'moyenne': 13.2},\n",
    "    'minie': {'moyenne_bonus': 15.6, 'moyenne': 14.8},\n",
    "    'daisy': {'moyenne_bonus': 8.9, 'moyenne': 8.9},\n",
    "    'picsou': {'moyenne_bonus': 13.1, 'moyenne': 12.5}\n",
    "}\n"
   ]
  },
  {
   "cell_type": "code",
   "execution_count": null,
   "metadata": {},
   "outputs": [],
   "source": [
    "# votre fonction ici \n",
    "def fusion(lesnotes, lesmoyennes) : \n",
    "\n",
    "    \n",
    "# Appel de la fonction\n"
   ]
  },
  {
   "cell_type": "markdown",
   "metadata": {},
   "source": [
    "## Excercice 5"
   ]
  },
  {
   "cell_type": "markdown",
   "metadata": {},
   "source": [
    "Faire comme pour l'excercice 4 une fonction 'fusion2' qui va fusionner notes et moyennes mais pour générer un résultat sous forme de liste\n",
    "\n",
    "[\n",
    "   \n",
    "   {\n",
    "        \n",
    "        \"nom\" : donald,\n",
    "        \"notes\" : [(12, 4), (10, 2), (9, 3), (15, 1)],\n",
    "        \"moyenne\" : 11.0,\n",
    "        \"moyenne_bonus\": 11.0\n",
    "    },\n",
    "    ...\n",
    "    \n",
    "]"
   ]
  },
  {
   "cell_type": "code",
   "execution_count": null,
   "metadata": {},
   "outputs": [],
   "source": [
    "# la fonction : \n",
    "\n",
    "\n",
    "    \n",
    "# Appel de la fonction\n"
   ]
  },
  {
   "cell_type": "markdown",
   "metadata": {},
   "source": [
    "## Exercice 6 (compréhension de liste et dictionnaire)\n",
    "\n",
    "Sans créer une nouvelle fonction, utiliser une compréhension pour générer un dictionnaire à partir de la liste suivante 'liste_etudiants'.\n",
    "\n",
    "le dictionnaire doit avoir le format suivant : \n",
    "\n",
    "{\n",
    "'donald' : {'nom': 'donald',\n",
    "  'notes': [(12, 4), (10, 2), (9, 3), (15, 1)],\n",
    "  'moyenne': 11.0,\n",
    "  'moyenne_bonus': 11.0},\n",
    "...\n",
    "}\n",
    "\n"
   ]
  },
  {
   "cell_type": "code",
   "execution_count": null,
   "metadata": {},
   "outputs": [],
   "source": [
    "liste_etudiants = [{'nom': 'donald',\n",
    "  'notes': [(12, 4), (10, 2), (9, 3), (15, 1)],\n",
    "  'moyenne': 11.0,\n",
    "  'moyenne_bonus': 11.0},\n",
    " {'nom': 'pluto',\n",
    "  'notes': [(11, 4), (8, 2), (12, 3), (14, 1), (15, 0)],\n",
    "  'moyenne': 11.0,\n",
    "  'moyenne_bonus': 11.5},\n",
    " {'nom': 'mickey',\n",
    "  'notes': [(12, 4), (13, 2), (16, 3), (10, 1)],\n",
    "  'moyenne': 13.2,\n",
    "  'moyenne_bonus': 13.2},\n",
    " {'nom': 'minie',\n",
    "  'notes': [(18, 4), (11, 2), (15, 3), (9, 1), (18, 0)],\n",
    "  'moyenne': 14.8,\n",
    "  'moyenne_bonus': 15.6},\n",
    " {'nom': 'daisy',\n",
    "  'notes': [(5, 4), (14, 2), (10, 3), (11, 1)],\n",
    "  'moyenne': 8.9,\n",
    "  'moyenne_bonus': 8.9},\n",
    " {'nom': 'picsou',\n",
    "  'notes': [(13, 4), (11, 2), (12, 3), (15, 1), (16, 0)],\n",
    "  'moyenne': 12.5,\n",
    "  'moyenne_bonus': 13.1}]"
   ]
  },
  {
   "cell_type": "code",
   "execution_count": null,
   "metadata": {},
   "outputs": [],
   "source": [
    "# votre code ici : \n"
   ]
  },
  {
   "cell_type": "code",
   "execution_count": null,
   "metadata": {},
   "outputs": [],
   "source": []
  }
 ],
 "metadata": {
  "kernelspec": {
   "display_name": "Python 3",
   "language": "python",
   "name": "python3"
  },
  "language_info": {
   "codemirror_mode": {
    "name": "ipython",
    "version": 3
   },
   "file_extension": ".py",
   "mimetype": "text/x-python",
   "name": "python",
   "nbconvert_exporter": "python",
   "pygments_lexer": "ipython3",
   "version": "3.7.4"
  }
 },
 "nbformat": 4,
 "nbformat_minor": 4
}
