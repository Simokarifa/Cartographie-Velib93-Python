{
 "cells": [
  {
   "cell_type": "markdown",
   "metadata": {},
   "source": [
    "#### Tests et manipulations d'un dictionnaire "
   ]
  },
  {
   "cell_type": "code",
   "execution_count": 1,
   "metadata": {},
   "outputs": [],
   "source": [
    "fruit = {'nom': 'banane', 'poids' : 50,'origine' : 'martinique'}"
   ]
  },
  {
   "cell_type": "markdown",
   "metadata": {},
   "source": [
    "Est ce que ce fruit est une pêche (comparer son nom) ?"
   ]
  },
  {
   "cell_type": "code",
   "execution_count": 4,
   "metadata": {},
   "outputs": [
    {
     "data": {
      "text/plain": [
       "False"
      ]
     },
     "execution_count": 4,
     "metadata": {},
     "output_type": "execute_result"
    }
   ],
   "source": [
    "# votre code ici \n",
    "fruit['nom']=='peche'"
   ]
  },
  {
   "cell_type": "markdown",
   "metadata": {},
   "source": [
    "Combien de clés dans ce dictionnaire ?"
   ]
  },
  {
   "cell_type": "code",
   "execution_count": 6,
   "metadata": {},
   "outputs": [
    {
     "data": {
      "text/plain": [
       "3"
      ]
     },
     "execution_count": 6,
     "metadata": {},
     "output_type": "execute_result"
    }
   ],
   "source": [
    "# votre code ici \n",
    "len(fruit.keys())"
   ]
  },
  {
   "cell_type": "markdown",
   "metadata": {},
   "source": [
    "Est-ce que ce dictionnaire a une valeur égale à 'italie' ?"
   ]
  },
  {
   "cell_type": "code",
   "execution_count": 7,
   "metadata": {},
   "outputs": [
    {
     "data": {
      "text/plain": [
       "False"
      ]
     },
     "execution_count": 7,
     "metadata": {},
     "output_type": "execute_result"
    }
   ],
   "source": [
    "# votre code ici \n",
    "fruit.items()=='italie'"
   ]
  },
  {
   "cell_type": "markdown",
   "metadata": {},
   "source": [
    "Est-ce que ce dictionnaire à une clés égale à 'poids' ?"
   ]
  },
  {
   "cell_type": "code",
   "execution_count": 10,
   "metadata": {},
   "outputs": [
    {
     "data": {
      "text/plain": [
       "True"
      ]
     },
     "execution_count": 10,
     "metadata": {},
     "output_type": "execute_result"
    }
   ],
   "source": [
    "# votre code ici\n",
    "'poids' in fruit.keys()"
   ]
  },
  {
   "cell_type": "markdown",
   "metadata": {},
   "source": [
    "Est-ce que ce dictionnaire à une clés égale à 'bio' ? si ce n'est pas le cas lui ajouter une clés 'bio' avec comme valeur un booléen à Faux"
   ]
  },
  {
   "cell_type": "code",
   "execution_count": 12,
   "metadata": {},
   "outputs": [
    {
     "name": "stdout",
     "output_type": "stream",
     "text": [
      "{'nom': 'banane', 'poids': 50, 'origine': 'martinique', 'bio': 'False'}\n"
     ]
    }
   ],
   "source": [
    "# votre code ici \n",
    "'bio' in fruit.keys()\n",
    "fruit['bio']='False'\n",
    "print(fruit)"
   ]
  },
  {
   "cell_type": "markdown",
   "metadata": {},
   "source": [
    "Si l'origine est 'martinique' la changer pour 'Martinique'"
   ]
  },
  {
   "cell_type": "code",
   "execution_count": 14,
   "metadata": {},
   "outputs": [
    {
     "name": "stdout",
     "output_type": "stream",
     "text": [
      "{'nom': 'banane', 'poids': 50, 'origine': 'Martinique', 'bio': 'False'}\n"
     ]
    }
   ],
   "source": [
    "# votre code ici \n",
    "fruit['origine']\n",
    "fruit['origine']='Martinique'\n",
    "print(fruit)"
   ]
  },
  {
   "cell_type": "markdown",
   "metadata": {},
   "source": [
    "#### Boucle sur un tableau de dictionnaires"
   ]
  },
  {
   "cell_type": "code",
   "execution_count": 36,
   "metadata": {},
   "outputs": [],
   "source": [
    "fruits = [{'nom': 'ananas', \n",
    "          'poids' : 500,\n",
    "          'origine' : 'venezuela'\n",
    "         },\n",
    "          {'nom': 'banane', \n",
    "          'poids' : 50,\n",
    "          'origine' : 'martinique'\n",
    "         },\n",
    "          {'nom': 'fraise', \n",
    "          'poids' : 250,\n",
    "          'origine' : 'espagne'\n",
    "         },\n",
    "         {'nom': 'melon', \n",
    "          'poids' : 735,\n",
    "          'origine' : 'espagne'\n",
    "         }]"
   ]
  },
  {
   "cell_type": "markdown",
   "metadata": {},
   "source": [
    "Faire une boucle pour changer l'origine des fuits dont l'origine est espagne et changer pour 'italie'"
   ]
  },
  {
   "cell_type": "code",
   "execution_count": 42,
   "metadata": {},
   "outputs": [
    {
     "name": "stdout",
     "output_type": "stream",
     "text": [
      "[{'nom': 'ananas', 'poids': 500, 'origine': 'venezuela'}, {'nom': 'banane', 'poids': 50, 'origine': 'martinique'}, {'nom': 'fraise', 'poids': 250, 'origine': 'italie'}, {'nom': 'melon', 'poids': 735, 'origine': 'italie'}]\n"
     ]
    }
   ],
   "source": [
    "# votre code ici \n",
    "for fruit in fruits:\n",
    "    if fruit['origine']=='espagne':\n",
    "        fruit['origine']='italie' \n",
    "print(fruits)"
   ]
  },
  {
   "cell_type": "markdown",
   "metadata": {},
   "source": [
    "Faire la même bouce pour repasser ces fruits avec une origine 'espagne' et incrémenter un compteur pour dire combien de fuits ont été modifiés"
   ]
  },
  {
   "cell_type": "code",
   "execution_count": 60,
   "metadata": {},
   "outputs": [
    {
     "ename": "SyntaxError",
     "evalue": "invalid syntax (<ipython-input-60-b6924bef98a3>, line 6)",
     "output_type": "error",
     "traceback": [
      "\u001b[1;36m  File \u001b[1;32m\"<ipython-input-60-b6924bef98a3>\"\u001b[1;36m, line \u001b[1;32m6\u001b[0m\n\u001b[1;33m    i=i++\u001b[0m\n\u001b[1;37m         ^\u001b[0m\n\u001b[1;31mSyntaxError\u001b[0m\u001b[1;31m:\u001b[0m invalid syntax\n"
     ]
    }
   ],
   "source": [
    "# votre code ici \n",
    "i=0\n",
    "for fruit in fruits:\n",
    "    if fruit['origine']=='espagne':\n",
    "        fruit['origine']='italie' \n",
    "        i=i++\n",
    "print(i)"
   ]
  },
  {
   "cell_type": "markdown",
   "metadata": {},
   "source": [
    "Faire un boucle pour retirer les clés poids des fruits de la liste"
   ]
  },
  {
   "cell_type": "code",
   "execution_count": null,
   "metadata": {},
   "outputs": [],
   "source": [
    "# votre code ici \n"
   ]
  },
  {
   "cell_type": "markdown",
   "metadata": {},
   "source": [
    "Faire une boucle pour passer en majuscule les noms des fruits"
   ]
  },
  {
   "cell_type": "code",
   "execution_count": null,
   "metadata": {},
   "outputs": [],
   "source": [
    "# votre code ici \n"
   ]
  },
  {
   "cell_type": "markdown",
   "metadata": {},
   "source": [
    "Construire une liste ne contenant que les fruits provenant d'espagne"
   ]
  },
  {
   "cell_type": "code",
   "execution_count": null,
   "metadata": {},
   "outputs": [],
   "source": [
    "# votre code ici \n",
    "nouvelle_liste = []\n"
   ]
  },
  {
   "cell_type": "markdown",
   "metadata": {},
   "source": [
    "#### Lister et formater une chaîne de teste à partir des données\n",
    "\n",
    "Boucler sur les fruits et générer une phrase pour chaque fruit : \n",
    "\n",
    "\"Nom du produit : Fraise, Origine : Espagne\"\n",
    "\n",
    "indication str.title permet de passer le premier caractère d'une chaîne en Majuscule"
   ]
  },
  {
   "cell_type": "code",
   "execution_count": null,
   "metadata": {},
   "outputs": [],
   "source": [
    "# votre code ici \n"
   ]
  },
  {
   "cell_type": "markdown",
   "metadata": {},
   "source": [
    "Faire la même boucle en testant le nom du fruit pour rajouter un article devant le nom dans la chaine à construire. Utiliser un 'or'."
   ]
  },
  {
   "cell_type": "code",
   "execution_count": null,
   "metadata": {},
   "outputs": [],
   "source": [
    "# votre code ici \n"
   ]
  },
  {
   "cell_type": "code",
   "execution_count": null,
   "metadata": {},
   "outputs": [],
   "source": []
  }
 ],
 "metadata": {
  "kernelspec": {
   "display_name": "Python 3",
   "language": "python",
   "name": "python3"
  },
  "language_info": {
   "codemirror_mode": {
    "name": "ipython",
    "version": 3
   },
   "file_extension": ".py",
   "mimetype": "text/x-python",
   "name": "python",
   "nbconvert_exporter": "python",
   "pygments_lexer": "ipython3",
   "version": "3.8.6"
  }
 },
 "nbformat": 4,
 "nbformat_minor": 4
}
