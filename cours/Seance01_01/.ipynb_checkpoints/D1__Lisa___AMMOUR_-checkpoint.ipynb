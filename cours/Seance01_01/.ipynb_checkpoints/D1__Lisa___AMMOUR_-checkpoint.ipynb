{
 "cells": [
  {
   "cell_type": "markdown",
   "metadata": {},
   "source": [
    "# Algorithmique et base de la programmation\n",
    "\n",
    "\n",
    "   # Devoir maison n°01 "
   ]
  },
  {
   "cell_type": "markdown",
   "metadata": {},
   "source": [
    "#PARTIE N°1 : MANIPULATION DES LISTES"
   ]
  },
  {
   "cell_type": "code",
   "execution_count": 1,
   "metadata": {},
   "outputs": [
    {
     "name": "stdout",
     "output_type": "stream",
     "text": [
      "['Lisa AMMOUR', '23 ans', 'Habite à Epinay-Sur-Seine', 'étudiante', 'Université de Paris 8', 'Master 01 Géomatique Géomarketing Géodécisionnelle et Multimédia.']\n"
     ]
    }
   ],
   "source": [
    "#Création de la classe \n",
    "#Définition de la classe Profil en utilisant le mot clé class\n",
    "class Profil:  \n",
    "#Définition du Constructeur, instanciation de la classe avec la fonction __def__init\n",
    "  def __init__(self, name, age, adress, profession, university, formation): #Le paramètre self \n",
    " #représente la variable \n",
    " #qui contient une référence vers l’objet  à créer ( les paramètres de la classe ) \n",
    " #Définition des variables d’instance acessible grace au paramètre self exp : self.age\n",
    "#la variable age : c’est le paramètre reçu par le constructeur   \n",
    "#Définition des variables d’instance acessible grace au paramètre self\n",
    "    self.age = age\n",
    "    self.name = name \n",
    "    self.adress = adress\n",
    "    self.profession = profession\n",
    "    self.university = university\n",
    "    self.formation = formation\n",
    "    \n",
    "#Affichage des variables \n",
    "  def mystockage(self):\n",
    "    print(self.name)  \n",
    "    print(self.age)\n",
    "    print(self.adress) \n",
    "    print(self.profession)\n",
    "    print(self.university) \n",
    "    print(self.formation)\n",
    "    \n",
    "#Stockage des variables dans une liste\n",
    "P = list((\"Lisa AMMOUR\", \"23 ans\", \"Habite à Epinay-Sur-Seine\", \"étudiante\",\n",
    "         \"Université de Paris 8\", \"Master 01 Géomatique Géomarketing Géodécisionnelle et Multimédia.\"))\n",
    "print(P)"
   ]
  },
  {
   "cell_type": "code",
   "execution_count": 2,
   "metadata": {},
   "outputs": [
    {
     "name": "stdout",
     "output_type": "stream",
     "text": [
      "[0, 1, 2, 3, 4, 5, 6, 7, 8, 9, 10]\n",
      "[0, 1, 2, 3, 4, 5, 6, 7, 8, 9, 10, 11, 12, 13, 14, 15, 16, 17, 18, 19, 20, 21, 22, 23, 24, 25, 26, 27, 28, 29, 30, 31, 32, 33, 34, 35, 36, 37, 38, 39, 40, 41, 42, 43, 44, 45, 46, 47, 48, 49, 50, 51, 52, 53, 54, 55, 56, 57, 58, 59, 60, 61, 62, 63, 64, 65, 66, 67, 68, 69, 70, 71, 72, 73, 74, 75, 76, 77, 78, 79, 80, 81, 82, 83, 84, 85, 86, 87, 88, 89, 90, 91, 92, 93, 94, 95, 96, 97, 98, 99, 100]\n"
     ]
    }
   ],
   "source": [
    "#Création de Liste: \n",
    "#Défnir une liste \n",
    "#Dans ce cas là j'ai définit une liste (L1) de nombre entier de 1 à 10\n",
    "L1= [0,1,2,3,4,5,6,7,8,9,10]\n",
    "#print(L1)\n",
    "\n",
    "#Je veux définir ma_liste en utilisant une boucle for\n",
    "L1 = [0]\n",
    "for i in range(1,11):\n",
    "   L1.append(i)\n",
    "print(L1) \n",
    "\n",
    "#si je veux afficher une nouvelle liste(L2) de nombre entier \n",
    "#de 1 à 100 avec la boucle for je procède comme suit\n",
    "L2 = L1\n",
    "L2 = [0]\n",
    "for i in range (1,101):\n",
    "    L2.append(i)\n",
    "print(L2)"
   ]
  },
  {
   "cell_type": "code",
   "execution_count": 3,
   "metadata": {},
   "outputs": [
    {
     "name": "stdout",
     "output_type": "stream",
     "text": [
      "[0, 5, 14, 27, 44, 65, 90, 119, 152, 189, 230, 275, 324, 377, 434, 495, 560, 629, 702, 779]\n"
     ]
    }
   ],
   "source": [
    "#Définir une liste en compréhension avec la boucle for \n",
    "#on va utiliser les deux listes précédentes L1 et L2\n",
    "L1 =[i for i in range(11)]\n",
    "#print (L1)\n",
    "\n",
    "L2 = [x*(3+2*x) for x in range (20)]\n",
    "print (L2)\n",
    "#Cette méthode nous a permis de simplifier les méthodes utilisées précedement lors\n",
    "#de la création des deux listes L1 et L2"
   ]
  },
  {
   "cell_type": "code",
   "execution_count": 4,
   "metadata": {},
   "outputs": [
    {
     "name": "stdout",
     "output_type": "stream",
     "text": [
      "[1, 4, 9, 16, 25, 36, 49, 64, 81, 100, 121, 144, 169, 196, 225, 256, 289, 324, 361, 400, 441, 484, 529, 576, 625, 676, 729, 784, 841, 900, 961, 1024, 1089, 1156, 1225, 1296, 1369, 1444, 1521, 1600, 1681, 1764, 1849, 1936, 2025, 2116, 2209, 2304, 2401, 2500, 2601, 2704, 2809, 2916, 3025, 3136, 3249, 3364, 3481, 3600, 3721, 3844, 3969, 4096, 4225, 4356, 4489, 4624, 4761, 4900, 5041, 5184, 5329, 5476, 5625, 5776, 5929, 6084, 6241, 6400, 6561, 6724, 6889, 7056, 7225, 7396, 7569, 7744, 7921, 8100, 8281, 8464, 8649, 8836, 9025, 9216, 9409, 9604, 9801, 10000]\n"
     ]
    }
   ],
   "source": [
    "#Définir une liste en compréhension en utilisant la boucle for et la conditionnelle if \n",
    "#Dans mon jeu de données je choisis de générer une liste L3 et L4 \n",
    "#L3 étant une liste composée des carrés des entiers de 1 à 100 \n",
    "\n",
    "#Définition de la liste de compréhension L3 avec la boucle for\n",
    "L3= [x**2 for x in range(1,101)]\n",
    "print(L3)\n",
    "#ce programme m'a permis donc d'obtenir tout les carrés des nombres réels entre 1 et 100"
   ]
  },
  {
   "cell_type": "code",
   "execution_count": 5,
   "metadata": {},
   "outputs": [
    {
     "name": "stdout",
     "output_type": "stream",
     "text": [
      "[5, 10, 15, 20, 25, 30, 35, 40, 45, 50, 55, 60, 65, 70, 75, 80, 85, 90, 95, 100]\n"
     ]
    }
   ],
   "source": [
    "#Définition de la liste de compréhension L4 qui sera composée des nombres entiers de 1 à 100 avec une condition\n",
    "#qui permet d'afficher uniquement les multiples de 5\n",
    "\n",
    "L4= [x for x in range(1,101) if x**2%5==0]\n",
    "print(L4)\n",
    "#cette ligne de programme a permis d'obtenir uniquement les multiples de 5\n"
   ]
  },
  {
   "cell_type": "code",
   "execution_count": 6,
   "metadata": {},
   "outputs": [
    {
     "data": {
      "text/plain": [
       "[0, 2, 4, 6, 8, 16]"
      ]
     },
     "execution_count": 6,
     "metadata": {},
     "output_type": "execute_result"
    }
   ],
   "source": [
    "#Etant donné un élément demandé en « input » \n",
    "#de même nature que l’un au moins des éléments contenu dans la liste,\n",
    "#rechercher les occurrences de cet élément dans la liste et afficher les positions \n",
    "#de cet éléments s’il est présent une ou plusieurs fois dans la liste\n",
    "\n",
    "#Je définis ma liste qui est un mélange de chaine de caractères et de chiffres \n",
    "ma_liste = [\"a\",1,\"a\",1,\"a\",1,\"a\",1,\"a\",1,1,1,\"b\",1,1,1,\"a\",1]\n",
    "ma_liste \n",
    "\n",
    "#je veux rechercher les occurences du chiffre 1 dans ma liste et ses positions\n",
    "#afin de rechercher l'occurence d'un élémendans une liste on utilise la méthode \"count\"\n",
    "#count permet de compter les occurences d'un élément dans une liste\n",
    "ma_liste.count(1)\n",
    "#Cette méthode nous donnera le nombre d'occurence de 1 dans la liste qui est donc (11)fois\n",
    "ma_liste.count(\"a\")\n",
    "#Cette méthode nous donnera le nombre d'occurence de la lettre \"a\" \n",
    "#dans la liste qui est donc de (06)fois.\n",
    "\n",
    "#Pour afficher les positions de cet éléments on utilise la méthode \"index\"\n",
    "#si on utilise directement la ligne suivante 7\n",
    "ma_liste.index(1) \n",
    "#Ou bien\n",
    "ma_liste.index(\"a\")\n",
    "#Le résultat n'affichera que la position du premier élément trouvé \n",
    "#c'est à dire la position 1 pour le chiffre 1 et 0 pour la letre a\n",
    "#Cependant si on veut afficher toutes les positions du chiffre 1 ou de la lettre a\n",
    "#ON POSE UNE CONDITION 'if' avec l'utilisation de la boucle 'for', et de la méthode enumerate\n",
    "#ON obtient ce qui suit \n",
    "ma_liste = [\"a\",1,\"a\",1,\"a\",1,\"a\",1,\"a\",1,1,1,\"b\",1,1,1,\"a\",1]\n",
    "#idx etant l'index et \"e\" , étant notre élément\n",
    "[idx for idx,e in enumerate(ma_liste) if e == 1]\n",
    "#pour la lettre a : \n",
    "[idx for idx,e in enumerate(ma_liste) if e == \"a\"]\n",
    "\n",
    "#Ces deux lignes nous permettrons d'afficher les positions des éléments dans la liste"
   ]
  },
  {
   "cell_type": "code",
   "execution_count": 7,
   "metadata": {},
   "outputs": [
    {
     "name": "stdout",
     "output_type": "stream",
     "text": [
      "200\n"
     ]
    },
    {
     "data": {
      "text/plain": [
       "[11, 12, 13, 15, 16]"
      ]
     },
     "execution_count": 7,
     "metadata": {},
     "output_type": "execute_result"
    }
   ],
   "source": [
    "#Considérer une liste de nombres réels, \n",
    "#écrire un code qui recherche le plus grand élément,affiche sa position et sa valeur.\n",
    "#J'ai définis ma liste de nombres rééls où 200 est le plus grand nombre\n",
    "\n",
    "\n",
    "maliste_NR = [1,2,15,20,45,28,100,40,100,5,100,200,200,200,100,200,200] \n",
    "max_value = max(maliste_NR) #la commande max permet d'identifier le maximum d'une liste \n",
    "print(max_value) #cette ligne me permet d'afficher le maximum de ma liste\n",
    "maliste_NR.count(max_value) #Count: permet de compter l'occurence de mon max dans ma liste\n",
    "\n",
    "#Dans cette étape j'ai défini ma fonction (get_indexes de ma valeur maximale)\n",
    "def get_indexes_max_value(maliste_NR): \n",
    "    max_value= max(maliste_NR) #J'ai rappelé ma valeur maximale stockée dans la mémoire\n",
    "    #J'ai défini une conditionnelle if, suivie d'un else:\n",
    "    #Qui dit que si ma valeur maximale occure plusieurs fois dans ma liste, \n",
    "    #alors mon résultat retournera toutes les positions de ma valeur maximale\n",
    "\n",
    "    if maliste_NR.count(max_value) > 1: \n",
    "        return [idx for idx,e in enumerate(maliste_NR) if e == max(maliste_NR)]\n",
    "   #sinon elle affiche la seule position de ma valeur maximale \n",
    "    else:\n",
    "        return maliste_NR.index(max(maliste_NR))\n",
    "    #NB : on peut retirer le else, on mettant >=1\n",
    "get_indexes_max_value(maliste_NR)\n",
    "                    \n"
   ]
  },
  {
   "cell_type": "markdown",
   "metadata": {},
   "source": [
    "#PARTIE N°02: DESSINER UN ECHIQUIER  "
   ]
  },
  {
   "cell_type": "code",
   "execution_count": 341,
   "metadata": {},
   "outputs": [],
   "source": [
    "#DESSIN : import numpy as np\n",
    "from PIL import Image\n",
    "n = 64 # size of one element, row = 8*n, chessboard = 8*n x 8*n\n",
    "\n",
    "segment_black = np.zeros(shape = [n,n])\n",
    "segment_white = np.ones(shape = [n,n])*255\n",
    "chessboard = np.hstack((segment_black,segment_white))\n",
    "for i in range(4):\n",
    "    chessboard = np.hstack((chessboard,segment_black))\n",
    "    chessboard = np.hstack((chessboard,segment_white))\n",
    "temp = chessboard\n",
    "for i in range(7):\n",
    "    chessboard = np.concatenate((np.fliplr(chessboard),temp))\n",
    "img = Image.fromarray(chessboard.astype(np.uint8))\n",
    "img.save('chess.jpg')\n",
    "img.show()"
   ]
  },
  {
   "cell_type": "markdown",
   "metadata": {},
   "source": [
    "#PARTIE N°03 : DESSIN DES COURBES MATHÉMATIQUES "
   ]
  },
  {
   "cell_type": "code",
   "execution_count": 11,
   "metadata": {},
   "outputs": [
    {
     "data": {
      "image/png": "[encoded data removed]",
      "text/plain": [
       "<Figure size 432x288 with 1 Axes>"
      ]
     },
     "metadata": {
      "needs_background": "light"
     },
     "output_type": "display_data"
    }
   ],
   "source": [
    "#Dessiner une courbe représentative de l'évolution des cas du coronavirus du 01/10/2020 au 08/10/2020\n",
    "from matplotlib import pyplot as plt #Importation des plots\"\"\"\n",
    "import numpy as np  #Utilisation de l'extension NUMPY\n",
    "\n",
    "#MES LISTES DE DONNÉES \n",
    "x= [\"01/10\",\"02/10\",\"03/10\",\"04/10\",\"05/10\",\"06/10\",\"07/10\",\"08/10\"] #Dates de la semaine du mois d'octobre\n",
    "y= [577505,589653,606625,619190,624274,634763,653509,671638] #le nombre de cas du coronavirus en France\n",
    "plt.plot(x,y) #Défintiton du plot(y en fonction de x)\n",
    "#Determination des caractéristiques du PLOT(Titre,label et couleur)\n",
    "plt.title(\"Evolution du nombre de cas déclarés de Coronavirus en France du 01/10/2020 au 08/10/2020\", size=20)\n",
    "plt.xlabel(\"Dates\",size=20) \n",
    "plt.ylabel(\"Nombre de cas\",size=20)\n",
    "plt.plot(x, y, c='r') #choix de la couleur\n",
    "plt.show() #Affichage du plot"
   ]
  },
  {
   "cell_type": "code",
   "execution_count": 12,
   "metadata": {},
   "outputs": [
    {
     "data": {
      "text/plain": [
       "array([ 8.76713326, 12.15297058, 10.00758025,  9.37783423,  8.22166959,\n",
       "       10.89859239, 15.26362886,  7.6043377 , 14.56686506,  2.70573078,\n",
       "        2.00889032, 15.23514516,  9.11382231, 11.47955033,  4.95790907,\n",
       "        4.28540132,  8.59407072,  6.03752636, 12.13458805, 14.91586306])"
      ]
     },
     "execution_count": 12,
     "metadata": {},
     "output_type": "execute_result"
    }
   ],
   "source": [
    "#Génerer des valeurs discrètes decrivant une loi normale\n",
    "#on utlise l'extension NUMPY.\n",
    "import numpy as np\n",
    "import matplotlib.pyplot as plt\n",
    "np.random.normal(10,5,20) #Dans ce crée un tableau composé de 20 valeur avec une moyenne=10 et un écart-type=5"
   ]
  },
  {
   "cell_type": "code",
   "execution_count": 190,
   "metadata": {},
   "outputs": [
    {
     "data": {
      "image/png": "[encoded data removed]",
      "text/plain": [
       "<Figure size 432x288 with 1 Axes>"
      ]
     },
     "metadata": {},
     "output_type": "display_data"
    }
   ],
   "source": [
    "#Générer des données pour dessiner une courbe gaussienne \n",
    "import matplotlib.pyplot as plt\n",
    "import numpy as np\n",
    "import scipy.stats as stats\n",
    "import math\n",
    "\n",
    "mu1, mu2 = 0.5, 0.2\n",
    "variance1, variance2 = np.random.normal(10), np.random.normal(40)\n",
    "sigma1 = math.sqrt(variance1)\n",
    "sigma2 = math.sqrt(variance2)\n",
    "\n",
    "x = np.linspace(mu1 - 3*sigma1, mu1 + 3*sigma1, 150)\n",
    "x = np.linspace(mu2 - 3*sigma2, mu2 + 3*sigma2, 100)\n",
    "\n",
    "plt.plot(x, stats.norm.pdf(x, mu1, sigma1), color='lightblue', lw=3)\n",
    "plt.plot(x, stats.norm.pdf(x, mu2, sigma2), color='lightgreen', lw=3)\n",
    "plt.show()\n"
   ]
  },
  {
   "cell_type": "markdown",
   "metadata": {},
   "source": [
    "#PARTIE N°4 : UTILISATION DE LA LIBRAIRIE MATPLOTLIB"
   ]
  },
  {
   "cell_type": "code",
   "execution_count": 189,
   "metadata": {
    "scrolled": true
   },
   "outputs": [
    {
     "data": {
      "text/plain": [
       "Text(0.5, 1.0, 'Mon histogramme')"
      ]
     },
     "execution_count": 189,
     "metadata": {},
     "output_type": "execute_result"
    },
    {
     "data": {
      "image/png": "[encoded data removed]",
      "text/plain": [
       "<Figure size 432x288 with 1 Axes>"
      ]
     },
     "metadata": {},
     "output_type": "display_data"
    }
   ],
   "source": [
    "#Question n°01: Dessiner un histogramme\n",
    "#améliorer votre dessin en utilisant toutes les options souhaitables (titre du dessin, couleur du tracé)\n",
    "import matplotlib.pyplot as plt\n",
    "\n",
    "x = [1, 2, 2, 3, 4, 4, 4, 4, 4, 5, 5,3,2,1,10,2,5,3]\n",
    "plt.hist(x, range = (0,7), bins = 8, color = 'yellow',\n",
    "            edgecolor = 'r')\n",
    "plt.xlabel('valeurs')\n",
    "plt.ylabel('nombres')\n",
    "plt.title('Mon histogramme')"
   ]
  },
  {
   "cell_type": "code",
   "execution_count": 116,
   "metadata": {},
   "outputs": [],
   "source": [
    "#Question n°03 : #générer des images et superposer les images en utilisant le mélange alpha (Image Layer)\n",
    "import numpy as np\n",
    "from PIL import Image\n",
    "img1 = np.array(Image.open('mycolor.jpg'))\n",
    "img2 = np.array(Image.open('Smoke_back.jpg').resize(img1.shape[1::-1], Image.BILINEAR))\n",
    "dst = img1 *0.5 + img2 *0.5\n",
    "Image.fromarray(dst.astype(np.uint8)).show()"
   ]
  },
  {
   "cell_type": "code",
   "execution_count": 17,
   "metadata": {},
   "outputs": [
    {
     "data": {
      "image/png": "[encoded data removed]",
      "text/plain": [
       "<Figure size 432x288 with 1 Axes>"
      ]
     },
     "metadata": {
      "needs_background": "light"
     },
     "output_type": "display_data"
    }
   ],
   "source": [
    "#écrire un code  avec les projections géographiques\n",
    "import matplotlib.pyplot as plt\n",
    "plt.figure()\n",
    "plt.subplot(111, projection=\"mollweide\")\n",
    "plt.title(\"Mollweide Projection\")\n",
    "plt.grid(True, color='r')"
   ]
  },
  {
   "cell_type": "code",
   "execution_count": 65,
   "metadata": {},
   "outputs": [
    {
     "data": {
      "image/png": "[encoded data removed]",
      "text/plain": [
       "<Figure size 432x288 with 2 Axes>"
      ]
     },
     "metadata": {
      "needs_background": "light"
     },
     "output_type": "display_data"
    }
   ],
   "source": [
    "#Afficher des images en utilisant des mises en forme de type patch \n",
    "#(figure, subplot, patches)\n",
    "import numpy as np\n",
    "import matplotlib.pyplot as plt\n",
    "fig = plt.figure()\n",
    "fig.subplots_adjust(top=1.5)\n",
    "ax1 = fig.add_subplot(211)\n",
    "\n",
    "t = np.arange(0.1,1.0, 0.1)\n",
    "s = np.sin(2*np.pi*t)\n",
    "line, = ax1.plot(t, s, color='pink')\n",
    "\n",
    "# Fixing random state for reproducibility\n",
    "np.random.seed(100)\n",
    "\n",
    "ax2 = fig.add_axes([0.4,0.5,0.5,0.3])\n",
    "n, bins, patches = ax2.hist(np.random.randn(100),20,\n",
    "                            facecolor='r',edgecolor= 'g')\n",
    "plt.show()"
   ]
  },
  {
   "cell_type": "markdown",
   "metadata": {},
   "source": [
    "#Gestion fichiers et répertoires (exploration, commandes système, regex)"
   ]
  },
  {
   "cell_type": "code",
   "execution_count": 1,
   "metadata": {},
   "outputs": [
    {
     "name": "stdout",
     "output_type": "stream",
     "text": [
      "fic.txt\n",
      "fichier2.txt\n",
      "Fic.txt\n",
      "notes.txt\n",
      "classement.txt\n",
      "moyennes.txt\n",
      "essai.txt\n",
      "fichier1.txt\n",
      "fichier.txt\n",
      "12lignes.txt\n",
      "estimation.txt\n",
      "fichier2.txt\n"
     ]
    }
   ],
   "source": [
    "#Question n°01 : Affichage des fichiers du même motif \".txt\" dans mon répértoire Sys-2020\n",
    "import os\n",
    "import glob\n",
    "\n",
    "DIRECTORY = \"/home/ammour/Sys-2020/\"\n",
    "PATTERN = '*'\n",
    "#r = \"/home/ammour\"\n",
    "#d = \"anaconda3\"\n",
    "#f=files\n",
    "\n",
    "for r, d, f in os.walk(DIRECTORY):\n",
    "    for file in f:\n",
    "            if glob.fnmatch.fnmatch( file,'*.txt'):\n",
    "                 print(file)\n"
   ]
  },
  {
   "cell_type": "code",
   "execution_count": 2,
   "metadata": {},
   "outputs": [
    {
     "name": "stdout",
     "output_type": "stream",
     "text": [
      "/home/ammour/Modèles/\n",
      "/home/ammour/Téléchargements/\n",
      "/home/ammour/snap/\n",
      "/home/ammour/Documents/\n",
      "/home/ammour/Bureau/\n",
      "/home/ammour/eclipse-workspace/\n",
      "/home/ammour/Revision-Sys/\n",
      "/home/ammour/Lisa/\n",
      "/home/ammour/Algo/\n",
      "/home/ammour/Sys-2020/\n",
      "/home/ammour/Copie-Sys/\n",
      "/home/ammour/Musique/\n",
      "/home/ammour/data/\n",
      "/home/ammour/Images/\n",
      "/home/ammour/Vidéos/\n",
      "/home/ammour/Examen-Sys/\n",
      "/home/ammour/Mon-nouveau/\n",
      "/home/ammour/Public/\n",
      "/home/ammour/Python/\n",
      "/home/ammour/anaconda3/\n"
     ]
    }
   ],
   "source": [
    "#Question n°02 : Ecrire un code qui permet de lister tout les repertoires de mon home\n",
    "import glob\n",
    "for name in glob.glob('/home/ammour/*/') :\n",
    "        print(name)"
   ]
  },
  {
   "cell_type": "code",
   "execution_count": 4,
   "metadata": {},
   "outputs": [
    {
     "name": "stdout",
     "output_type": "stream",
     "text": [
      "essai.txt\n",
      "fichier1.txt\n",
      "fichier.txt\n",
      "/\n",
      "['essai.txt', 'fichier1.txt', 'fichier.txt']\n"
     ]
    }
   ],
   "source": [
    "#Question n°03:écrire un code qui liste les fichiers dans un répertoire particulier \n",
    "#(que vous initialiserez dans une variable de type « str ») \n",
    "#et recopie ces fichiers dans un  autre répertoire \n",
    "#(il convient de créer ce répertoire s’il n’existe pas)\n",
    "\n",
    "import os \n",
    "import shutil  #(permet de manipuler les fichiers et les répertoires)\n",
    "\n",
    "\n",
    "str = \"/home/ammour/Sys-2020/TP2\"\n",
    "for file in (os.listdir(str)):\n",
    "        print(file)\n",
    "for file in shutil.copytree(str,'/home/ammour/Copie-Sys'):\n",
    "    print (file) \n",
    "    print(os.listdir('/home/ammour/Copie-Sys'))\n",
    "    break;"
   ]
  },
  {
   "cell_type": "code",
   "execution_count": 5,
   "metadata": {},
   "outputs": [
    {
     "name": "stdout",
     "output_type": "stream",
     "text": [
      "/home/ammour/\n"
     ]
    },
    {
     "data": {
      "text/plain": [
       "4096"
      ]
     },
     "execution_count": 5,
     "metadata": {},
     "output_type": "execute_result"
    }
   ],
   "source": [
    "#Question n°04 : CAlculer la somme de la taille des fichiers d'un répertoire\n",
    "#Je choisis mon répertoire initiale qui est mon home \n",
    "#La commande Sum permet de joindre les tailles des fichiers ,\n",
    "#La commande os.path.getsize : permet d'obtenir la taille en octets\n",
    "#d:directory\n",
    "#La ligne suivante permet d'obtenir la taille en octet de mon home\n",
    "import os\n",
    "str = '/home/ammour/' \n",
    "print (str) \n",
    "sum(os.path.getsize(d) for d in os.listdir(str) if os.path.isdir(d)) "
   ]
  },
  {
   "cell_type": "code",
   "execution_count": null,
   "metadata": {},
   "outputs": [],
   "source": []
  }
 ],
 "metadata": {
  "kernelspec": {
   "display_name": "Python 3",
   "language": "python",
   "name": "python3"
  },
  "language_info": {
   "codemirror_mode": {
    "name": "ipython",
    "version": 3
   },
   "file_extension": ".py",
   "mimetype": "text/x-python",
   "name": "python",
   "nbconvert_exporter": "python",
   "pygments_lexer": "ipython3",
   "version": "3.7.7"
  }
 },
 "nbformat": 4,
 "nbformat_minor": 4
}
