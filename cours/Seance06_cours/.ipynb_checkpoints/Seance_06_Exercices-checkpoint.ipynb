{
 "cells": [
  {
   "cell_type": "markdown",
   "id": "numerical-surface",
   "metadata": {},
   "source": [
    "## Excercice sur les fichier"
   ]
  },
  {
   "cell_type": "markdown",
   "id": "dirty-trader",
   "metadata": {},
   "source": [
    "#### Manipuler un fichier CSV dans un script Python (seance_06_exercice_01.py)"
   ]
  },
  {
   "cell_type": "markdown",
   "id": "popular-newcastle",
   "metadata": {},
   "source": [
    "Ouvrir le fichier ./data/api/reverse.csv\n",
    "\n",
    "Boucler sur les lignes et afficher pour chaque ligne la valeur du champ 'name'\n",
    "\n",
    "en profiter pour compter le nombre de ligne et l'afficher en fin de script.\n",
    "\n",
    "Utiliser DictReader"
   ]
  },
  {
   "cell_type": "code",
   "execution_count": 2,
   "id": "inappropriate-fancy",
   "metadata": {},
   "outputs": [],
   "source": [
    "# votre code ici \n"
   ]
  },
  {
   "cell_type": "markdown",
   "id": "mighty-runner",
   "metadata": {},
   "source": [
    "#### Gestion des dossiers et des fichiers"
   ]
  },
  {
   "cell_type": "markdown",
   "id": "ranking-regression",
   "metadata": {},
   "source": [
    "Créer un repertoire ./data/temp_seance_06"
   ]
  },
  {
   "cell_type": "markdown",
   "id": "verbal-representative",
   "metadata": {},
   "source": [
    "Y copier ./data/api/reverse.csv"
   ]
  },
  {
   "cell_type": "code",
   "execution_count": 1,
   "id": "narrative-right",
   "metadata": {},
   "outputs": [],
   "source": [
    "# votre code ici \n"
   ]
  },
  {
   "cell_type": "markdown",
   "id": "prerequisite-drove",
   "metadata": {},
   "source": [
    "Vérifier que le dossier a bien été créé"
   ]
  },
  {
   "cell_type": "markdown",
   "id": "opponent-florence",
   "metadata": {},
   "source": [
    "Supprimer le dossier"
   ]
  },
  {
   "cell_type": "markdown",
   "id": "thousand-preference",
   "metadata": {},
   "source": [
    "#### Créer une fonction qui créé un repertoire à partir d'un Path complet (C:\\\\ ...) passé en paramètre\n",
    "\n",
    "Si le repertoire existe déjà il sera prélablement supprimé et le script l'indiquera avec un print.\n",
    "\n",
    "L'existences du repertoire dans lequel doit être créé le repertoire n'est pas un prérequis (le code doit créer tous les éléments repertoires intermédiaires si necessaire).\n"
   ]
  },
  {
   "cell_type": "code",
   "execution_count": null,
   "id": "shared-external",
   "metadata": {},
   "outputs": [],
   "source": []
  }
 ],
 "metadata": {
  "kernelspec": {
   "display_name": "Python 3",
   "language": "python",
   "name": "python3"
  },
  "language_info": {
   "codemirror_mode": {
    "name": "ipython",
    "version": 3
   },
   "file_extension": ".py",
   "mimetype": "text/x-python",
   "name": "python",
   "nbconvert_exporter": "python",
   "pygments_lexer": "ipython3",
   "version": "3.7.4"
  }
 },
 "nbformat": 4,
 "nbformat_minor": 5
}
