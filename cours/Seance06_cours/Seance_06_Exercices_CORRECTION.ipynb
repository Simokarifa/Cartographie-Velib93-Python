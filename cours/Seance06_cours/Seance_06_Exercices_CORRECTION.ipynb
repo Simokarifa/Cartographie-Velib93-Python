{
 "cells": [
  {
   "cell_type": "markdown",
   "id": "crucial-distance",
   "metadata": {},
   "source": [
    "## Excercices sur les fichiers et repertoires"
   ]
  },
  {
   "cell_type": "markdown",
   "id": "olympic-operation",
   "metadata": {},
   "source": [
    "#### Manipuler un fichier CSV dans un script Python"
   ]
  },
  {
   "cell_type": "markdown",
   "id": "graduate-liechtenstein",
   "metadata": {},
   "source": [
    "Ouvrir le fichier ./data/api/reverse.csv\n",
    "\n",
    "Boucler sur les lignes et afficher pour chaque ligne la valeur du champ 'name'\n",
    "\n",
    "en profiter pour compter le nombre de ligne et l'afficher en fin de script.\n",
    "\n",
    "Utiliser DictReader"
   ]
  },
  {
   "cell_type": "code",
   "execution_count": 1,
   "id": "compressed-fighter",
   "metadata": {},
   "outputs": [
    {
     "name": "stdout",
     "output_type": "stream",
     "text": [
      "École Claude Déruet\n",
      "École Gilberte Monne\n",
      "École maternelle Victor Hugo\n",
      "École maternelle Buffon\n",
      "4\n"
     ]
    }
   ],
   "source": [
    "# votre code ici \n",
    "from csv import DictReader\n",
    "\n",
    "# ouverture du fichier en lecteure seule :\n",
    "with open('./data/api/reverse.csv', 'r', encoding='utf8') as fp :\n",
    "    \n",
    "    # configuration du dictreader, attention veiller à bien regarder\n",
    "    # le fichier CSV pour appliquer le bon délimiteur de champ :\n",
    "    csv_dict_reader = DictReader(fp,  delimiter=',')\n",
    "    # initialisation d'une variable à 0 avant de boucler sur les lignes\n",
    "    i = 0\n",
    "    \n",
    "    # on lance la boucle sur les lignes\n",
    "    for row in csv_dict_reader:\n",
    "        #pour chaque ligne on affiche la valeur du champ \"name\"\n",
    "        print(row[\"name\"])\n",
    "        #on ajoute 1 au compteur une fois la ligne traitée\n",
    "        i+=1\n",
    "        \n",
    "print(i)"
   ]
  },
  {
   "cell_type": "markdown",
   "id": "pharmaceutical-spanish",
   "metadata": {},
   "source": [
    "#### Gestion des repertoires et des fichiers"
   ]
  },
  {
   "cell_type": "markdown",
   "id": "unavailable-seven",
   "metadata": {},
   "source": [
    "Créer un repertoire ./data/temp_seance_06"
   ]
  },
  {
   "cell_type": "code",
   "execution_count": 2,
   "id": "thermal-mauritius",
   "metadata": {},
   "outputs": [],
   "source": [
    "# votre code ici \n",
    "import os\n",
    "os.mkdir(\"./data/temp_seance_06\")\n"
   ]
  },
  {
   "cell_type": "markdown",
   "id": "normal-joint",
   "metadata": {},
   "source": [
    "Vérifier que le dossier a bien été créé"
   ]
  },
  {
   "cell_type": "code",
   "execution_count": 3,
   "id": "described-angle",
   "metadata": {},
   "outputs": [
    {
     "name": "stdout",
     "output_type": "stream",
     "text": [
      "le repertoire existe bien\n"
     ]
    }
   ],
   "source": [
    "if os.path.exists(\"./data/temp_seance_06\"):\n",
    "    print(\"le repertoire existe bien\")\n",
    "else :\n",
    "    print(\"le repertoire n'existe pas !\")"
   ]
  },
  {
   "cell_type": "markdown",
   "id": "universal-terror",
   "metadata": {},
   "source": [
    "Y copier ./data/api/reverse.csv\n",
    "indication : https://docs.python.org/3/library/shutil.html"
   ]
  },
  {
   "cell_type": "code",
   "execution_count": 4,
   "id": "cathedral-guide",
   "metadata": {},
   "outputs": [
    {
     "data": {
      "text/plain": [
       "'.//data//temp_seance_06//reverse.csv'"
      ]
     },
     "execution_count": 4,
     "metadata": {},
     "output_type": "execute_result"
    }
   ],
   "source": [
    "import shutil\n",
    "shutil.copyfile(\".//data//api//reverse.csv\", \".//data//temp_seance_06//reverse.csv\")"
   ]
  },
  {
   "cell_type": "markdown",
   "id": "multiple-symphony",
   "metadata": {},
   "source": [
    "Supprimer le dossier"
   ]
  },
  {
   "cell_type": "code",
   "execution_count": 5,
   "id": "afraid-designer",
   "metadata": {},
   "outputs": [],
   "source": [
    "shutil.rmtree(\".//data//temp_seance_06\")"
   ]
  },
  {
   "cell_type": "markdown",
   "id": "needed-torture",
   "metadata": {},
   "source": [
    "#### Créer une fonction qui va créer un repertoire à partir d'un Path complet (C:/ ...) passé en paramètre\n",
    "\n",
    "Si le repertoire existe déjà il sera prélablement supprimé et le script l'indiquera avec un print.\n",
    "\n",
    "L'existence du repertoire dans lequel doit être créé le repertoire n'est pas un prérequis (le code doit créer tous les éléments repertoires intermédiaires si necessaire).\n"
   ]
  },
  {
   "cell_type": "code",
   "execution_count": 6,
   "id": "spatial-packing",
   "metadata": {},
   "outputs": [],
   "source": [
    "import os\n",
    "import shutil\n",
    "\n",
    "def createPath(path):\n",
    "    # on commence par tester si le repertoire existe déjà :\n",
    "    if os.path.exists(path) :\n",
    "        # si c'est le cas on l'affiche ...\n",
    "        print(\"le repertoire existe déjà, il va être vidé\")\n",
    "        # ... puis le repertoire et tout son contenu\n",
    "        shutil.rmtree(path)\n",
    "        \n",
    "    # maintenant on peut lancer la création du repertoire\n",
    "    os.makedirs(path)"
   ]
  },
  {
   "cell_type": "code",
   "execution_count": 7,
   "id": "floating-allocation",
   "metadata": {},
   "outputs": [
    {
     "name": "stdout",
     "output_type": "stream",
     "text": [
      "le repertoire existe déjà, il va être vidé\n"
     ]
    }
   ],
   "source": [
    "createPath(\"c:/temp/mon_dossier_temp\")"
   ]
  },
  {
   "cell_type": "code",
   "execution_count": 8,
   "id": "alike-breach",
   "metadata": {},
   "outputs": [
    {
     "name": "stdout",
     "output_type": "stream",
     "text": [
      "le repertoire existe déjà, il va être vidé\n"
     ]
    }
   ],
   "source": [
    "# autre manière de définir le chemin : \n",
    "createPath(\"c:\\\\temp\\\\mon_dossier_temp\")"
   ]
  },
  {
   "cell_type": "code",
   "execution_count": 9,
   "id": "right-infection",
   "metadata": {},
   "outputs": [
    {
     "ename": "OSError",
     "evalue": "[WinError 123] La syntaxe du nom de fichier, de répertoire ou de volume est incorrecte: 'c:\\temp'",
     "output_type": "error",
     "traceback": [
      "\u001b[1;31m---------------------------------------------------------------------------\u001b[0m",
      "\u001b[1;31mOSError\u001b[0m                                   Traceback (most recent call last)",
      "\u001b[1;32m<ipython-input-9-8e4f1da20c3c>\u001b[0m in \u001b[0;36m<module>\u001b[1;34m\u001b[0m\n\u001b[0;32m      1\u001b[0m \u001b[1;31m# ici comment analyser l'erreur ?\u001b[0m\u001b[1;33m\u001b[0m\u001b[1;33m\u001b[0m\u001b[1;33m\u001b[0m\u001b[0m\n\u001b[1;32m----> 2\u001b[1;33m \u001b[0mcreatePath\u001b[0m\u001b[1;33m(\u001b[0m\u001b[1;34m\"c:\\temp\\mon_dossier_temp\"\u001b[0m\u001b[1;33m)\u001b[0m\u001b[1;33m\u001b[0m\u001b[1;33m\u001b[0m\u001b[0m\n\u001b[0m",
      "\u001b[1;32m<ipython-input-6-2d2061996baa>\u001b[0m in \u001b[0;36mcreatePath\u001b[1;34m(path)\u001b[0m\n\u001b[0;32m     11\u001b[0m \u001b[1;33m\u001b[0m\u001b[0m\n\u001b[0;32m     12\u001b[0m     \u001b[1;31m# maintenant on peut lancer la création du repertoire\u001b[0m\u001b[1;33m\u001b[0m\u001b[1;33m\u001b[0m\u001b[1;33m\u001b[0m\u001b[0m\n\u001b[1;32m---> 13\u001b[1;33m     \u001b[0mos\u001b[0m\u001b[1;33m.\u001b[0m\u001b[0mmakedirs\u001b[0m\u001b[1;33m(\u001b[0m\u001b[0mpath\u001b[0m\u001b[1;33m)\u001b[0m\u001b[1;33m\u001b[0m\u001b[1;33m\u001b[0m\u001b[0m\n\u001b[0m",
      "\u001b[1;32mC:\\Program Files\\Python37\\lib\\os.py\u001b[0m in \u001b[0;36mmakedirs\u001b[1;34m(name, mode, exist_ok)\u001b[0m\n\u001b[0;32m    209\u001b[0m     \u001b[1;32mif\u001b[0m \u001b[0mhead\u001b[0m \u001b[1;32mand\u001b[0m \u001b[0mtail\u001b[0m \u001b[1;32mand\u001b[0m \u001b[1;32mnot\u001b[0m \u001b[0mpath\u001b[0m\u001b[1;33m.\u001b[0m\u001b[0mexists\u001b[0m\u001b[1;33m(\u001b[0m\u001b[0mhead\u001b[0m\u001b[1;33m)\u001b[0m\u001b[1;33m:\u001b[0m\u001b[1;33m\u001b[0m\u001b[1;33m\u001b[0m\u001b[0m\n\u001b[0;32m    210\u001b[0m         \u001b[1;32mtry\u001b[0m\u001b[1;33m:\u001b[0m\u001b[1;33m\u001b[0m\u001b[1;33m\u001b[0m\u001b[0m\n\u001b[1;32m--> 211\u001b[1;33m             \u001b[0mmakedirs\u001b[0m\u001b[1;33m(\u001b[0m\u001b[0mhead\u001b[0m\u001b[1;33m,\u001b[0m \u001b[0mexist_ok\u001b[0m\u001b[1;33m=\u001b[0m\u001b[0mexist_ok\u001b[0m\u001b[1;33m)\u001b[0m\u001b[1;33m\u001b[0m\u001b[1;33m\u001b[0m\u001b[0m\n\u001b[0m\u001b[0;32m    212\u001b[0m         \u001b[1;32mexcept\u001b[0m \u001b[0mFileExistsError\u001b[0m\u001b[1;33m:\u001b[0m\u001b[1;33m\u001b[0m\u001b[1;33m\u001b[0m\u001b[0m\n\u001b[0;32m    213\u001b[0m             \u001b[1;31m# Defeats race condition when another thread created the path\u001b[0m\u001b[1;33m\u001b[0m\u001b[1;33m\u001b[0m\u001b[1;33m\u001b[0m\u001b[0m\n",
      "\u001b[1;32mC:\\Program Files\\Python37\\lib\\os.py\u001b[0m in \u001b[0;36mmakedirs\u001b[1;34m(name, mode, exist_ok)\u001b[0m\n\u001b[0;32m    219\u001b[0m             \u001b[1;32mreturn\u001b[0m\u001b[1;33m\u001b[0m\u001b[1;33m\u001b[0m\u001b[0m\n\u001b[0;32m    220\u001b[0m     \u001b[1;32mtry\u001b[0m\u001b[1;33m:\u001b[0m\u001b[1;33m\u001b[0m\u001b[1;33m\u001b[0m\u001b[0m\n\u001b[1;32m--> 221\u001b[1;33m         \u001b[0mmkdir\u001b[0m\u001b[1;33m(\u001b[0m\u001b[0mname\u001b[0m\u001b[1;33m,\u001b[0m \u001b[0mmode\u001b[0m\u001b[1;33m)\u001b[0m\u001b[1;33m\u001b[0m\u001b[1;33m\u001b[0m\u001b[0m\n\u001b[0m\u001b[0;32m    222\u001b[0m     \u001b[1;32mexcept\u001b[0m \u001b[0mOSError\u001b[0m\u001b[1;33m:\u001b[0m\u001b[1;33m\u001b[0m\u001b[1;33m\u001b[0m\u001b[0m\n\u001b[0;32m    223\u001b[0m         \u001b[1;31m# Cannot rely on checking for EEXIST, since the operating system\u001b[0m\u001b[1;33m\u001b[0m\u001b[1;33m\u001b[0m\u001b[1;33m\u001b[0m\u001b[0m\n",
      "\u001b[1;31mOSError\u001b[0m: [WinError 123] La syntaxe du nom de fichier, de répertoire ou de volume est incorrecte: 'c:\\temp'"
     ]
    }
   ],
   "source": [
    "# ici comment analyser l'erreur ?\n",
    "createPath(\"c:\\temp\\mon_dossier_temp\")"
   ]
  }
 ],
 "metadata": {
  "kernelspec": {
   "display_name": "Python 3",
   "language": "python",
   "name": "python3"
  },
  "language_info": {
   "codemirror_mode": {
    "name": "ipython",
    "version": 3
   },
   "file_extension": ".py",
   "mimetype": "text/x-python",
   "name": "python",
   "nbconvert_exporter": "python",
   "pygments_lexer": "ipython3",
   "version": "3.7.4"
  }
 },
 "nbformat": 4,
 "nbformat_minor": 5
}
