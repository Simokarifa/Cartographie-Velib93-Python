{
 "cells": [
  {
   "cell_type": "markdown",
   "metadata": {},
   "source": [
    "## Exercices Séance 5 : Rappel manipulation de données + Folium"
   ]
  },
  {
   "cell_type": "code",
   "execution_count": null,
   "metadata": {},
   "outputs": [],
   "source": [
    "import folium"
   ]
  },
  {
   "cell_type": "markdown",
   "metadata": {},
   "source": [
    "### Echauffement \n",
    "A partir de la liste suivante boucler sur les arbres et afficher via format() ou f-string les coordonnée et les types d'arbres\n",
    "\n",
    "Ex : 'Coordonnées :  48.8736809161, 2.29025241063 et type : sapin'"
   ]
  },
  {
   "cell_type": "code",
   "execution_count": null,
   "metadata": {},
   "outputs": [],
   "source": [
    "arbres = [\n",
    "    {'point':(48.8736809161,2.29025241063), 'type':'sapin'},\n",
    "    {'point':(48.8577764958,2.31452314446), 'type':'erable'},\n",
    "    {'point':(48.8678069026,2.38883414897), 'type':'sapin'},\n",
    "    {'point':(48.8183891866,2.43791851368), 'type':'erable'},\n",
    "    {'point':(48.8465652331,2.25242001202), 'type':'pin'},\n",
    "    {'point':(48.857749011,2.33940394029), 'type':'platane'}\n",
    "]"
   ]
  },
  {
   "cell_type": "code",
   "execution_count": null,
   "metadata": {},
   "outputs": [],
   "source": [
    "# Votre code ici : \n"
   ]
  },
  {
   "cell_type": "markdown",
   "metadata": {},
   "source": [
    "### On va maintenant créer une carte et ajouter un maker pour chaque point de la liste des arbres"
   ]
  },
  {
   "cell_type": "markdown",
   "metadata": {},
   "source": [
    "Créer une carte centrée sur Paris avec un fond de plan de votre choix"
   ]
  },
  {
   "cell_type": "code",
   "execution_count": null,
   "metadata": {},
   "outputs": [],
   "source": [
    "# ici votre code pour la carte\n"
   ]
  },
  {
   "cell_type": "markdown",
   "metadata": {},
   "source": [
    "### Boucle sur les arbres pour construire ajouter les Makers\n",
    "Ajouter des marker avec couleur et icon adaptée et récupération des valeurs contenus dans le dictionnaires pour peupler les popups et pour définir les lat lon des markers."
   ]
  },
  {
   "cell_type": "code",
   "execution_count": null,
   "metadata": {},
   "outputs": [],
   "source": [
    "# ici votre code pour ajouter des markers à la carte à partir \n",
    "# de la liste des arbres\n",
    "\n"
   ]
  },
  {
   "cell_type": "code",
   "execution_count": null,
   "metadata": {},
   "outputs": [],
   "source": [
    "# ici votre code pour afficher la carte dans le notebook\n"
   ]
  },
  {
   "cell_type": "markdown",
   "metadata": {},
   "source": [
    "Reprendre le code pour générer une nouvelle carte 'map_detail' dans laquelle les popups contiendront du code html formaté table avec le nom de l'attribut en gras dans la première ligne.\n",
    "\n",
    "Utiliser une fonction pour créer le contenu de la popup."
   ]
  },
  {
   "cell_type": "code",
   "execution_count": null,
   "metadata": {},
   "outputs": [],
   "source": [
    "# ici le code de la fonction : \n",
    "\n",
    "\n",
    "# ici le code de création de la carte           \n",
    "\n",
    "\n",
    "\n",
    "# ici l'affichage de la carte dans le notebook\n",
    "\n"
   ]
  }
 ],
 "metadata": {
  "kernelspec": {
   "display_name": "Python 3",
   "language": "python",
   "name": "python3"
  },
  "language_info": {
   "codemirror_mode": {
    "name": "ipython",
    "version": 3
   },
   "file_extension": ".py",
   "mimetype": "text/x-python",
   "name": "python",
   "nbconvert_exporter": "python",
   "pygments_lexer": "ipython3",
   "version": "3.8.6"
  }
 },
 "nbformat": 4,
 "nbformat_minor": 4
}
