{
 "cells": [
  {
   "cell_type": "markdown",
   "metadata": {},
   "source": [
    "## Exercices Séance 5 : Rappel manipulation de données + Folium"
   ]
  },
  {
   "cell_type": "markdown",
   "metadata": {},
   "source": [
    "### Echauffement \n",
    "A partir de la liste suivante boucler sur les arbres et afficher via format() ou f-string et print() les coordonnées et les types d'arbres\n",
    "\n",
    "Ex : 'Coordonnées :  48.8736809161, 2.29025241063 et type : sapin'"
   ]
  },
  {
   "cell_type": "code",
   "execution_count": 2,
   "metadata": {},
   "outputs": [],
   "source": [
    "arbres = [\n",
    "    {'point':(48.8736809161,2.29025241063), 'type':'sapin'},\n",
    "    {'point':(48.8577764958,2.31452314446), 'type':'erable'},\n",
    "    {'point':(48.8678069026,2.38883414897), 'type':'sapin'},\n",
    "    {'point':(48.8183891866,2.43791851368), 'type':'erable'},\n",
    "    {'point':(48.8465652331,2.25242001202), 'type':'pin'},\n",
    "    {'point':(48.857749011,2.33940394029), 'type':'platane'}\n",
    "]"
   ]
  },
  {
   "cell_type": "code",
   "execution_count": 27,
   "metadata": {},
   "outputs": [
    {
     "name": "stdout",
     "output_type": "stream",
     "text": [
      "coords: 48.8736809161,2.29025241063, et de type:sapin\n",
      "coords: 48.8577764958,2.31452314446, et de type:erable\n",
      "coords: 48.8678069026,2.38883414897, et de type:sapin\n",
      "coords: 48.8183891866,2.43791851368, et de type:erable\n",
      "coords: 48.8465652331,2.25242001202, et de type:pin\n",
      "coords: 48.857749011,2.33940394029, et de type:platane\n"
     ]
    }
   ],
   "source": [
    "# Votre code ici : \n",
    "for i in arbres:\n",
    "    valeur= f\"coords: {i['point'][0]},{i['point'][1]}, et de type:{i['type']}\"\n",
    "    print(valeur)"
   ]
  },
  {
   "cell_type": "markdown",
   "metadata": {},
   "source": [
    "### Créer une carte et ajouter un maker pour chaque point de la liste des arbres"
   ]
  },
  {
   "cell_type": "markdown",
   "metadata": {},
   "source": [
    "Créer une carte centrée sur Paris avec un fond de plan de votre choix"
   ]
  },
  {
   "cell_type": "code",
   "execution_count": 37,
   "metadata": {},
   "outputs": [],
   "source": [
    "##### ici votre code pour la carte\n",
    "import folium as f\n",
    "carte=f.Map(location=[48.8535, 2.3482],zoom_start=12,tiles=\"CartoDB positron\")"
   ]
  },
  {
   "cell_type": "markdown",
   "metadata": {},
   "source": [
    "### Boucler sur les arbres pour construire les Makers\n",
    "Ajouter à la carte des markers avec couleure et icon adaptés (icon de feuille + couleur verte).\n",
    "\n",
    "Cela peut être ajouté à la carte créée juste avant.\n",
    "\n",
    "Pour cela récupérer les valeurs contenues dans les dictionnaires pour peupler les popups et pour définir les lat lon des markers."
   ]
  },
  {
   "cell_type": "code",
   "execution_count": 39,
   "metadata": {},
   "outputs": [],
   "source": [
    "# ici votre code pour ajouter des markers à la carte (dans le cadre du noteboob)\n",
    "# à partir de la liste des arbres\n",
    "for i in arbres:\n",
    "    f.Marker([i['point'][0],i['point'][1]],\n",
    "            popup=i['type'],\n",
    "            icon=folium.Icon(color='green',icon='leaf')).add_to(carte)"
   ]
  },
  {
   "cell_type": "code",
   "execution_count": 40,
   "metadata": {
    "collapsed": true,
    "jupyter": {
     "outputs_hidden": true
    }
   },
   "outputs": [
    {
     "data": {
      "text/html": [
       "<div style=\"width:100%;\"><div style=\"position:relative;width:100%;height:0;padding-bottom:60%;\"><span style=\"color:#565656\">Make this Notebook Trusted to load map: File -> Trust Notebook</span><iframe src=\"about:blank\" style=\"position:absolute;width:100%;height:100%;left:0;top:0;border:none !important;\" data-html=%3C%21DOCTYPE%20html%3E%0A%3Chead%3E%20%20%20%20%0A%20%20%20%20%3Cmeta%20http-equiv%3D%22content-type%22%20content%3D%22text/html%3B%20charset%3DUTF-8%22%20/%3E%0A%20%20%20%20%0A%20%20%20%20%20%20%20%20%3Cscript%3E%0A%20%20%20%20%20%20%20%20%20%20%20%20L_NO_TOUCH%20%3D%20false%3B%0A%20%20%20%20%20%20%20%20%20%20%20%20L_DISABLE_3D%20%3D%20false%3B%0A%20%20%20%20%20%20%20%20%3C/script%3E%0A%20%20%20%20%0A%20%20%20%20%3Cstyle%3Ehtml%2C%20body%20%7Bwidth%3A%20100%25%3Bheight%3A%20100%25%3Bmargin%3A%200%3Bpadding%3A%200%3B%7D%3C/style%3E%0A%20%20%20%20%3Cstyle%3E%23map%20%7Bposition%3Aabsolute%3Btop%3A0%3Bbottom%3A0%3Bright%3A0%3Bleft%3A0%3B%7D%3C/style%3E%0A%20%20%20%20%3Cscript%20src%3D%22https%3A//cdn.jsdelivr.net/npm/leaflet%401.6.0/dist/leaflet.js%22%3E%3C/script%3E%0A%20%20%20%20%3Cscript%20src%3D%22https%3A//code.jquery.com/jquery-1.12.4.min.js%22%3E%3C/script%3E%0A%20%20%20%20%3Cscript%20src%3D%22https%3A//maxcdn.bootstrapcdn.com/bootstrap/3.2.0/js/bootstrap.min.js%22%3E%3C/script%3E%0A%20%20%20%20%3Cscript%20src%3D%22https%3A//cdnjs.cloudflare.com/ajax/libs/Leaflet.awesome-markers/2.0.2/leaflet.awesome-markers.js%22%3E%3C/script%3E%0A%20%20%20%20%3Clink%20rel%3D%22stylesheet%22%20href%3D%22https%3A//cdn.jsdelivr.net/npm/leaflet%401.6.0/dist/leaflet.css%22/%3E%0A%20%20%20%20%3Clink%20rel%3D%22stylesheet%22%20href%3D%22https%3A//maxcdn.bootstrapcdn.com/bootstrap/3.2.0/css/bootstrap.min.css%22/%3E%0A%20%20%20%20%3Clink%20rel%3D%22stylesheet%22%20href%3D%22https%3A//maxcdn.bootstrapcdn.com/bootstrap/3.2.0/css/bootstrap-theme.min.css%22/%3E%0A%20%20%20%20%3Clink%20rel%3D%22stylesheet%22%20href%3D%22https%3A//maxcdn.bootstrapcdn.com/font-awesome/4.6.3/css/font-awesome.min.css%22/%3E%0A%20%20%20%20%3Clink%20rel%3D%22stylesheet%22%20href%3D%22https%3A//cdnjs.cloudflare.com/ajax/libs/Leaflet.awesome-markers/2.0.2/leaflet.awesome-markers.css%22/%3E%0A%20%20%20%20%3Clink%20rel%3D%22stylesheet%22%20href%3D%22https%3A//cdn.jsdelivr.net/gh/python-visualization/folium/folium/templates/leaflet.awesome.rotate.min.css%22/%3E%0A%20%20%20%20%0A%20%20%20%20%20%20%20%20%20%20%20%20%3Cmeta%20name%3D%22viewport%22%20content%3D%22width%3Ddevice-width%2C%0A%20%20%20%20%20%20%20%20%20%20%20%20%20%20%20%20initial-scale%3D1.0%2C%20maximum-scale%3D1.0%2C%20user-scalable%3Dno%22%20/%3E%0A%20%20%20%20%20%20%20%20%20%20%20%20%3Cstyle%3E%0A%20%20%20%20%20%20%20%20%20%20%20%20%20%20%20%20%23map_426202d50fff44c6a0ba454d18185a57%20%7B%0A%20%20%20%20%20%20%20%20%20%20%20%20%20%20%20%20%20%20%20%20position%3A%20relative%3B%0A%20%20%20%20%20%20%20%20%20%20%20%20%20%20%20%20%20%20%20%20width%3A%20100.0%25%3B%0A%20%20%20%20%20%20%20%20%20%20%20%20%20%20%20%20%20%20%20%20height%3A%20100.0%25%3B%0A%20%20%20%20%20%20%20%20%20%20%20%20%20%20%20%20%20%20%20%20left%3A%200.0%25%3B%0A%20%20%20%20%20%20%20%20%20%20%20%20%20%20%20%20%20%20%20%20top%3A%200.0%25%3B%0A%20%20%20%20%20%20%20%20%20%20%20%20%20%20%20%20%7D%0A%20%20%20%20%20%20%20%20%20%20%20%20%3C/style%3E%0A%20%20%20%20%20%20%20%20%0A%3C/head%3E%0A%3Cbody%3E%20%20%20%20%0A%20%20%20%20%0A%20%20%20%20%20%20%20%20%20%20%20%20%3Cdiv%20class%3D%22folium-map%22%20id%3D%22map_426202d50fff44c6a0ba454d18185a57%22%20%3E%3C/div%3E%0A%20%20%20%20%20%20%20%20%0A%3C/body%3E%0A%3Cscript%3E%20%20%20%20%0A%20%20%20%20%0A%20%20%20%20%20%20%20%20%20%20%20%20var%20map_426202d50fff44c6a0ba454d18185a57%20%3D%20L.map%28%0A%20%20%20%20%20%20%20%20%20%20%20%20%20%20%20%20%22map_426202d50fff44c6a0ba454d18185a57%22%2C%0A%20%20%20%20%20%20%20%20%20%20%20%20%20%20%20%20%7B%0A%20%20%20%20%20%20%20%20%20%20%20%20%20%20%20%20%20%20%20%20center%3A%20%5B48.8535%2C%202.3482%5D%2C%0A%20%20%20%20%20%20%20%20%20%20%20%20%20%20%20%20%20%20%20%20crs%3A%20L.CRS.EPSG3857%2C%0A%20%20%20%20%20%20%20%20%20%20%20%20%20%20%20%20%20%20%20%20zoom%3A%2012%2C%0A%20%20%20%20%20%20%20%20%20%20%20%20%20%20%20%20%20%20%20%20zoomControl%3A%20true%2C%0A%20%20%20%20%20%20%20%20%20%20%20%20%20%20%20%20%20%20%20%20preferCanvas%3A%20false%2C%0A%20%20%20%20%20%20%20%20%20%20%20%20%20%20%20%20%7D%0A%20%20%20%20%20%20%20%20%20%20%20%20%29%3B%0A%0A%20%20%20%20%20%20%20%20%20%20%20%20%0A%0A%20%20%20%20%20%20%20%20%0A%20%20%20%20%0A%20%20%20%20%20%20%20%20%20%20%20%20var%20tile_layer_4cad0516db8b4f499cddf2e91f6a6800%20%3D%20L.tileLayer%28%0A%20%20%20%20%20%20%20%20%20%20%20%20%20%20%20%20%22https%3A//cartodb-basemaps-%7Bs%7D.global.ssl.fastly.net/light_all/%7Bz%7D/%7Bx%7D/%7By%7D.png%22%2C%0A%20%20%20%20%20%20%20%20%20%20%20%20%20%20%20%20%7B%22attribution%22%3A%20%22%5Cu0026copy%3B%20%5Cu003ca%20href%3D%5C%22http%3A//www.openstreetmap.org/copyright%5C%22%5Cu003eOpenStreetMap%5Cu003c/a%5Cu003e%20contributors%20%5Cu0026copy%3B%20%5Cu003ca%20href%3D%5C%22http%3A//cartodb.com/attributions%5C%22%5Cu003eCartoDB%5Cu003c/a%5Cu003e%2C%20CartoDB%20%5Cu003ca%20href%20%3D%5C%22http%3A//cartodb.com/attributions%5C%22%5Cu003eattributions%5Cu003c/a%5Cu003e%22%2C%20%22detectRetina%22%3A%20false%2C%20%22maxNativeZoom%22%3A%2018%2C%20%22maxZoom%22%3A%2018%2C%20%22minZoom%22%3A%200%2C%20%22noWrap%22%3A%20false%2C%20%22opacity%22%3A%201%2C%20%22subdomains%22%3A%20%22abc%22%2C%20%22tms%22%3A%20false%7D%0A%20%20%20%20%20%20%20%20%20%20%20%20%29.addTo%28map_426202d50fff44c6a0ba454d18185a57%29%3B%0A%20%20%20%20%20%20%20%20%0A%20%20%20%20%0A%20%20%20%20%20%20%20%20%20%20%20%20var%20marker_7647eb1baf934a97ac04ab3a2433228c%20%3D%20L.marker%28%0A%20%20%20%20%20%20%20%20%20%20%20%20%20%20%20%20%5B48.8736809161%2C%202.29025241063%5D%2C%0A%20%20%20%20%20%20%20%20%20%20%20%20%20%20%20%20%7B%7D%0A%20%20%20%20%20%20%20%20%20%20%20%20%29.addTo%28map_426202d50fff44c6a0ba454d18185a57%29%3B%0A%20%20%20%20%20%20%20%20%0A%20%20%20%20%0A%20%20%20%20%20%20%20%20%20%20%20%20var%20icon_e6821932f23f494c9da0211b20c4906e%20%3D%20L.AwesomeMarkers.icon%28%0A%20%20%20%20%20%20%20%20%20%20%20%20%20%20%20%20%7B%22extraClasses%22%3A%20%22fa-rotate-0%22%2C%20%22icon%22%3A%20%22leaf%22%2C%20%22iconColor%22%3A%20%22white%22%2C%20%22markerColor%22%3A%20%22green%22%2C%20%22prefix%22%3A%20%22glyphicon%22%7D%0A%20%20%20%20%20%20%20%20%20%20%20%20%29%3B%0A%20%20%20%20%20%20%20%20%20%20%20%20marker_7647eb1baf934a97ac04ab3a2433228c.setIcon%28icon_e6821932f23f494c9da0211b20c4906e%29%3B%0A%20%20%20%20%20%20%20%20%0A%20%20%20%20%0A%20%20%20%20%20%20%20%20var%20popup_6bf3ce8fcd444625a9834d4f2a88e85e%20%3D%20L.popup%28%7B%22maxWidth%22%3A%20%22100%25%22%7D%29%3B%0A%0A%20%20%20%20%20%20%20%20%0A%20%20%20%20%20%20%20%20%20%20%20%20var%20html_1672f16e60cd4b34a28d564963677787%20%3D%20%24%28%60%3Cdiv%20id%3D%22html_1672f16e60cd4b34a28d564963677787%22%20style%3D%22width%3A%20100.0%25%3B%20height%3A%20100.0%25%3B%22%3Esapin%3C/div%3E%60%29%5B0%5D%3B%0A%20%20%20%20%20%20%20%20%20%20%20%20popup_6bf3ce8fcd444625a9834d4f2a88e85e.setContent%28html_1672f16e60cd4b34a28d564963677787%29%3B%0A%20%20%20%20%20%20%20%20%0A%0A%20%20%20%20%20%20%20%20marker_7647eb1baf934a97ac04ab3a2433228c.bindPopup%28popup_6bf3ce8fcd444625a9834d4f2a88e85e%29%0A%20%20%20%20%20%20%20%20%3B%0A%0A%20%20%20%20%20%20%20%20%0A%20%20%20%20%0A%20%20%20%20%0A%20%20%20%20%20%20%20%20%20%20%20%20var%20marker_f3ad1b04db534a18b15d0cc2702f216e%20%3D%20L.marker%28%0A%20%20%20%20%20%20%20%20%20%20%20%20%20%20%20%20%5B48.8577764958%2C%202.31452314446%5D%2C%0A%20%20%20%20%20%20%20%20%20%20%20%20%20%20%20%20%7B%7D%0A%20%20%20%20%20%20%20%20%20%20%20%20%29.addTo%28map_426202d50fff44c6a0ba454d18185a57%29%3B%0A%20%20%20%20%20%20%20%20%0A%20%20%20%20%0A%20%20%20%20%20%20%20%20%20%20%20%20var%20icon_fa205edda73c40cfa5d1b7a2c66d9c15%20%3D%20L.AwesomeMarkers.icon%28%0A%20%20%20%20%20%20%20%20%20%20%20%20%20%20%20%20%7B%22extraClasses%22%3A%20%22fa-rotate-0%22%2C%20%22icon%22%3A%20%22leaf%22%2C%20%22iconColor%22%3A%20%22white%22%2C%20%22markerColor%22%3A%20%22green%22%2C%20%22prefix%22%3A%20%22glyphicon%22%7D%0A%20%20%20%20%20%20%20%20%20%20%20%20%29%3B%0A%20%20%20%20%20%20%20%20%20%20%20%20marker_f3ad1b04db534a18b15d0cc2702f216e.setIcon%28icon_fa205edda73c40cfa5d1b7a2c66d9c15%29%3B%0A%20%20%20%20%20%20%20%20%0A%20%20%20%20%0A%20%20%20%20%20%20%20%20var%20popup_ca7237d9f5e24929919448379b1db09f%20%3D%20L.popup%28%7B%22maxWidth%22%3A%20%22100%25%22%7D%29%3B%0A%0A%20%20%20%20%20%20%20%20%0A%20%20%20%20%20%20%20%20%20%20%20%20var%20html_5d231a7e85a2468cb133f33e7557a78e%20%3D%20%24%28%60%3Cdiv%20id%3D%22html_5d231a7e85a2468cb133f33e7557a78e%22%20style%3D%22width%3A%20100.0%25%3B%20height%3A%20100.0%25%3B%22%3Eerable%3C/div%3E%60%29%5B0%5D%3B%0A%20%20%20%20%20%20%20%20%20%20%20%20popup_ca7237d9f5e24929919448379b1db09f.setContent%28html_5d231a7e85a2468cb133f33e7557a78e%29%3B%0A%20%20%20%20%20%20%20%20%0A%0A%20%20%20%20%20%20%20%20marker_f3ad1b04db534a18b15d0cc2702f216e.bindPopup%28popup_ca7237d9f5e24929919448379b1db09f%29%0A%20%20%20%20%20%20%20%20%3B%0A%0A%20%20%20%20%20%20%20%20%0A%20%20%20%20%0A%20%20%20%20%0A%20%20%20%20%20%20%20%20%20%20%20%20var%20marker_9bda0f8487354b3197f2ff2c7e7c2cb7%20%3D%20L.marker%28%0A%20%20%20%20%20%20%20%20%20%20%20%20%20%20%20%20%5B48.8678069026%2C%202.38883414897%5D%2C%0A%20%20%20%20%20%20%20%20%20%20%20%20%20%20%20%20%7B%7D%0A%20%20%20%20%20%20%20%20%20%20%20%20%29.addTo%28map_426202d50fff44c6a0ba454d18185a57%29%3B%0A%20%20%20%20%20%20%20%20%0A%20%20%20%20%0A%20%20%20%20%20%20%20%20%20%20%20%20var%20icon_5b4483088db84d4e9f120d440c5a65ba%20%3D%20L.AwesomeMarkers.icon%28%0A%20%20%20%20%20%20%20%20%20%20%20%20%20%20%20%20%7B%22extraClasses%22%3A%20%22fa-rotate-0%22%2C%20%22icon%22%3A%20%22leaf%22%2C%20%22iconColor%22%3A%20%22white%22%2C%20%22markerColor%22%3A%20%22green%22%2C%20%22prefix%22%3A%20%22glyphicon%22%7D%0A%20%20%20%20%20%20%20%20%20%20%20%20%29%3B%0A%20%20%20%20%20%20%20%20%20%20%20%20marker_9bda0f8487354b3197f2ff2c7e7c2cb7.setIcon%28icon_5b4483088db84d4e9f120d440c5a65ba%29%3B%0A%20%20%20%20%20%20%20%20%0A%20%20%20%20%0A%20%20%20%20%20%20%20%20var%20popup_2e69d3213efc4be3b1913d76f9af1d8e%20%3D%20L.popup%28%7B%22maxWidth%22%3A%20%22100%25%22%7D%29%3B%0A%0A%20%20%20%20%20%20%20%20%0A%20%20%20%20%20%20%20%20%20%20%20%20var%20html_648c10d96ba84988830d8b8ed78d3876%20%3D%20%24%28%60%3Cdiv%20id%3D%22html_648c10d96ba84988830d8b8ed78d3876%22%20style%3D%22width%3A%20100.0%25%3B%20height%3A%20100.0%25%3B%22%3Esapin%3C/div%3E%60%29%5B0%5D%3B%0A%20%20%20%20%20%20%20%20%20%20%20%20popup_2e69d3213efc4be3b1913d76f9af1d8e.setContent%28html_648c10d96ba84988830d8b8ed78d3876%29%3B%0A%20%20%20%20%20%20%20%20%0A%0A%20%20%20%20%20%20%20%20marker_9bda0f8487354b3197f2ff2c7e7c2cb7.bindPopup%28popup_2e69d3213efc4be3b1913d76f9af1d8e%29%0A%20%20%20%20%20%20%20%20%3B%0A%0A%20%20%20%20%20%20%20%20%0A%20%20%20%20%0A%20%20%20%20%0A%20%20%20%20%20%20%20%20%20%20%20%20var%20marker_78d329232ce44b91b98f6fde58c98ff5%20%3D%20L.marker%28%0A%20%20%20%20%20%20%20%20%20%20%20%20%20%20%20%20%5B48.8183891866%2C%202.43791851368%5D%2C%0A%20%20%20%20%20%20%20%20%20%20%20%20%20%20%20%20%7B%7D%0A%20%20%20%20%20%20%20%20%20%20%20%20%29.addTo%28map_426202d50fff44c6a0ba454d18185a57%29%3B%0A%20%20%20%20%20%20%20%20%0A%20%20%20%20%0A%20%20%20%20%20%20%20%20%20%20%20%20var%20icon_6e76fd8b69d5494bbf431826b027bbc5%20%3D%20L.AwesomeMarkers.icon%28%0A%20%20%20%20%20%20%20%20%20%20%20%20%20%20%20%20%7B%22extraClasses%22%3A%20%22fa-rotate-0%22%2C%20%22icon%22%3A%20%22leaf%22%2C%20%22iconColor%22%3A%20%22white%22%2C%20%22markerColor%22%3A%20%22green%22%2C%20%22prefix%22%3A%20%22glyphicon%22%7D%0A%20%20%20%20%20%20%20%20%20%20%20%20%29%3B%0A%20%20%20%20%20%20%20%20%20%20%20%20marker_78d329232ce44b91b98f6fde58c98ff5.setIcon%28icon_6e76fd8b69d5494bbf431826b027bbc5%29%3B%0A%20%20%20%20%20%20%20%20%0A%20%20%20%20%0A%20%20%20%20%20%20%20%20var%20popup_45c645964406400eb49083530e0e6c48%20%3D%20L.popup%28%7B%22maxWidth%22%3A%20%22100%25%22%7D%29%3B%0A%0A%20%20%20%20%20%20%20%20%0A%20%20%20%20%20%20%20%20%20%20%20%20var%20html_964b8192c54e4147b2d1054154f487b6%20%3D%20%24%28%60%3Cdiv%20id%3D%22html_964b8192c54e4147b2d1054154f487b6%22%20style%3D%22width%3A%20100.0%25%3B%20height%3A%20100.0%25%3B%22%3Eerable%3C/div%3E%60%29%5B0%5D%3B%0A%20%20%20%20%20%20%20%20%20%20%20%20popup_45c645964406400eb49083530e0e6c48.setContent%28html_964b8192c54e4147b2d1054154f487b6%29%3B%0A%20%20%20%20%20%20%20%20%0A%0A%20%20%20%20%20%20%20%20marker_78d329232ce44b91b98f6fde58c98ff5.bindPopup%28popup_45c645964406400eb49083530e0e6c48%29%0A%20%20%20%20%20%20%20%20%3B%0A%0A%20%20%20%20%20%20%20%20%0A%20%20%20%20%0A%20%20%20%20%0A%20%20%20%20%20%20%20%20%20%20%20%20var%20marker_e08be209ed434cbe8928f6cfbddd901c%20%3D%20L.marker%28%0A%20%20%20%20%20%20%20%20%20%20%20%20%20%20%20%20%5B48.8465652331%2C%202.25242001202%5D%2C%0A%20%20%20%20%20%20%20%20%20%20%20%20%20%20%20%20%7B%7D%0A%20%20%20%20%20%20%20%20%20%20%20%20%29.addTo%28map_426202d50fff44c6a0ba454d18185a57%29%3B%0A%20%20%20%20%20%20%20%20%0A%20%20%20%20%0A%20%20%20%20%20%20%20%20%20%20%20%20var%20icon_14868877e3774186923ffb91fa654c6c%20%3D%20L.AwesomeMarkers.icon%28%0A%20%20%20%20%20%20%20%20%20%20%20%20%20%20%20%20%7B%22extraClasses%22%3A%20%22fa-rotate-0%22%2C%20%22icon%22%3A%20%22leaf%22%2C%20%22iconColor%22%3A%20%22white%22%2C%20%22markerColor%22%3A%20%22green%22%2C%20%22prefix%22%3A%20%22glyphicon%22%7D%0A%20%20%20%20%20%20%20%20%20%20%20%20%29%3B%0A%20%20%20%20%20%20%20%20%20%20%20%20marker_e08be209ed434cbe8928f6cfbddd901c.setIcon%28icon_14868877e3774186923ffb91fa654c6c%29%3B%0A%20%20%20%20%20%20%20%20%0A%20%20%20%20%0A%20%20%20%20%20%20%20%20var%20popup_7cb68c2a31ea45699492f5c487a80388%20%3D%20L.popup%28%7B%22maxWidth%22%3A%20%22100%25%22%7D%29%3B%0A%0A%20%20%20%20%20%20%20%20%0A%20%20%20%20%20%20%20%20%20%20%20%20var%20html_74d912a2a4254e93a04c433a3b657737%20%3D%20%24%28%60%3Cdiv%20id%3D%22html_74d912a2a4254e93a04c433a3b657737%22%20style%3D%22width%3A%20100.0%25%3B%20height%3A%20100.0%25%3B%22%3Epin%3C/div%3E%60%29%5B0%5D%3B%0A%20%20%20%20%20%20%20%20%20%20%20%20popup_7cb68c2a31ea45699492f5c487a80388.setContent%28html_74d912a2a4254e93a04c433a3b657737%29%3B%0A%20%20%20%20%20%20%20%20%0A%0A%20%20%20%20%20%20%20%20marker_e08be209ed434cbe8928f6cfbddd901c.bindPopup%28popup_7cb68c2a31ea45699492f5c487a80388%29%0A%20%20%20%20%20%20%20%20%3B%0A%0A%20%20%20%20%20%20%20%20%0A%20%20%20%20%0A%20%20%20%20%0A%20%20%20%20%20%20%20%20%20%20%20%20var%20marker_d568b6da5fa94a1495ee1f6cd57be27b%20%3D%20L.marker%28%0A%20%20%20%20%20%20%20%20%20%20%20%20%20%20%20%20%5B48.857749011%2C%202.33940394029%5D%2C%0A%20%20%20%20%20%20%20%20%20%20%20%20%20%20%20%20%7B%7D%0A%20%20%20%20%20%20%20%20%20%20%20%20%29.addTo%28map_426202d50fff44c6a0ba454d18185a57%29%3B%0A%20%20%20%20%20%20%20%20%0A%20%20%20%20%0A%20%20%20%20%20%20%20%20%20%20%20%20var%20icon_292967b165de4aa5983d442da6831c9b%20%3D%20L.AwesomeMarkers.icon%28%0A%20%20%20%20%20%20%20%20%20%20%20%20%20%20%20%20%7B%22extraClasses%22%3A%20%22fa-rotate-0%22%2C%20%22icon%22%3A%20%22leaf%22%2C%20%22iconColor%22%3A%20%22white%22%2C%20%22markerColor%22%3A%20%22green%22%2C%20%22prefix%22%3A%20%22glyphicon%22%7D%0A%20%20%20%20%20%20%20%20%20%20%20%20%29%3B%0A%20%20%20%20%20%20%20%20%20%20%20%20marker_d568b6da5fa94a1495ee1f6cd57be27b.setIcon%28icon_292967b165de4aa5983d442da6831c9b%29%3B%0A%20%20%20%20%20%20%20%20%0A%20%20%20%20%0A%20%20%20%20%20%20%20%20var%20popup_c7abc6377f0a4b73986a14d76e4663e3%20%3D%20L.popup%28%7B%22maxWidth%22%3A%20%22100%25%22%7D%29%3B%0A%0A%20%20%20%20%20%20%20%20%0A%20%20%20%20%20%20%20%20%20%20%20%20var%20html_1672269bd2144b72ba45cfec94f8765e%20%3D%20%24%28%60%3Cdiv%20id%3D%22html_1672269bd2144b72ba45cfec94f8765e%22%20style%3D%22width%3A%20100.0%25%3B%20height%3A%20100.0%25%3B%22%3Eplatane%3C/div%3E%60%29%5B0%5D%3B%0A%20%20%20%20%20%20%20%20%20%20%20%20popup_c7abc6377f0a4b73986a14d76e4663e3.setContent%28html_1672269bd2144b72ba45cfec94f8765e%29%3B%0A%20%20%20%20%20%20%20%20%0A%0A%20%20%20%20%20%20%20%20marker_d568b6da5fa94a1495ee1f6cd57be27b.bindPopup%28popup_c7abc6377f0a4b73986a14d76e4663e3%29%0A%20%20%20%20%20%20%20%20%3B%0A%0A%20%20%20%20%20%20%20%20%0A%20%20%20%20%0A%20%20%20%20%0A%20%20%20%20%20%20%20%20%20%20%20%20var%20marker_7fd9f588e5b54b51afa021d16aeba8ae%20%3D%20L.marker%28%0A%20%20%20%20%20%20%20%20%20%20%20%20%20%20%20%20%5B48.8736809161%2C%202.29025241063%5D%2C%0A%20%20%20%20%20%20%20%20%20%20%20%20%20%20%20%20%7B%7D%0A%20%20%20%20%20%20%20%20%20%20%20%20%29.addTo%28map_426202d50fff44c6a0ba454d18185a57%29%3B%0A%20%20%20%20%20%20%20%20%0A%20%20%20%20%0A%20%20%20%20%20%20%20%20%20%20%20%20var%20icon_1d4376b5987847afaa18a960e25ad54f%20%3D%20L.AwesomeMarkers.icon%28%0A%20%20%20%20%20%20%20%20%20%20%20%20%20%20%20%20%7B%22extraClasses%22%3A%20%22fa-rotate-0%22%2C%20%22icon%22%3A%20%22leaf%22%2C%20%22iconColor%22%3A%20%22white%22%2C%20%22markerColor%22%3A%20%22green%22%2C%20%22prefix%22%3A%20%22glyphicon%22%7D%0A%20%20%20%20%20%20%20%20%20%20%20%20%29%3B%0A%20%20%20%20%20%20%20%20%20%20%20%20marker_7fd9f588e5b54b51afa021d16aeba8ae.setIcon%28icon_1d4376b5987847afaa18a960e25ad54f%29%3B%0A%20%20%20%20%20%20%20%20%0A%20%20%20%20%0A%20%20%20%20%20%20%20%20var%20popup_9f906b143dbc49cb98a6dcab26cc7511%20%3D%20L.popup%28%7B%22maxWidth%22%3A%20%22100%25%22%7D%29%3B%0A%0A%20%20%20%20%20%20%20%20%0A%20%20%20%20%20%20%20%20%20%20%20%20var%20html_6bc36740ebf14545ac6c169f42e90c81%20%3D%20%24%28%60%3Cdiv%20id%3D%22html_6bc36740ebf14545ac6c169f42e90c81%22%20style%3D%22width%3A%20100.0%25%3B%20height%3A%20100.0%25%3B%22%3Esapin%3C/div%3E%60%29%5B0%5D%3B%0A%20%20%20%20%20%20%20%20%20%20%20%20popup_9f906b143dbc49cb98a6dcab26cc7511.setContent%28html_6bc36740ebf14545ac6c169f42e90c81%29%3B%0A%20%20%20%20%20%20%20%20%0A%0A%20%20%20%20%20%20%20%20marker_7fd9f588e5b54b51afa021d16aeba8ae.bindPopup%28popup_9f906b143dbc49cb98a6dcab26cc7511%29%0A%20%20%20%20%20%20%20%20%3B%0A%0A%20%20%20%20%20%20%20%20%0A%20%20%20%20%0A%20%20%20%20%0A%20%20%20%20%20%20%20%20%20%20%20%20var%20marker_164c782e79e245f286b26494e48c68fd%20%3D%20L.marker%28%0A%20%20%20%20%20%20%20%20%20%20%20%20%20%20%20%20%5B48.8577764958%2C%202.31452314446%5D%2C%0A%20%20%20%20%20%20%20%20%20%20%20%20%20%20%20%20%7B%7D%0A%20%20%20%20%20%20%20%20%20%20%20%20%29.addTo%28map_426202d50fff44c6a0ba454d18185a57%29%3B%0A%20%20%20%20%20%20%20%20%0A%20%20%20%20%0A%20%20%20%20%20%20%20%20%20%20%20%20var%20icon_60f6a8030dcd4c6cbd030abdb91dca3f%20%3D%20L.AwesomeMarkers.icon%28%0A%20%20%20%20%20%20%20%20%20%20%20%20%20%20%20%20%7B%22extraClasses%22%3A%20%22fa-rotate-0%22%2C%20%22icon%22%3A%20%22leaf%22%2C%20%22iconColor%22%3A%20%22white%22%2C%20%22markerColor%22%3A%20%22green%22%2C%20%22prefix%22%3A%20%22glyphicon%22%7D%0A%20%20%20%20%20%20%20%20%20%20%20%20%29%3B%0A%20%20%20%20%20%20%20%20%20%20%20%20marker_164c782e79e245f286b26494e48c68fd.setIcon%28icon_60f6a8030dcd4c6cbd030abdb91dca3f%29%3B%0A%20%20%20%20%20%20%20%20%0A%20%20%20%20%0A%20%20%20%20%20%20%20%20var%20popup_fcd190dfa9ba4bd08f45397e054474dc%20%3D%20L.popup%28%7B%22maxWidth%22%3A%20%22100%25%22%7D%29%3B%0A%0A%20%20%20%20%20%20%20%20%0A%20%20%20%20%20%20%20%20%20%20%20%20var%20html_cbb71dd9d8254739a513c347ca84f76a%20%3D%20%24%28%60%3Cdiv%20id%3D%22html_cbb71dd9d8254739a513c347ca84f76a%22%20style%3D%22width%3A%20100.0%25%3B%20height%3A%20100.0%25%3B%22%3Eerable%3C/div%3E%60%29%5B0%5D%3B%0A%20%20%20%20%20%20%20%20%20%20%20%20popup_fcd190dfa9ba4bd08f45397e054474dc.setContent%28html_cbb71dd9d8254739a513c347ca84f76a%29%3B%0A%20%20%20%20%20%20%20%20%0A%0A%20%20%20%20%20%20%20%20marker_164c782e79e245f286b26494e48c68fd.bindPopup%28popup_fcd190dfa9ba4bd08f45397e054474dc%29%0A%20%20%20%20%20%20%20%20%3B%0A%0A%20%20%20%20%20%20%20%20%0A%20%20%20%20%0A%20%20%20%20%0A%20%20%20%20%20%20%20%20%20%20%20%20var%20marker_9fe5d94e5c534eb0b48f83d0d896b8b1%20%3D%20L.marker%28%0A%20%20%20%20%20%20%20%20%20%20%20%20%20%20%20%20%5B48.8678069026%2C%202.38883414897%5D%2C%0A%20%20%20%20%20%20%20%20%20%20%20%20%20%20%20%20%7B%7D%0A%20%20%20%20%20%20%20%20%20%20%20%20%29.addTo%28map_426202d50fff44c6a0ba454d18185a57%29%3B%0A%20%20%20%20%20%20%20%20%0A%20%20%20%20%0A%20%20%20%20%20%20%20%20%20%20%20%20var%20icon_0c6d9c41a34e4abeb42aa0ad5a98a781%20%3D%20L.AwesomeMarkers.icon%28%0A%20%20%20%20%20%20%20%20%20%20%20%20%20%20%20%20%7B%22extraClasses%22%3A%20%22fa-rotate-0%22%2C%20%22icon%22%3A%20%22leaf%22%2C%20%22iconColor%22%3A%20%22white%22%2C%20%22markerColor%22%3A%20%22green%22%2C%20%22prefix%22%3A%20%22glyphicon%22%7D%0A%20%20%20%20%20%20%20%20%20%20%20%20%29%3B%0A%20%20%20%20%20%20%20%20%20%20%20%20marker_9fe5d94e5c534eb0b48f83d0d896b8b1.setIcon%28icon_0c6d9c41a34e4abeb42aa0ad5a98a781%29%3B%0A%20%20%20%20%20%20%20%20%0A%20%20%20%20%0A%20%20%20%20%20%20%20%20var%20popup_1940673a5d44447793df87785e0014bc%20%3D%20L.popup%28%7B%22maxWidth%22%3A%20%22100%25%22%7D%29%3B%0A%0A%20%20%20%20%20%20%20%20%0A%20%20%20%20%20%20%20%20%20%20%20%20var%20html_ff32bbc3c0064f8abba3acc5b16331bd%20%3D%20%24%28%60%3Cdiv%20id%3D%22html_ff32bbc3c0064f8abba3acc5b16331bd%22%20style%3D%22width%3A%20100.0%25%3B%20height%3A%20100.0%25%3B%22%3Esapin%3C/div%3E%60%29%5B0%5D%3B%0A%20%20%20%20%20%20%20%20%20%20%20%20popup_1940673a5d44447793df87785e0014bc.setContent%28html_ff32bbc3c0064f8abba3acc5b16331bd%29%3B%0A%20%20%20%20%20%20%20%20%0A%0A%20%20%20%20%20%20%20%20marker_9fe5d94e5c534eb0b48f83d0d896b8b1.bindPopup%28popup_1940673a5d44447793df87785e0014bc%29%0A%20%20%20%20%20%20%20%20%3B%0A%0A%20%20%20%20%20%20%20%20%0A%20%20%20%20%0A%20%20%20%20%0A%20%20%20%20%20%20%20%20%20%20%20%20var%20marker_856ab0e09459418d9abb0acc6d0929d2%20%3D%20L.marker%28%0A%20%20%20%20%20%20%20%20%20%20%20%20%20%20%20%20%5B48.8183891866%2C%202.43791851368%5D%2C%0A%20%20%20%20%20%20%20%20%20%20%20%20%20%20%20%20%7B%7D%0A%20%20%20%20%20%20%20%20%20%20%20%20%29.addTo%28map_426202d50fff44c6a0ba454d18185a57%29%3B%0A%20%20%20%20%20%20%20%20%0A%20%20%20%20%0A%20%20%20%20%20%20%20%20%20%20%20%20var%20icon_c3a24cbf201842f7a71893af5218eda8%20%3D%20L.AwesomeMarkers.icon%28%0A%20%20%20%20%20%20%20%20%20%20%20%20%20%20%20%20%7B%22extraClasses%22%3A%20%22fa-rotate-0%22%2C%20%22icon%22%3A%20%22leaf%22%2C%20%22iconColor%22%3A%20%22white%22%2C%20%22markerColor%22%3A%20%22green%22%2C%20%22prefix%22%3A%20%22glyphicon%22%7D%0A%20%20%20%20%20%20%20%20%20%20%20%20%29%3B%0A%20%20%20%20%20%20%20%20%20%20%20%20marker_856ab0e09459418d9abb0acc6d0929d2.setIcon%28icon_c3a24cbf201842f7a71893af5218eda8%29%3B%0A%20%20%20%20%20%20%20%20%0A%20%20%20%20%0A%20%20%20%20%20%20%20%20var%20popup_52108fd7d22f434db808547439a22597%20%3D%20L.popup%28%7B%22maxWidth%22%3A%20%22100%25%22%7D%29%3B%0A%0A%20%20%20%20%20%20%20%20%0A%20%20%20%20%20%20%20%20%20%20%20%20var%20html_6afc2479ecd84634b182218556a015a3%20%3D%20%24%28%60%3Cdiv%20id%3D%22html_6afc2479ecd84634b182218556a015a3%22%20style%3D%22width%3A%20100.0%25%3B%20height%3A%20100.0%25%3B%22%3Eerable%3C/div%3E%60%29%5B0%5D%3B%0A%20%20%20%20%20%20%20%20%20%20%20%20popup_52108fd7d22f434db808547439a22597.setContent%28html_6afc2479ecd84634b182218556a015a3%29%3B%0A%20%20%20%20%20%20%20%20%0A%0A%20%20%20%20%20%20%20%20marker_856ab0e09459418d9abb0acc6d0929d2.bindPopup%28popup_52108fd7d22f434db808547439a22597%29%0A%20%20%20%20%20%20%20%20%3B%0A%0A%20%20%20%20%20%20%20%20%0A%20%20%20%20%0A%20%20%20%20%0A%20%20%20%20%20%20%20%20%20%20%20%20var%20marker_7ac4194c195049b0b61add130a2e96e2%20%3D%20L.marker%28%0A%20%20%20%20%20%20%20%20%20%20%20%20%20%20%20%20%5B48.8465652331%2C%202.25242001202%5D%2C%0A%20%20%20%20%20%20%20%20%20%20%20%20%20%20%20%20%7B%7D%0A%20%20%20%20%20%20%20%20%20%20%20%20%29.addTo%28map_426202d50fff44c6a0ba454d18185a57%29%3B%0A%20%20%20%20%20%20%20%20%0A%20%20%20%20%0A%20%20%20%20%20%20%20%20%20%20%20%20var%20icon_fa1a2b1f6ca14ab0a2c1688a07a40a2b%20%3D%20L.AwesomeMarkers.icon%28%0A%20%20%20%20%20%20%20%20%20%20%20%20%20%20%20%20%7B%22extraClasses%22%3A%20%22fa-rotate-0%22%2C%20%22icon%22%3A%20%22leaf%22%2C%20%22iconColor%22%3A%20%22white%22%2C%20%22markerColor%22%3A%20%22green%22%2C%20%22prefix%22%3A%20%22glyphicon%22%7D%0A%20%20%20%20%20%20%20%20%20%20%20%20%29%3B%0A%20%20%20%20%20%20%20%20%20%20%20%20marker_7ac4194c195049b0b61add130a2e96e2.setIcon%28icon_fa1a2b1f6ca14ab0a2c1688a07a40a2b%29%3B%0A%20%20%20%20%20%20%20%20%0A%20%20%20%20%0A%20%20%20%20%20%20%20%20var%20popup_c9ab184a166449438c77198ad3ed1bc1%20%3D%20L.popup%28%7B%22maxWidth%22%3A%20%22100%25%22%7D%29%3B%0A%0A%20%20%20%20%20%20%20%20%0A%20%20%20%20%20%20%20%20%20%20%20%20var%20html_5f4bbc89b7a54ece8239d459d606af74%20%3D%20%24%28%60%3Cdiv%20id%3D%22html_5f4bbc89b7a54ece8239d459d606af74%22%20style%3D%22width%3A%20100.0%25%3B%20height%3A%20100.0%25%3B%22%3Epin%3C/div%3E%60%29%5B0%5D%3B%0A%20%20%20%20%20%20%20%20%20%20%20%20popup_c9ab184a166449438c77198ad3ed1bc1.setContent%28html_5f4bbc89b7a54ece8239d459d606af74%29%3B%0A%20%20%20%20%20%20%20%20%0A%0A%20%20%20%20%20%20%20%20marker_7ac4194c195049b0b61add130a2e96e2.bindPopup%28popup_c9ab184a166449438c77198ad3ed1bc1%29%0A%20%20%20%20%20%20%20%20%3B%0A%0A%20%20%20%20%20%20%20%20%0A%20%20%20%20%0A%20%20%20%20%0A%20%20%20%20%20%20%20%20%20%20%20%20var%20marker_3b59c677d99f4cc0ba7dfa1a6e021db0%20%3D%20L.marker%28%0A%20%20%20%20%20%20%20%20%20%20%20%20%20%20%20%20%5B48.857749011%2C%202.33940394029%5D%2C%0A%20%20%20%20%20%20%20%20%20%20%20%20%20%20%20%20%7B%7D%0A%20%20%20%20%20%20%20%20%20%20%20%20%29.addTo%28map_426202d50fff44c6a0ba454d18185a57%29%3B%0A%20%20%20%20%20%20%20%20%0A%20%20%20%20%0A%20%20%20%20%20%20%20%20%20%20%20%20var%20icon_f32ac98d951f49769f053b42a100fcd2%20%3D%20L.AwesomeMarkers.icon%28%0A%20%20%20%20%20%20%20%20%20%20%20%20%20%20%20%20%7B%22extraClasses%22%3A%20%22fa-rotate-0%22%2C%20%22icon%22%3A%20%22leaf%22%2C%20%22iconColor%22%3A%20%22white%22%2C%20%22markerColor%22%3A%20%22green%22%2C%20%22prefix%22%3A%20%22glyphicon%22%7D%0A%20%20%20%20%20%20%20%20%20%20%20%20%29%3B%0A%20%20%20%20%20%20%20%20%20%20%20%20marker_3b59c677d99f4cc0ba7dfa1a6e021db0.setIcon%28icon_f32ac98d951f49769f053b42a100fcd2%29%3B%0A%20%20%20%20%20%20%20%20%0A%20%20%20%20%0A%20%20%20%20%20%20%20%20var%20popup_4e7c2341a3354afea5cc1deec7805fba%20%3D%20L.popup%28%7B%22maxWidth%22%3A%20%22100%25%22%7D%29%3B%0A%0A%20%20%20%20%20%20%20%20%0A%20%20%20%20%20%20%20%20%20%20%20%20var%20html_24470cbe62b54472b77daa527b3e5064%20%3D%20%24%28%60%3Cdiv%20id%3D%22html_24470cbe62b54472b77daa527b3e5064%22%20style%3D%22width%3A%20100.0%25%3B%20height%3A%20100.0%25%3B%22%3Eplatane%3C/div%3E%60%29%5B0%5D%3B%0A%20%20%20%20%20%20%20%20%20%20%20%20popup_4e7c2341a3354afea5cc1deec7805fba.setContent%28html_24470cbe62b54472b77daa527b3e5064%29%3B%0A%20%20%20%20%20%20%20%20%0A%0A%20%20%20%20%20%20%20%20marker_3b59c677d99f4cc0ba7dfa1a6e021db0.bindPopup%28popup_4e7c2341a3354afea5cc1deec7805fba%29%0A%20%20%20%20%20%20%20%20%3B%0A%0A%20%20%20%20%20%20%20%20%0A%20%20%20%20%0A%3C/script%3E onload=\"this.contentDocument.open();this.contentDocument.write(    decodeURIComponent(this.getAttribute('data-html')));this.contentDocument.close();\" allowfullscreen webkitallowfullscreen mozallowfullscreen></iframe></div></div>"
      ],
      "text/plain": [
       "<folium.folium.Map at 0x3d90690f40>"
      ]
     },
     "execution_count": 40,
     "metadata": {},
     "output_type": "execute_result"
    }
   ],
   "source": [
    "# ici votre code pour réafficher la carte \n",
    "# qui contient maintenant les markers\n",
    "carte"
   ]
  },
  {
   "cell_type": "markdown",
   "metadata": {},
   "source": [
    "Reprendre le code pour générer une nouvelle carte 'map_detail' dans laquelle les popups contiendront du code html formaté (table) avec le nom de la clés 'type' en gras dans la première ligne et sa valeur dans une seconde ligne.\n",
    "\n",
    "Utiliser une fonction pour créer le contenu de la popup.\n",
    "\n",
    "le modèle de code HTML à utiliser est : "
   ]
  },
  {
   "cell_type": "raw",
   "metadata": {},
   "source": [
    "<table style=\"width: 125px\">\n",
    "    <tr>\n",
    "        <th>Type d'arbre</th>\n",
    "    </tr>\n",
    "    <tr>\n",
    "        <td>Chêne</td>\n",
    "    </tr>\n",
    "</table>"
   ]
  },
  {
   "cell_type": "code",
   "execution_count": 49,
   "metadata": {
    "collapsed": true,
    "jupyter": {
     "outputs_hidden": true
    }
   },
   "outputs": [
    {
     "data": {
      "text/html": [
       "<div style=\"width:100%;\"><div style=\"position:relative;width:100%;height:0;padding-bottom:60%;\"><span style=\"color:#565656\">Make this Notebook Trusted to load map: File -> Trust Notebook</span><iframe src=\"about:blank\" style=\"position:absolute;width:100%;height:100%;left:0;top:0;border:none !important;\" data-html=%3C%21DOCTYPE%20html%3E%0A%3Chead%3E%20%20%20%20%0A%20%20%20%20%3Cmeta%20http-equiv%3D%22content-type%22%20content%3D%22text/html%3B%20charset%3DUTF-8%22%20/%3E%0A%20%20%20%20%0A%20%20%20%20%20%20%20%20%3Cscript%3E%0A%20%20%20%20%20%20%20%20%20%20%20%20L_NO_TOUCH%20%3D%20false%3B%0A%20%20%20%20%20%20%20%20%20%20%20%20L_DISABLE_3D%20%3D%20false%3B%0A%20%20%20%20%20%20%20%20%3C/script%3E%0A%20%20%20%20%0A%20%20%20%20%3Cstyle%3Ehtml%2C%20body%20%7Bwidth%3A%20100%25%3Bheight%3A%20100%25%3Bmargin%3A%200%3Bpadding%3A%200%3B%7D%3C/style%3E%0A%20%20%20%20%3Cstyle%3E%23map%20%7Bposition%3Aabsolute%3Btop%3A0%3Bbottom%3A0%3Bright%3A0%3Bleft%3A0%3B%7D%3C/style%3E%0A%20%20%20%20%3Cscript%20src%3D%22https%3A//cdn.jsdelivr.net/npm/leaflet%401.6.0/dist/leaflet.js%22%3E%3C/script%3E%0A%20%20%20%20%3Cscript%20src%3D%22https%3A//code.jquery.com/jquery-1.12.4.min.js%22%3E%3C/script%3E%0A%20%20%20%20%3Cscript%20src%3D%22https%3A//maxcdn.bootstrapcdn.com/bootstrap/3.2.0/js/bootstrap.min.js%22%3E%3C/script%3E%0A%20%20%20%20%3Cscript%20src%3D%22https%3A//cdnjs.cloudflare.com/ajax/libs/Leaflet.awesome-markers/2.0.2/leaflet.awesome-markers.js%22%3E%3C/script%3E%0A%20%20%20%20%3Clink%20rel%3D%22stylesheet%22%20href%3D%22https%3A//cdn.jsdelivr.net/npm/leaflet%401.6.0/dist/leaflet.css%22/%3E%0A%20%20%20%20%3Clink%20rel%3D%22stylesheet%22%20href%3D%22https%3A//maxcdn.bootstrapcdn.com/bootstrap/3.2.0/css/bootstrap.min.css%22/%3E%0A%20%20%20%20%3Clink%20rel%3D%22stylesheet%22%20href%3D%22https%3A//maxcdn.bootstrapcdn.com/bootstrap/3.2.0/css/bootstrap-theme.min.css%22/%3E%0A%20%20%20%20%3Clink%20rel%3D%22stylesheet%22%20href%3D%22https%3A//maxcdn.bootstrapcdn.com/font-awesome/4.6.3/css/font-awesome.min.css%22/%3E%0A%20%20%20%20%3Clink%20rel%3D%22stylesheet%22%20href%3D%22https%3A//cdnjs.cloudflare.com/ajax/libs/Leaflet.awesome-markers/2.0.2/leaflet.awesome-markers.css%22/%3E%0A%20%20%20%20%3Clink%20rel%3D%22stylesheet%22%20href%3D%22https%3A//cdn.jsdelivr.net/gh/python-visualization/folium/folium/templates/leaflet.awesome.rotate.min.css%22/%3E%0A%20%20%20%20%0A%20%20%20%20%20%20%20%20%20%20%20%20%3Cmeta%20name%3D%22viewport%22%20content%3D%22width%3Ddevice-width%2C%0A%20%20%20%20%20%20%20%20%20%20%20%20%20%20%20%20initial-scale%3D1.0%2C%20maximum-scale%3D1.0%2C%20user-scalable%3Dno%22%20/%3E%0A%20%20%20%20%20%20%20%20%20%20%20%20%3Cstyle%3E%0A%20%20%20%20%20%20%20%20%20%20%20%20%20%20%20%20%23map_d57c1d289a664908bf28cb6b113539db%20%7B%0A%20%20%20%20%20%20%20%20%20%20%20%20%20%20%20%20%20%20%20%20position%3A%20relative%3B%0A%20%20%20%20%20%20%20%20%20%20%20%20%20%20%20%20%20%20%20%20width%3A%20100.0%25%3B%0A%20%20%20%20%20%20%20%20%20%20%20%20%20%20%20%20%20%20%20%20height%3A%20100.0%25%3B%0A%20%20%20%20%20%20%20%20%20%20%20%20%20%20%20%20%20%20%20%20left%3A%200.0%25%3B%0A%20%20%20%20%20%20%20%20%20%20%20%20%20%20%20%20%20%20%20%20top%3A%200.0%25%3B%0A%20%20%20%20%20%20%20%20%20%20%20%20%20%20%20%20%7D%0A%20%20%20%20%20%20%20%20%20%20%20%20%3C/style%3E%0A%20%20%20%20%20%20%20%20%0A%3C/head%3E%0A%3Cbody%3E%20%20%20%20%0A%20%20%20%20%0A%20%20%20%20%20%20%20%20%20%20%20%20%3Cdiv%20class%3D%22folium-map%22%20id%3D%22map_d57c1d289a664908bf28cb6b113539db%22%20%3E%3C/div%3E%0A%20%20%20%20%20%20%20%20%0A%3C/body%3E%0A%3Cscript%3E%20%20%20%20%0A%20%20%20%20%0A%20%20%20%20%20%20%20%20%20%20%20%20var%20map_d57c1d289a664908bf28cb6b113539db%20%3D%20L.map%28%0A%20%20%20%20%20%20%20%20%20%20%20%20%20%20%20%20%22map_d57c1d289a664908bf28cb6b113539db%22%2C%0A%20%20%20%20%20%20%20%20%20%20%20%20%20%20%20%20%7B%0A%20%20%20%20%20%20%20%20%20%20%20%20%20%20%20%20%20%20%20%20center%3A%20%5B48.8535%2C%202.3482%5D%2C%0A%20%20%20%20%20%20%20%20%20%20%20%20%20%20%20%20%20%20%20%20crs%3A%20L.CRS.EPSG3857%2C%0A%20%20%20%20%20%20%20%20%20%20%20%20%20%20%20%20%20%20%20%20zoom%3A%2012%2C%0A%20%20%20%20%20%20%20%20%20%20%20%20%20%20%20%20%20%20%20%20zoomControl%3A%20true%2C%0A%20%20%20%20%20%20%20%20%20%20%20%20%20%20%20%20%20%20%20%20preferCanvas%3A%20false%2C%0A%20%20%20%20%20%20%20%20%20%20%20%20%20%20%20%20%7D%0A%20%20%20%20%20%20%20%20%20%20%20%20%29%3B%0A%0A%20%20%20%20%20%20%20%20%20%20%20%20%0A%0A%20%20%20%20%20%20%20%20%0A%20%20%20%20%0A%20%20%20%20%20%20%20%20%20%20%20%20var%20tile_layer_55334adfc1524fb1b582dc7b6fb1f3ad%20%3D%20L.tileLayer%28%0A%20%20%20%20%20%20%20%20%20%20%20%20%20%20%20%20%22https%3A//cartodb-basemaps-%7Bs%7D.global.ssl.fastly.net/light_all/%7Bz%7D/%7Bx%7D/%7By%7D.png%22%2C%0A%20%20%20%20%20%20%20%20%20%20%20%20%20%20%20%20%7B%22attribution%22%3A%20%22%5Cu0026copy%3B%20%5Cu003ca%20href%3D%5C%22http%3A//www.openstreetmap.org/copyright%5C%22%5Cu003eOpenStreetMap%5Cu003c/a%5Cu003e%20contributors%20%5Cu0026copy%3B%20%5Cu003ca%20href%3D%5C%22http%3A//cartodb.com/attributions%5C%22%5Cu003eCartoDB%5Cu003c/a%5Cu003e%2C%20CartoDB%20%5Cu003ca%20href%20%3D%5C%22http%3A//cartodb.com/attributions%5C%22%5Cu003eattributions%5Cu003c/a%5Cu003e%22%2C%20%22detectRetina%22%3A%20false%2C%20%22maxNativeZoom%22%3A%2018%2C%20%22maxZoom%22%3A%2018%2C%20%22minZoom%22%3A%200%2C%20%22noWrap%22%3A%20false%2C%20%22opacity%22%3A%201%2C%20%22subdomains%22%3A%20%22abc%22%2C%20%22tms%22%3A%20false%7D%0A%20%20%20%20%20%20%20%20%20%20%20%20%29.addTo%28map_d57c1d289a664908bf28cb6b113539db%29%3B%0A%20%20%20%20%20%20%20%20%0A%20%20%20%20%0A%20%20%20%20%20%20%20%20%20%20%20%20var%20marker_3b251e2a1d0e4daba7078ed4473cc23d%20%3D%20L.marker%28%0A%20%20%20%20%20%20%20%20%20%20%20%20%20%20%20%20%5B48.8736809161%2C%202.29025241063%5D%2C%0A%20%20%20%20%20%20%20%20%20%20%20%20%20%20%20%20%7B%7D%0A%20%20%20%20%20%20%20%20%20%20%20%20%29.addTo%28map_d57c1d289a664908bf28cb6b113539db%29%3B%0A%20%20%20%20%20%20%20%20%0A%20%20%20%20%0A%20%20%20%20%20%20%20%20%20%20%20%20var%20icon_8e8cbc3e86444de6a14184203696a0f9%20%3D%20L.AwesomeMarkers.icon%28%0A%20%20%20%20%20%20%20%20%20%20%20%20%20%20%20%20%7B%22extraClasses%22%3A%20%22fa-rotate-0%22%2C%20%22icon%22%3A%20%22leaf%22%2C%20%22iconColor%22%3A%20%22white%22%2C%20%22markerColor%22%3A%20%22green%22%2C%20%22prefix%22%3A%20%22glyphicon%22%7D%0A%20%20%20%20%20%20%20%20%20%20%20%20%29%3B%0A%20%20%20%20%20%20%20%20%20%20%20%20marker_3b251e2a1d0e4daba7078ed4473cc23d.setIcon%28icon_8e8cbc3e86444de6a14184203696a0f9%29%3B%0A%20%20%20%20%20%20%20%20%0A%20%20%20%20%0A%20%20%20%20%20%20%20%20var%20popup_f06cf2849aa44b84ba35835962fe0fcf%20%3D%20L.popup%28%7B%22maxWidth%22%3A%20%22100%25%22%7D%29%3B%0A%0A%20%20%20%20%20%20%20%20%0A%20%20%20%20%20%20%20%20%20%20%20%20var%20html_06435c396bc6414ea27d8dade01ac592%20%3D%20%24%28%60%3Cdiv%20id%3D%22html_06435c396bc6414ea27d8dade01ac592%22%20style%3D%22width%3A%20100.0%25%3B%20height%3A%20100.0%25%3B%22%3E%20%3Ctable%20style%3D%22width%3A%20125px%22%3E%20%20%20%20%20%3Ctr%3E%20%20%20%20%20%20%20%20%20%3Cth%3EType%20d%27arbre%3C/th%3E%20%20%20%20%20%3C/tr%3E%20%20%20%20%20%3Ctr%3E%20%20%20%20%20%20%20%20%20%3Ctd%3E%3Ci%3Esapin%3C/i%3E%3C/td%3E%20%20%20%20%20%3C/tr%3E%20%3C/table%3E%20%20%20%20%20%3C/div%3E%60%29%5B0%5D%3B%0A%20%20%20%20%20%20%20%20%20%20%20%20popup_f06cf2849aa44b84ba35835962fe0fcf.setContent%28html_06435c396bc6414ea27d8dade01ac592%29%3B%0A%20%20%20%20%20%20%20%20%0A%0A%20%20%20%20%20%20%20%20marker_3b251e2a1d0e4daba7078ed4473cc23d.bindPopup%28popup_f06cf2849aa44b84ba35835962fe0fcf%29%0A%20%20%20%20%20%20%20%20%3B%0A%0A%20%20%20%20%20%20%20%20%0A%20%20%20%20%0A%20%20%20%20%0A%20%20%20%20%20%20%20%20%20%20%20%20var%20marker_9aae04aa94784bc2853a017ea08158d1%20%3D%20L.marker%28%0A%20%20%20%20%20%20%20%20%20%20%20%20%20%20%20%20%5B48.8577764958%2C%202.31452314446%5D%2C%0A%20%20%20%20%20%20%20%20%20%20%20%20%20%20%20%20%7B%7D%0A%20%20%20%20%20%20%20%20%20%20%20%20%29.addTo%28map_d57c1d289a664908bf28cb6b113539db%29%3B%0A%20%20%20%20%20%20%20%20%0A%20%20%20%20%0A%20%20%20%20%20%20%20%20%20%20%20%20var%20icon_e18a85c0f0d84c649a7f8cc40ce7bd68%20%3D%20L.AwesomeMarkers.icon%28%0A%20%20%20%20%20%20%20%20%20%20%20%20%20%20%20%20%7B%22extraClasses%22%3A%20%22fa-rotate-0%22%2C%20%22icon%22%3A%20%22leaf%22%2C%20%22iconColor%22%3A%20%22white%22%2C%20%22markerColor%22%3A%20%22green%22%2C%20%22prefix%22%3A%20%22glyphicon%22%7D%0A%20%20%20%20%20%20%20%20%20%20%20%20%29%3B%0A%20%20%20%20%20%20%20%20%20%20%20%20marker_9aae04aa94784bc2853a017ea08158d1.setIcon%28icon_e18a85c0f0d84c649a7f8cc40ce7bd68%29%3B%0A%20%20%20%20%20%20%20%20%0A%20%20%20%20%0A%20%20%20%20%20%20%20%20var%20popup_cb06152d84f84480a9a7cd2b0acff3c2%20%3D%20L.popup%28%7B%22maxWidth%22%3A%20%22100%25%22%7D%29%3B%0A%0A%20%20%20%20%20%20%20%20%0A%20%20%20%20%20%20%20%20%20%20%20%20var%20html_79a0ebfe4c97479bb85eaf7c999992d6%20%3D%20%24%28%60%3Cdiv%20id%3D%22html_79a0ebfe4c97479bb85eaf7c999992d6%22%20style%3D%22width%3A%20100.0%25%3B%20height%3A%20100.0%25%3B%22%3E%20%3Ctable%20style%3D%22width%3A%20125px%22%3E%20%20%20%20%20%3Ctr%3E%20%20%20%20%20%20%20%20%20%3Cth%3EType%20d%27arbre%3C/th%3E%20%20%20%20%20%3C/tr%3E%20%20%20%20%20%3Ctr%3E%20%20%20%20%20%20%20%20%20%3Ctd%3E%3Ci%3Eerable%3C/i%3E%3C/td%3E%20%20%20%20%20%3C/tr%3E%20%3C/table%3E%20%20%20%20%20%3C/div%3E%60%29%5B0%5D%3B%0A%20%20%20%20%20%20%20%20%20%20%20%20popup_cb06152d84f84480a9a7cd2b0acff3c2.setContent%28html_79a0ebfe4c97479bb85eaf7c999992d6%29%3B%0A%20%20%20%20%20%20%20%20%0A%0A%20%20%20%20%20%20%20%20marker_9aae04aa94784bc2853a017ea08158d1.bindPopup%28popup_cb06152d84f84480a9a7cd2b0acff3c2%29%0A%20%20%20%20%20%20%20%20%3B%0A%0A%20%20%20%20%20%20%20%20%0A%20%20%20%20%0A%20%20%20%20%0A%20%20%20%20%20%20%20%20%20%20%20%20var%20marker_d9bd8fafebbc40b19d88913af9ba61cc%20%3D%20L.marker%28%0A%20%20%20%20%20%20%20%20%20%20%20%20%20%20%20%20%5B48.8678069026%2C%202.38883414897%5D%2C%0A%20%20%20%20%20%20%20%20%20%20%20%20%20%20%20%20%7B%7D%0A%20%20%20%20%20%20%20%20%20%20%20%20%29.addTo%28map_d57c1d289a664908bf28cb6b113539db%29%3B%0A%20%20%20%20%20%20%20%20%0A%20%20%20%20%0A%20%20%20%20%20%20%20%20%20%20%20%20var%20icon_80beff26ba534c5c9bb35f5e10dfbc81%20%3D%20L.AwesomeMarkers.icon%28%0A%20%20%20%20%20%20%20%20%20%20%20%20%20%20%20%20%7B%22extraClasses%22%3A%20%22fa-rotate-0%22%2C%20%22icon%22%3A%20%22leaf%22%2C%20%22iconColor%22%3A%20%22white%22%2C%20%22markerColor%22%3A%20%22green%22%2C%20%22prefix%22%3A%20%22glyphicon%22%7D%0A%20%20%20%20%20%20%20%20%20%20%20%20%29%3B%0A%20%20%20%20%20%20%20%20%20%20%20%20marker_d9bd8fafebbc40b19d88913af9ba61cc.setIcon%28icon_80beff26ba534c5c9bb35f5e10dfbc81%29%3B%0A%20%20%20%20%20%20%20%20%0A%20%20%20%20%0A%20%20%20%20%20%20%20%20var%20popup_905ba71febcc49a3bc4fd54bd2421b20%20%3D%20L.popup%28%7B%22maxWidth%22%3A%20%22100%25%22%7D%29%3B%0A%0A%20%20%20%20%20%20%20%20%0A%20%20%20%20%20%20%20%20%20%20%20%20var%20html_21eba4fb8201424d8f5988abea858692%20%3D%20%24%28%60%3Cdiv%20id%3D%22html_21eba4fb8201424d8f5988abea858692%22%20style%3D%22width%3A%20100.0%25%3B%20height%3A%20100.0%25%3B%22%3E%20%3Ctable%20style%3D%22width%3A%20125px%22%3E%20%20%20%20%20%3Ctr%3E%20%20%20%20%20%20%20%20%20%3Cth%3EType%20d%27arbre%3C/th%3E%20%20%20%20%20%3C/tr%3E%20%20%20%20%20%3Ctr%3E%20%20%20%20%20%20%20%20%20%3Ctd%3E%3Ci%3Esapin%3C/i%3E%3C/td%3E%20%20%20%20%20%3C/tr%3E%20%3C/table%3E%20%20%20%20%20%3C/div%3E%60%29%5B0%5D%3B%0A%20%20%20%20%20%20%20%20%20%20%20%20popup_905ba71febcc49a3bc4fd54bd2421b20.setContent%28html_21eba4fb8201424d8f5988abea858692%29%3B%0A%20%20%20%20%20%20%20%20%0A%0A%20%20%20%20%20%20%20%20marker_d9bd8fafebbc40b19d88913af9ba61cc.bindPopup%28popup_905ba71febcc49a3bc4fd54bd2421b20%29%0A%20%20%20%20%20%20%20%20%3B%0A%0A%20%20%20%20%20%20%20%20%0A%20%20%20%20%0A%20%20%20%20%0A%20%20%20%20%20%20%20%20%20%20%20%20var%20marker_d5b669e65ae449539fad7677e9915823%20%3D%20L.marker%28%0A%20%20%20%20%20%20%20%20%20%20%20%20%20%20%20%20%5B48.8183891866%2C%202.43791851368%5D%2C%0A%20%20%20%20%20%20%20%20%20%20%20%20%20%20%20%20%7B%7D%0A%20%20%20%20%20%20%20%20%20%20%20%20%29.addTo%28map_d57c1d289a664908bf28cb6b113539db%29%3B%0A%20%20%20%20%20%20%20%20%0A%20%20%20%20%0A%20%20%20%20%20%20%20%20%20%20%20%20var%20icon_79751df925044b9b949a5fda53ba903b%20%3D%20L.AwesomeMarkers.icon%28%0A%20%20%20%20%20%20%20%20%20%20%20%20%20%20%20%20%7B%22extraClasses%22%3A%20%22fa-rotate-0%22%2C%20%22icon%22%3A%20%22leaf%22%2C%20%22iconColor%22%3A%20%22white%22%2C%20%22markerColor%22%3A%20%22green%22%2C%20%22prefix%22%3A%20%22glyphicon%22%7D%0A%20%20%20%20%20%20%20%20%20%20%20%20%29%3B%0A%20%20%20%20%20%20%20%20%20%20%20%20marker_d5b669e65ae449539fad7677e9915823.setIcon%28icon_79751df925044b9b949a5fda53ba903b%29%3B%0A%20%20%20%20%20%20%20%20%0A%20%20%20%20%0A%20%20%20%20%20%20%20%20var%20popup_5a694de9af664b3b958052e99408a306%20%3D%20L.popup%28%7B%22maxWidth%22%3A%20%22100%25%22%7D%29%3B%0A%0A%20%20%20%20%20%20%20%20%0A%20%20%20%20%20%20%20%20%20%20%20%20var%20html_3bc8d330b3e641f08b27d38c7d9602dd%20%3D%20%24%28%60%3Cdiv%20id%3D%22html_3bc8d330b3e641f08b27d38c7d9602dd%22%20style%3D%22width%3A%20100.0%25%3B%20height%3A%20100.0%25%3B%22%3E%20%3Ctable%20style%3D%22width%3A%20125px%22%3E%20%20%20%20%20%3Ctr%3E%20%20%20%20%20%20%20%20%20%3Cth%3EType%20d%27arbre%3C/th%3E%20%20%20%20%20%3C/tr%3E%20%20%20%20%20%3Ctr%3E%20%20%20%20%20%20%20%20%20%3Ctd%3E%3Ci%3Eerable%3C/i%3E%3C/td%3E%20%20%20%20%20%3C/tr%3E%20%3C/table%3E%20%20%20%20%20%3C/div%3E%60%29%5B0%5D%3B%0A%20%20%20%20%20%20%20%20%20%20%20%20popup_5a694de9af664b3b958052e99408a306.setContent%28html_3bc8d330b3e641f08b27d38c7d9602dd%29%3B%0A%20%20%20%20%20%20%20%20%0A%0A%20%20%20%20%20%20%20%20marker_d5b669e65ae449539fad7677e9915823.bindPopup%28popup_5a694de9af664b3b958052e99408a306%29%0A%20%20%20%20%20%20%20%20%3B%0A%0A%20%20%20%20%20%20%20%20%0A%20%20%20%20%0A%20%20%20%20%0A%20%20%20%20%20%20%20%20%20%20%20%20var%20marker_b6b527c65e4944bea4ba24edd9a26b0f%20%3D%20L.marker%28%0A%20%20%20%20%20%20%20%20%20%20%20%20%20%20%20%20%5B48.8465652331%2C%202.25242001202%5D%2C%0A%20%20%20%20%20%20%20%20%20%20%20%20%20%20%20%20%7B%7D%0A%20%20%20%20%20%20%20%20%20%20%20%20%29.addTo%28map_d57c1d289a664908bf28cb6b113539db%29%3B%0A%20%20%20%20%20%20%20%20%0A%20%20%20%20%0A%20%20%20%20%20%20%20%20%20%20%20%20var%20icon_8c0c8f934b0043b4a6ba0494c38de44c%20%3D%20L.AwesomeMarkers.icon%28%0A%20%20%20%20%20%20%20%20%20%20%20%20%20%20%20%20%7B%22extraClasses%22%3A%20%22fa-rotate-0%22%2C%20%22icon%22%3A%20%22leaf%22%2C%20%22iconColor%22%3A%20%22white%22%2C%20%22markerColor%22%3A%20%22green%22%2C%20%22prefix%22%3A%20%22glyphicon%22%7D%0A%20%20%20%20%20%20%20%20%20%20%20%20%29%3B%0A%20%20%20%20%20%20%20%20%20%20%20%20marker_b6b527c65e4944bea4ba24edd9a26b0f.setIcon%28icon_8c0c8f934b0043b4a6ba0494c38de44c%29%3B%0A%20%20%20%20%20%20%20%20%0A%20%20%20%20%0A%20%20%20%20%20%20%20%20var%20popup_d684d6a4847d40c681945e6a015e3ae8%20%3D%20L.popup%28%7B%22maxWidth%22%3A%20%22100%25%22%7D%29%3B%0A%0A%20%20%20%20%20%20%20%20%0A%20%20%20%20%20%20%20%20%20%20%20%20var%20html_0be7609cb64949bba1ecd8228fedb686%20%3D%20%24%28%60%3Cdiv%20id%3D%22html_0be7609cb64949bba1ecd8228fedb686%22%20style%3D%22width%3A%20100.0%25%3B%20height%3A%20100.0%25%3B%22%3E%20%3Ctable%20style%3D%22width%3A%20125px%22%3E%20%20%20%20%20%3Ctr%3E%20%20%20%20%20%20%20%20%20%3Cth%3EType%20d%27arbre%3C/th%3E%20%20%20%20%20%3C/tr%3E%20%20%20%20%20%3Ctr%3E%20%20%20%20%20%20%20%20%20%3Ctd%3E%3Ci%3Epin%3C/i%3E%3C/td%3E%20%20%20%20%20%3C/tr%3E%20%3C/table%3E%20%20%20%20%20%3C/div%3E%60%29%5B0%5D%3B%0A%20%20%20%20%20%20%20%20%20%20%20%20popup_d684d6a4847d40c681945e6a015e3ae8.setContent%28html_0be7609cb64949bba1ecd8228fedb686%29%3B%0A%20%20%20%20%20%20%20%20%0A%0A%20%20%20%20%20%20%20%20marker_b6b527c65e4944bea4ba24edd9a26b0f.bindPopup%28popup_d684d6a4847d40c681945e6a015e3ae8%29%0A%20%20%20%20%20%20%20%20%3B%0A%0A%20%20%20%20%20%20%20%20%0A%20%20%20%20%0A%20%20%20%20%0A%20%20%20%20%20%20%20%20%20%20%20%20var%20marker_b8f549df93ee4a0986587ba4b73feadb%20%3D%20L.marker%28%0A%20%20%20%20%20%20%20%20%20%20%20%20%20%20%20%20%5B48.857749011%2C%202.33940394029%5D%2C%0A%20%20%20%20%20%20%20%20%20%20%20%20%20%20%20%20%7B%7D%0A%20%20%20%20%20%20%20%20%20%20%20%20%29.addTo%28map_d57c1d289a664908bf28cb6b113539db%29%3B%0A%20%20%20%20%20%20%20%20%0A%20%20%20%20%0A%20%20%20%20%20%20%20%20%20%20%20%20var%20icon_5defef1b69e64dadbb523fa59e9a03a6%20%3D%20L.AwesomeMarkers.icon%28%0A%20%20%20%20%20%20%20%20%20%20%20%20%20%20%20%20%7B%22extraClasses%22%3A%20%22fa-rotate-0%22%2C%20%22icon%22%3A%20%22leaf%22%2C%20%22iconColor%22%3A%20%22white%22%2C%20%22markerColor%22%3A%20%22green%22%2C%20%22prefix%22%3A%20%22glyphicon%22%7D%0A%20%20%20%20%20%20%20%20%20%20%20%20%29%3B%0A%20%20%20%20%20%20%20%20%20%20%20%20marker_b8f549df93ee4a0986587ba4b73feadb.setIcon%28icon_5defef1b69e64dadbb523fa59e9a03a6%29%3B%0A%20%20%20%20%20%20%20%20%0A%20%20%20%20%0A%20%20%20%20%20%20%20%20var%20popup_18948463a7d94a5296bb0a0d67459c29%20%3D%20L.popup%28%7B%22maxWidth%22%3A%20%22100%25%22%7D%29%3B%0A%0A%20%20%20%20%20%20%20%20%0A%20%20%20%20%20%20%20%20%20%20%20%20var%20html_51abdf901e694df5966126d7e91dab2a%20%3D%20%24%28%60%3Cdiv%20id%3D%22html_51abdf901e694df5966126d7e91dab2a%22%20style%3D%22width%3A%20100.0%25%3B%20height%3A%20100.0%25%3B%22%3E%20%3Ctable%20style%3D%22width%3A%20125px%22%3E%20%20%20%20%20%3Ctr%3E%20%20%20%20%20%20%20%20%20%3Cth%3EType%20d%27arbre%3C/th%3E%20%20%20%20%20%3C/tr%3E%20%20%20%20%20%3Ctr%3E%20%20%20%20%20%20%20%20%20%3Ctd%3E%3Ci%3Eplatane%3C/i%3E%3C/td%3E%20%20%20%20%20%3C/tr%3E%20%3C/table%3E%20%20%20%20%20%3C/div%3E%60%29%5B0%5D%3B%0A%20%20%20%20%20%20%20%20%20%20%20%20popup_18948463a7d94a5296bb0a0d67459c29.setContent%28html_51abdf901e694df5966126d7e91dab2a%29%3B%0A%20%20%20%20%20%20%20%20%0A%0A%20%20%20%20%20%20%20%20marker_b8f549df93ee4a0986587ba4b73feadb.bindPopup%28popup_18948463a7d94a5296bb0a0d67459c29%29%0A%20%20%20%20%20%20%20%20%3B%0A%0A%20%20%20%20%20%20%20%20%0A%20%20%20%20%0A%3C/script%3E onload=\"this.contentDocument.open();this.contentDocument.write(    decodeURIComponent(this.getAttribute('data-html')));this.contentDocument.close();\" allowfullscreen webkitallowfullscreen mozallowfullscreen></iframe></div></div>"
      ],
      "text/plain": [
       "<folium.folium.Map at 0x3d90700460>"
      ]
     },
     "execution_count": 49,
     "metadata": {},
     "output_type": "execute_result"
    }
   ],
   "source": [
    "# ici votre code\n",
    "def afficherpopup(valeur):\n",
    "    return \"\"\"\n",
    "<table style=\"width: 125px\">\n",
    "    <tr>\n",
    "        <th>Type d'arbre</th>\n",
    "    </tr>\n",
    "    <tr>\n",
    "        <td><i>{}</i></td>\n",
    "    </tr>\n",
    "</table>\n",
    "    \"\"\".format(valeur)\n",
    "map_detail=f.Map(location=[48.8535, 2.3482],zoom_start=12,tiles=\"CartoDB positron\")\n",
    "for i in arbres:\n",
    "    f.Marker([i['point'][0],i['point'][1]],\n",
    "            popup=afficherpopup(i['type']),\n",
    "            icon=folium.Icon(color='green',icon='leaf')).add_to(map_detail)\n",
    "map_detail"
   ]
  },
  {
   "cell_type": "markdown",
   "metadata": {},
   "source": [
    "#### Exercice de synthèse : GeoJson, Dict, List, Chaine, Fonctions, Folium\n",
    "Charger la donnée des arbres remarquables depuis le fichier Json\n",
    "\n",
    "Filtrer des objets (ne garder que les Platanes)\n",
    "\n",
    "Calculer leur emprise\n",
    "\n",
    "Créer une fonction de popup\n",
    "\n",
    "Créer une carte vide\n",
    "\n",
    "Ajouter les markers à la carte avec leur popup\n",
    "\n",
    "Initialiser le zoom sur l'emprise calculée\n",
    "\n",
    "Afficher la carte"
   ]
  },
  {
   "cell_type": "markdown",
   "metadata": {},
   "source": [
    "Attention à l'ordre des coordonnées dans la création des markers à partir du GeoJson (bien les comparer avec ceux présenté dans les premiers exercices)"
   ]
  },
  {
   "cell_type": "markdown",
   "metadata": {},
   "source": [
    "Pour cet excercices on va faire des étapes dans des cellules du notebook, on transformera ensuite cela en script python"
   ]
  },
  {
   "cell_type": "code",
   "execution_count": 50,
   "metadata": {},
   "outputs": [],
   "source": [
    "#Etape Initiale : importer les packages necessaires\n",
    "import json\n",
    "import folium"
   ]
  },
  {
   "cell_type": "code",
   "execution_count": 73,
   "metadata": {},
   "outputs": [
    {
     "data": {
      "text/plain": [
       "{'dateplantation': '1700-01-01T01:02:49+00:53',\n",
       " 'libellefrancais': 'Chêne',\n",
       " 'objectid': 25049,\n",
       " 'idemplacement': '000206003 / 16-32',\n",
       " 'arrondissement': 'PARIS 16E ARRDT',\n",
       " 'typeemplacement': 'Arbre',\n",
       " 'hauteurenm': 10.0,\n",
       " 'espece': 'ilex',\n",
       " 'adresse': 'JARDIN DE L AVENUE FOCH / 10 AVENUE FOCH',\n",
       " 'geom_x_y': [48.8736809161, 2.29025241063],\n",
       " 'pepiniere': 'Inconnue',\n",
       " 'stadedeveloppement': 'M',\n",
       " 'remarquable': '1',\n",
       " 'idbase': 114867.0,\n",
       " 'genre': 'Quercus',\n",
       " 'complementadresse': 'PELOUSE 10 - 20 à 26',\n",
       " 'domanialite': 'Jardin',\n",
       " 'circonferenceencm': 204.0}"
      ]
     },
     "execution_count": 73,
     "metadata": {},
     "output_type": "execute_result"
    }
   ],
   "source": [
    "# Etape 1 : Import du fichier GeoJson sous forme de dict python\n",
    "chemin='../data/arbresremarquablesparis.geojson'\n",
    "# chargement du fichier\n",
    "d= json.load(open(chemin, 'r',encoding='utf8'))\n",
    "d['features'][0]['properties']"
   ]
  },
  {
   "cell_type": "code",
   "execution_count": 77,
   "metadata": {},
   "outputs": [
    {
     "data": {
      "text/plain": [
       "[{'type': 'Feature',\n",
       "  'geometry': {'type': 'Point', 'coordinates': [2.29025241063, 48.8736809161]},\n",
       "  'properties': {'dateplantation': '1700-01-01T01:02:49+00:53',\n",
       "   'libellefrancais': 'Chêne',\n",
       "   'objectid': 25049,\n",
       "   'idemplacement': '000206003 / 16-32',\n",
       "   'arrondissement': 'PARIS 16E ARRDT',\n",
       "   'typeemplacement': 'Arbre',\n",
       "   'hauteurenm': 10.0,\n",
       "   'espece': 'ilex',\n",
       "   'adresse': 'JARDIN DE L AVENUE FOCH / 10 AVENUE FOCH',\n",
       "   'geom_x_y': [48.8736809161, 2.29025241063],\n",
       "   'pepiniere': 'Inconnue',\n",
       "   'stadedeveloppement': 'M',\n",
       "   'remarquable': '1',\n",
       "   'idbase': 114867.0,\n",
       "   'genre': 'Quercus',\n",
       "   'complementadresse': 'PELOUSE 10 - 20 à 26',\n",
       "   'domanialite': 'Jardin',\n",
       "   'circonferenceencm': 204.0}},\n",
       " {'type': 'Feature',\n",
       "  'geometry': {'type': 'Point', 'coordinates': [2.43791851368, 48.8183891866]},\n",
       "  'properties': {'dateplantation': '1860-01-01T01:02:49+00:53',\n",
       "   'libellefrancais': 'Chêne',\n",
       "   'objectid': 47232,\n",
       "   'idemplacement': '12-15',\n",
       "   'arrondissement': 'BOIS DE VINCENNES',\n",
       "   'typeemplacement': 'Arbre',\n",
       "   'hauteurenm': 20.0,\n",
       "   'espece': 'ilex',\n",
       "   'adresse': 'PENTE DE GRAVELLE - AVENUE DE GRAVELLE / ROUTE NOUVELLE',\n",
       "   'geom_x_y': [48.8183891866, 2.43791851368],\n",
       "   'pepiniere': 'Inconnue',\n",
       "   'stadedeveloppement': 'M',\n",
       "   'remarquable': '1',\n",
       "   'idbase': 2002385.0,\n",
       "   'genre': 'Quercus',\n",
       "   'complementadresse': '12-15',\n",
       "   'domanialite': 'Jardin',\n",
       "   'circonferenceencm': 245.0}},\n",
       " {'type': 'Feature',\n",
       "  'geometry': {'type': 'Point', 'coordinates': [2.25242001202, 48.8465652331]},\n",
       "  'properties': {'dateplantation': '1700-01-01T01:02:49+00:53',\n",
       "   'libellefrancais': 'Chêne',\n",
       "   'objectid': 212806,\n",
       "   'idemplacement': '00040039',\n",
       "   'arrondissement': 'PARIS 16E ARRDT',\n",
       "   'typeemplacement': 'Arbre',\n",
       "   'hauteurenm': 13.0,\n",
       "   'espece': 'ilex',\n",
       "   'adresse': 'JARDIN DES SERRES D AUTEUIL / 1 AVENUE GORDON BENNETT',\n",
       "   'geom_x_y': [48.8465652331, 2.25242001202],\n",
       "   'pepiniere': 'Inconnue',\n",
       "   'stadedeveloppement': 'M',\n",
       "   'remarquable': '1',\n",
       "   'idbase': 136323.0,\n",
       "   'genre': 'Quercus',\n",
       "   'domanialite': 'Jardin',\n",
       "   'circonferenceencm': 233.0}},\n",
       " {'type': 'Feature',\n",
       "  'geometry': {'type': 'Point', 'coordinates': [2.30097558498, 48.8396441672]},\n",
       "  'properties': {'dateplantation': '1700-01-01T01:02:49+00:53',\n",
       "   'libellefrancais': 'Chêne',\n",
       "   'objectid': 102087,\n",
       "   'idemplacement': '000106001',\n",
       "   'arrondissement': 'PARIS 15E ARRDT',\n",
       "   'typeemplacement': 'Arbre',\n",
       "   'hauteurenm': 15.0,\n",
       "   'espece': 'frainetto',\n",
       "   'adresse': 'SQUARE DE LA PLACE ADOLPHE CHERIOUX / 260 RUE DE VAUGIRARD',\n",
       "   'geom_x_y': [48.8396441672, 2.30097558498],\n",
       "   'pepiniere': 'Inconnue',\n",
       "   'stadedeveloppement': 'A',\n",
       "   'remarquable': '1',\n",
       "   'idbase': 113597.0,\n",
       "   'genre': 'Quercus',\n",
       "   'domanialite': 'Jardin',\n",
       "   'circonferenceencm': 180.0}},\n",
       " {'type': 'Feature',\n",
       "  'geometry': {'type': 'Point', 'coordinates': [2.44974260862, 48.8433078707]},\n",
       "  'properties': {'dateplantation': '1815-01-01T01:02:49+00:53',\n",
       "   'libellefrancais': 'Chêne',\n",
       "   'objectid': 219766,\n",
       "   'idemplacement': '12-26',\n",
       "   'arrondissement': 'BOIS DE VINCENNES',\n",
       "   'typeemplacement': 'Arbre',\n",
       "   'hauteurenm': 30.0,\n",
       "   'espece': 'robur',\n",
       "   'adresse': 'FORT NEUF - AVENUE DE LA PEPINIERE / ROUTE DU GRAND MARECHAL',\n",
       "   'geom_x_y': [48.8433078707, 2.44974260862],\n",
       "   'pepiniere': 'Inconnue',\n",
       "   'stadedeveloppement': 'M',\n",
       "   'remarquable': '1',\n",
       "   'idbase': 2002375.0,\n",
       "   'genre': 'Quercus',\n",
       "   'complementadresse': '12-26',\n",
       "   'domanialite': 'Jardin',\n",
       "   'circonferenceencm': 464.0}},\n",
       " {'type': 'Feature',\n",
       "  'geometry': {'type': 'Point', 'coordinates': [2.33578615166, 48.8218388917]},\n",
       "  'properties': {'dateplantation': '1700-01-01T01:02:49+00:53',\n",
       "   'libellefrancais': 'Chêne',\n",
       "   'objectid': 172193,\n",
       "   'idemplacement': '0311B1011',\n",
       "   'arrondissement': 'PARIS 14E ARRDT',\n",
       "   'typeemplacement': 'Arbre',\n",
       "   'hauteurenm': 15.0,\n",
       "   'espece': 'ilex',\n",
       "   'adresse': 'PARC MONTSOURIS / 28 BOULEVARD JOURDAN',\n",
       "   'geom_x_y': [48.8218388917, 2.33578615166],\n",
       "   'pepiniere': 'Inconnue',\n",
       "   'stadedeveloppement': 'M',\n",
       "   'remarquable': '1',\n",
       "   'idbase': 110934.0,\n",
       "   'genre': 'Quercus',\n",
       "   'complementadresse': 'Volcan / Puits',\n",
       "   'domanialite': 'Jardin',\n",
       "   'circonferenceencm': 250.0}},\n",
       " {'type': 'Feature',\n",
       "  'geometry': {'type': 'Point', 'coordinates': [2.40656685552, 48.8388163194]},\n",
       "  'properties': {'dateplantation': '1990-01-01T02:00:00+01:00',\n",
       "   'libellefrancais': 'Chêne',\n",
       "   'objectid': 46210,\n",
       "   'idemplacement': '00000026',\n",
       "   'arrondissement': 'PARIS 12E ARRDT',\n",
       "   'typeemplacement': 'Arbre',\n",
       "   'hauteurenm': 14.0,\n",
       "   'espece': 'frainetto',\n",
       "   'adresse': 'SQUARE CHARLES PEGUY',\n",
       "   'geom_x_y': [48.8388163194, 2.40656685552],\n",
       "   'pepiniere': 'Inconnue',\n",
       "   'stadedeveloppement': 'A',\n",
       "   'remarquable': '1',\n",
       "   'idbase': 123156.0,\n",
       "   'genre': 'Quercus',\n",
       "   'complementadresse': '12-37',\n",
       "   'domanialite': 'Jardin',\n",
       "   'circonferenceencm': 169.0}},\n",
       " {'type': 'Feature',\n",
       "  'geometry': {'type': 'Point', 'coordinates': [2.25286614408, 48.8471733403]},\n",
       "  'properties': {'dateplantation': '1895-01-01T01:09:21+01:00',\n",
       "   'libellefrancais': 'Chêne',\n",
       "   'objectid': 181328,\n",
       "   'idemplacement': '00040054',\n",
       "   'arrondissement': 'PARIS 16E ARRDT',\n",
       "   'typeemplacement': 'Arbre',\n",
       "   'hauteurenm': 11.0,\n",
       "   'espece': 'suber subsp. Occidentalis',\n",
       "   'adresse': 'JARDIN DES SERRES D AUTEUIL / 1 AVENUE GORDON BENNETT',\n",
       "   'geom_x_y': [48.8471733403, 2.25286614408],\n",
       "   'pepiniere': 'Inconnue',\n",
       "   'stadedeveloppement': 'M',\n",
       "   'remarquable': '1',\n",
       "   'idbase': 136338.0,\n",
       "   'genre': 'Quercus',\n",
       "   'domanialite': 'Jardin',\n",
       "   'circonferenceencm': 217.0}},\n",
       " {'type': 'Feature',\n",
       "  'geometry': {'type': 'Point', 'coordinates': [2.36318943607, 48.8682954419]},\n",
       "  'properties': {'dateplantation': '2017-11-09T02:00:00+01:00',\n",
       "   'libellefrancais': 'Chêne',\n",
       "   'objectid': 201825,\n",
       "   'idemplacement': '000401009',\n",
       "   'arrondissement': 'PARIS 10E ARRDT',\n",
       "   'typeemplacement': 'Arbre',\n",
       "   'hauteurenm': 7.0,\n",
       "   'espece': 'cerris',\n",
       "   'adresse': 'PLACE DE LA REPUBLIQUE',\n",
       "   'geom_x_y': [48.8682954419, 2.36318943607],\n",
       "   'pepiniere': 'Guillot Bourne',\n",
       "   'stadedeveloppement': 'J',\n",
       "   'remarquable': '1',\n",
       "   'idbase': 2017817.0,\n",
       "   'genre': 'Quercus',\n",
       "   'domanialite': 'Alignement',\n",
       "   'circonferenceencm': 51.0}},\n",
       " {'type': 'Feature',\n",
       "  'geometry': {'type': 'Point', 'coordinates': [2.34991527056, 48.8330206707]},\n",
       "  'properties': {'dateplantation': '1700-01-01T01:02:49+00:53',\n",
       "   'libellefrancais': 'Chêne',\n",
       "   'objectid': 204851,\n",
       "   'idemplacement': '00010268',\n",
       "   'arrondissement': 'PARIS 13E ARRDT',\n",
       "   'typeemplacement': 'Arbre',\n",
       "   'hauteurenm': 10.0,\n",
       "   'espece': 'cerris',\n",
       "   'adresse': 'SQUARE RENE LE GALL',\n",
       "   'geom_x_y': [48.8330206707, 2.34991527056],\n",
       "   'pepiniere': 'Inconnue',\n",
       "   'stadedeveloppement': 'A',\n",
       "   'remarquable': '1',\n",
       "   'idbase': 104839.0,\n",
       "   'genre': 'Quercus',\n",
       "   'complementadresse': '13-04',\n",
       "   'domanialite': 'Jardin',\n",
       "   'circonferenceencm': 130.0}},\n",
       " {'type': 'Feature',\n",
       "  'geometry': {'type': 'Point', 'coordinates': [2.4613206192, 48.8341740278]},\n",
       "  'properties': {'dateplantation': '1784-01-01T01:02:49+00:53',\n",
       "   'libellefrancais': 'Chêne',\n",
       "   'objectid': 143996,\n",
       "   'idemplacement': '12-25',\n",
       "   'arrondissement': 'BOIS DE VINCENNES',\n",
       "   'typeemplacement': 'Arbre',\n",
       "   'hauteurenm': 30.0,\n",
       "   'espece': 'robur',\n",
       "   'adresse': 'LAC DES MINIMES - ROUTE RONDE DES MINIMES',\n",
       "   'geom_x_y': [48.8341740278, 2.4613206192],\n",
       "   'pepiniere': 'Inconnue',\n",
       "   'stadedeveloppement': 'M',\n",
       "   'remarquable': '1',\n",
       "   'idbase': 2002376.0,\n",
       "   'genre': 'Quercus',\n",
       "   'complementadresse': '12-25',\n",
       "   'domanialite': 'Jardin',\n",
       "   'circonferenceencm': 422.0}}]"
      ]
     },
     "execution_count": 77,
     "metadata": {},
     "output_type": "execute_result"
    }
   ],
   "source": [
    "# Etape 2 : créer une fonction qui filtre les données selon la valeur d'un attrubut\n",
    "# (réutiliser la fonction des exercices de la séance 4)\n",
    "def filtrer(data,v,atrb):\n",
    "    entite=[x for x in data['features'] if x['properties'][atrb]==v]\n",
    "    return entite\n",
    "filtrer(d,'Chêne','libellefrancais')"
   ]
  },
  {
   "cell_type": "code",
   "execution_count": null,
   "metadata": {},
   "outputs": [],
   "source": [
    "# Etape 3 : Créer une nouvelle fonction qui va calculer l'emprise des données\n",
    "# indication sur le format de l'emprise : [[ymin, xmin], [ymax, xmax]]\n",
    "def emprise():\n",
    "    pass"
   ]
  },
  {
   "cell_type": "code",
   "execution_count": null,
   "metadata": {},
   "outputs": [],
   "source": [
    "# Etape 4 : faire une fonction pour créer une popop à partir \n",
    "# de toutes les properties d'un objet\n",
    "\n",
    "def mapopup_arbre():\n",
    "    pass"
   ]
  },
  {
   "cell_type": "code",
   "execution_count": null,
   "metadata": {},
   "outputs": [],
   "source": [
    "## Affichage des données issues des deux fonctions :\n",
    "resultat = filtrer(data, 'Sophora', 'libellefrancais')\n",
    "geoemprise = emprise(resultat)"
   ]
  },
  {
   "cell_type": "code",
   "execution_count": null,
   "metadata": {},
   "outputs": [],
   "source": [
    "# Etape 5 : Créer la carte, y ajouter les markers pour les objets filtrés, \n",
    "# appliquer le zoom sur l'emprise (trouver dans la documentation fit_bounds)\n",
    "\n"
   ]
  },
  {
   "cell_type": "code",
   "execution_count": null,
   "metadata": {},
   "outputs": [],
   "source": [
    "# Etape 6 : Afficher la carte dans le notebook\n"
   ]
  },
  {
   "cell_type": "code",
   "execution_count": null,
   "metadata": {},
   "outputs": [],
   "source": [
    "# Etape 7 : Enregistrer la carte dans une page HTML\n"
   ]
  },
  {
   "cell_type": "markdown",
   "metadata": {},
   "source": [
    "### Si vous voulez ..."
   ]
  },
  {
   "cell_type": "markdown",
   "metadata": {},
   "source": [
    "Choisir une autre source de données GeoJson (sur un site OpenData) et refaire le déroulé de l'exercice de synthèse.\n",
    "\n",
    "Essayer en prenant un Geojson qui n'est pas composé de géométries de types points, ajuster les fonctions développées à l'exercice de synthèse pour répondre aux différents types de géométrie.\n",
    "\n",
    "Consulter la documentation Folium pour la création de géométries autres que ponctuelles.\n",
    "\n",
    "\n",
    "**Exemple proposé :** \n",
    "\n",
    "https://opendata.paris.fr/explore/dataset/stationnement-sur-voie-publique-emprises\n",
    "\n",
    "Filtrer sur les emplacements de 2 roues de plus de 10 place et zoomer dessus"
   ]
  },
  {
   "cell_type": "code",
   "execution_count": null,
   "metadata": {},
   "outputs": [],
   "source": []
  }
 ],
 "metadata": {
  "kernelspec": {
   "display_name": "Python 3",
   "language": "python",
   "name": "python3"
  },
  "language_info": {
   "codemirror_mode": {
    "name": "ipython",
    "version": 3
   },
   "file_extension": ".py",
   "mimetype": "text/x-python",
   "name": "python",
   "nbconvert_exporter": "python",
   "pygments_lexer": "ipython3",
   "version": "3.8.6"
  }
 },
 "nbformat": 4,
 "nbformat_minor": 4
}
