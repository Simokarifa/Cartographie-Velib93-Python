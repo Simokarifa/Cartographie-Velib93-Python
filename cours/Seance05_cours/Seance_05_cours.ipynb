{
 "cells": [
  {
   "cell_type": "markdown",
   "metadata": {},
   "source": [
    "# Séance 5 : Modules et Packages"
   ]
  },
  {
   "cell_type": "markdown",
   "metadata": {},
   "source": [
    "## Packages et Modules"
   ]
  },
  {
   "cell_type": "markdown",
   "metadata": {},
   "source": [
    "#### Module ?\n",
    "https://docs.python.org/fr/3/tutorial/modules.html"
   ]
  },
  {
   "cell_type": "markdown",
   "metadata": {},
   "source": [
    "#### Module : exemple du module Math\n",
    "    \n",
    "https://docs.python.org/3/library/math.html"
   ]
  },
  {
   "cell_type": "code",
   "execution_count": null,
   "metadata": {},
   "outputs": [],
   "source": [
    "import math\n",
    "type(math)"
   ]
  },
  {
   "cell_type": "code",
   "execution_count": null,
   "metadata": {},
   "outputs": [],
   "source": [
    "math.pi"
   ]
  },
  {
   "cell_type": "code",
   "execution_count": null,
   "metadata": {},
   "outputs": [],
   "source": [
    "type(math.pi)"
   ]
  },
  {
   "cell_type": "code",
   "execution_count": null,
   "metadata": {},
   "outputs": [],
   "source": [
    "type(math.floor)"
   ]
  },
  {
   "cell_type": "code",
   "execution_count": null,
   "metadata": {},
   "outputs": [],
   "source": [
    "import math as m\n",
    "m.pi"
   ]
  },
  {
   "cell_type": "code",
   "execution_count": null,
   "metadata": {},
   "outputs": [],
   "source": [
    "from math import pi\n",
    "pi"
   ]
  },
  {
   "cell_type": "code",
   "execution_count": null,
   "metadata": {},
   "outputs": [],
   "source": [
    "import math.pi"
   ]
  },
  {
   "cell_type": "markdown",
   "metadata": {},
   "source": [
    "#### Package ?\n",
    "\n",
    "Repertoire qui contient un ensemble de module, ou des sous-package \n"
   ]
  },
  {
   "cell_type": "markdown",
   "metadata": {},
   "source": [
    "On importe tous le package qui devient un objet à partir duquel on peut accéder aux sous packages et modules"
   ]
  },
  {
   "cell_type": "code",
   "execution_count": null,
   "metadata": {},
   "outputs": [],
   "source": [
    "import datetime"
   ]
  },
  {
   "cell_type": "code",
   "execution_count": null,
   "metadata": {},
   "outputs": [],
   "source": [
    "datetime.date.today()"
   ]
  },
  {
   "cell_type": "markdown",
   "metadata": {},
   "source": [
    "Ou on peut importer avec * TOUS les modules et sous-packages qui seront autant de points d'entrée"
   ]
  },
  {
   "cell_type": "code",
   "execution_count": null,
   "metadata": {},
   "outputs": [],
   "source": [
    "from datetime import *"
   ]
  },
  {
   "cell_type": "code",
   "execution_count": null,
   "metadata": {},
   "outputs": [],
   "source": [
    "date.today()"
   ]
  },
  {
   "cell_type": "code",
   "execution_count": null,
   "metadata": {},
   "outputs": [],
   "source": [
    "datetime.now()"
   ]
  },
  {
   "cell_type": "markdown",
   "metadata": {},
   "source": [
    "Ou encore sélectionner ce que l'on importe, on accède ensuite aux objets correspondant aux modules comme avec le *"
   ]
  },
  {
   "cell_type": "code",
   "execution_count": null,
   "metadata": {},
   "outputs": [],
   "source": [
    "from datetime import datetime, date"
   ]
  },
  {
   "cell_type": "code",
   "execution_count": null,
   "metadata": {},
   "outputs": [],
   "source": [
    "date.today()"
   ]
  },
  {
   "cell_type": "code",
   "execution_count": null,
   "metadata": {},
   "outputs": [],
   "source": [
    "datetime.now()"
   ]
  },
  {
   "cell_type": "markdown",
   "metadata": {},
   "source": [
    "## Installation de Packages externes"
   ]
  },
  {
   "cell_type": "markdown",
   "metadata": {},
   "source": [
    "#### Installation de Packages (voir PPT du cours #1)"
   ]
  },
  {
   "cell_type": "markdown",
   "metadata": {},
   "source": [
    "#### Lister les packages installés (voir PPT du cours #1)"
   ]
  },
  {
   "cell_type": "markdown",
   "metadata": {},
   "source": [
    "#### Fichiers de requirements  (voir PPT du cours #1)"
   ]
  },
  {
   "cell_type": "markdown",
   "metadata": {},
   "source": [
    "## Installer un package externe : Folium pour la création de cartes "
   ]
  },
  {
   "cell_type": "markdown",
   "metadata": {},
   "source": [
    "### Installation : \n",
    "    \n",
    "pip install folium\n",
    "\n",
    "L'installation peut se faire : \n",
    "\n",
    "- soit en coupant jupyter le temps de l'installation pour reprendre la main sur la console déjà ouverte, dans ce cas penser à relancer jupyter une fois le package installé\n",
    "\n",
    "- soit en ouvrant une nouvelle console et en y activant l'environnement virtuel\n",
    "\n",
    "- soit en utilisant la console proposée par Jupyter Lab ... qui travaille déjà dans le bon environnement virtuel\n",
    "\n",
    "... penser à en profiter pour mettre à jour le requirements.txt !"
   ]
  },
  {
   "cell_type": "markdown",
   "metadata": {},
   "source": [
    "Liens vers Folium : \n",
    "- http://folium.readthedocs.io/en/latest/quickstart.html#getting-started\n",
    "- http://nbviewer.jupyter.org/github/python-visualization/folium/tree/master/examples/"
   ]
  },
  {
   "cell_type": "code",
   "execution_count": null,
   "metadata": {},
   "outputs": [],
   "source": [
    "import folium\n",
    "map_osm = folium.Map(location=[48.853, 2.35], zoom_start=12)\n",
    "map_osm"
   ]
  },
  {
   "cell_type": "markdown",
   "metadata": {},
   "source": [
    "Utilisation d'autres fonds de plan (extrait sources de Folium) :\n",
    "\n",
    "    Generate a base map of given width and height with either default\n",
    "    tilesets or a custom tileset URL. The following tilesets are built-in\n",
    "    to Folium. Pass any of the following to the \"tiles\" keyword:\n",
    "        - \"OpenStreetMap\"\n",
    "        - \"Mapbox Bright\" (Limited levels of zoom for free tiles)\n",
    "        - \"Mapbox Control Room\" (Limited levels of zoom for free tiles)\n",
    "        - \"Stamen\" (Terrain, Toner, and Watercolor)\n",
    "        - \"Cloudmade\" (Must pass API key)\n",
    "        - \"Mapbox\" (Must pass API key)\n",
    "        - \"CartoDB\" (positron and dark_matter)\n",
    "    You can pass a custom tileset to Folium by passing a Leaflet-style\n",
    "    URL to the tiles parameter: ``http://{s}.yourtiles.com/{z}/{x}/{y}.png``"
   ]
  },
  {
   "cell_type": "code",
   "execution_count": null,
   "metadata": {},
   "outputs": [],
   "source": [
    "map_cartodb = folium.Map(location=[48.853, 2.35], \n",
    "                         zoom_start=12, \n",
    "                         tiles='CartoDB positron')\n",
    "map_cartodb"
   ]
  },
  {
   "cell_type": "code",
   "execution_count": null,
   "metadata": {},
   "outputs": [],
   "source": [
    "attr = ('© <a href=\"https://www.mapbox.com/about/maps/\">Mapbox</a> © <a href=\"http://www.openstreetmap.org/copyright\">OpenStreetMap</a> <strong><a href=\"https://www.mapbox.com/map-feedback/\" target=\"_blank\">Improve this map</a></strong>')\n",
    "\n",
    "map_mapbox = folium.Map(\n",
    "    location=[48.853, 2.35], \n",
    "    zoom_start=16, \n",
    "    tiles='Mapbox',\n",
    "    API_key='METTRE ICI VOTRE CLES',\n",
    "    attr=attr)\n",
    "\n",
    "map_mapbox"
   ]
  },
  {
   "cell_type": "markdown",
   "metadata": {},
   "source": [
    "### Configuration manuelle d'une source de fond de plan Leaflet\n",
    "\n",
    "En plus d'une URL qui reprend le modèle http://{s}.yourtiles.com/{z}/{x}/{y}.png\n",
    "il faut fournirà la carte des attributions dans un attribut attr"
   ]
  },
  {
   "cell_type": "code",
   "execution_count": null,
   "metadata": {},
   "outputs": [],
   "source": [
    "attr = ('© <a href=\"https://www.mapbox.com/about/maps/\">Mapbox</a> © <a href=\"http://www.openstreetmap.org/copyright\">OpenStreetMap</a> <strong><a href=\"https://www.mapbox.com/map-feedback/\" target=\"_blank\">Improve this map</a></strong>')\n",
    "map_mapbox_custo = folium.Map(\n",
    "    location=[48.853, 2.35], \n",
    "    zoom_start=19, \n",
    "    tiles='https://api.mapbox.com/v4/mapbox.streets/{z}/{x}/{y}.png?access_token=pk.eyJ1IjoibW9jY2FuZCIsImEiOiJjaXpmbWRyZWUwMDEwMnp1bzJoYXE5aDVkIn0.CINH36B9Vlqj8n-TuPR1yA',\n",
    "    attr=attr)\n",
    "map_mapbox_custo"
   ]
  },
  {
   "cell_type": "markdown",
   "metadata": {},
   "source": [
    "Liste des fonds de plan MapBox\n",
    "https://www.mapbox.com/maps/"
   ]
  },
  {
   "cell_type": "markdown",
   "metadata": {},
   "source": [
    "#### Autres fournisseurs de fonds de plan avec configuration leaflet \n",
    "\n",
    "http://leaflet-extras.github.io/leaflet-providers/preview/\n"
   ]
  },
  {
   "cell_type": "code",
   "execution_count": null,
   "metadata": {},
   "outputs": [],
   "source": [
    "from IPython.display import IFrame\n",
    "\n",
    "IFrame('http://leaflet-extras.github.io/leaflet-providers/preview/', \n",
    "       width=900, height=750)"
   ]
  },
  {
   "cell_type": "markdown",
   "metadata": {},
   "source": [
    "# Affichier des données vectorielles par dessus la carte"
   ]
  },
  {
   "cell_type": "markdown",
   "metadata": {},
   "source": [
    "Avec fichier Json avec son path directement passé en paramètre pour la création du GeoJson Folium"
   ]
  },
  {
   "cell_type": "code",
   "execution_count": null,
   "metadata": {},
   "outputs": [],
   "source": [
    "# créatin de la carte\n",
    "map_geojson1 = folium.Map(location=[48.853, 2.35], zoom_start=12)\n",
    "\n",
    "# création de l'objet GeoJson de Folium et ajout à la volée à la carte (add_to)\n",
    "folium.GeoJson('./data/arrondissements.geojson',\n",
    "               name ='geojson'\n",
    "              ).add_to(map_geojson1)\n",
    "\n",
    "# Affichage de la carte en mode Jupyter\n",
    "map_geojson1"
   ]
  },
  {
   "cell_type": "markdown",
   "metadata": {},
   "source": [
    "## Ajouter des markers et popup"
   ]
  },
  {
   "cell_type": "code",
   "execution_count": null,
   "metadata": {},
   "outputs": [],
   "source": [
    "# création de la carte\n",
    "map = folium.Map(location=[48.853, 2.35], zoom_start=17, tiles='CartoDB positron')\n",
    "\n",
    "# création d'un marker simple avec popup, et ajout à la volée à la carte : \n",
    "folium.Marker([48.853, 2.35], popup='Notre-Dame de Paris').add_to(map)\n",
    "\n",
    "# ajout d'une seconde popup qui indique les coordonnées quand on clique \n",
    "# sur la carte (sauf si clic sur un marker)\n",
    "map.add_child(folium.LatLngPopup())\n",
    "\n",
    "# Affichage de la carte en mode jupyter\n",
    "map"
   ]
  },
  {
   "cell_type": "markdown",
   "metadata": {},
   "source": [
    "### Styles des Markers : couleurs et icons \n",
    "\n",
    "les codes utilisables sont ceux de Bootstrap : \n",
    "pour utiliser 'glyphicon-info-sign'\n",
    "ne prendre que 'info-sign' (tronquer le nom tel que donné dans le site bootstrap)"
   ]
  },
  {
   "cell_type": "code",
   "execution_count": null,
   "metadata": {},
   "outputs": [],
   "source": [
    "from IPython.display import IFrame\n",
    "\n",
    "IFrame('https://getbootstrap.com/docs/3.3/components/', width=900, height=750)"
   ]
  },
  {
   "cell_type": "code",
   "execution_count": null,
   "metadata": {},
   "outputs": [],
   "source": [
    "map = folium.Map(location=[48.853, 2.35], zoom_start=17, tiles='CartoDB positron')\n",
    "\n",
    "folium.Marker([48.8535, 2.3482],\n",
    "              popup='Parvis de Notre-Dame',\n",
    "              icon=folium.Icon(color='red',icon='info-sign')\n",
    "              ).add_to(map)\n",
    "\n",
    "folium.Marker([48.853, 2.35],\n",
    "              popup='Notre-Dame de Paris',\n",
    "              icon=folium.Icon(color='blue',icon='camera')\n",
    "             ).add_to(map)\n",
    "\n",
    "folium.Marker([48.8541, 2.3485],\n",
    "              popup='Hôtel-Dieu',\n",
    "              icon=folium.Icon(color='green', icon='header')\n",
    "             ).add_to(map)\n",
    "\n",
    "map"
   ]
  },
  {
   "cell_type": "markdown",
   "metadata": {},
   "source": [
    "Follium permet de sauver la carte (avec les données dans la page HTML)\n",
    "\n",
    "cela fonctionne donc en python hors Jupyter"
   ]
  },
  {
   "cell_type": "code",
   "execution_count": null,
   "metadata": {},
   "outputs": [],
   "source": [
    "map.save(\"index.html\")"
   ]
  }
 ],
 "metadata": {
  "kernelspec": {
   "display_name": "Python 3",
   "language": "python",
   "name": "python3"
  },
  "language_info": {
   "codemirror_mode": {
    "name": "ipython",
    "version": 3
   },
   "file_extension": ".py",
   "mimetype": "text/x-python",
   "name": "python",
   "nbconvert_exporter": "python",
   "pygments_lexer": "ipython3",
   "version": "3.7.4"
  }
 },
 "nbformat": 4,
 "nbformat_minor": 4
}
