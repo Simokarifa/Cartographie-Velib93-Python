{
 "cells": [
  {
   "cell_type": "markdown",
   "metadata": {},
   "source": [
    "# Séance 4 : Fonctions, Espaces de nomage, Exceptions"
   ]
  },
  {
   "cell_type": "markdown",
   "metadata": {},
   "source": [
    "## Anatomie d'une fonction"
   ]
  },
  {
   "cell_type": "markdown",
   "metadata": {},
   "source": [
    "#### Définition minimale avec docstring sous la définition"
   ]
  },
  {
   "cell_type": "code",
   "execution_count": null,
   "metadata": {},
   "outputs": [],
   "source": [
    "# Définition de la fonction qui est un objet dans la mémoire\n",
    "def carre(var):\n",
    "    \"\"\"\n",
    "    Fonction qui met au carré une variable\n",
    "    :param var: objet de type int\n",
    "    :return: int\n",
    "    \"\"\"\n",
    "    # utilisation d'une variable dans l'espace de nomage de la fonction\n",
    "    temp_var = var**2\n",
    "    print('la fonction fait son calcul : {}'.format(temp_var))\n",
    "    # si la fonction doit retourner quelque chose :\n",
    "    return temp_var\n",
    "\n",
    "# code qui fait appel à la fonction\n",
    "valeur = carre(2)\n",
    "print(valeur)"
   ]
  },
  {
   "cell_type": "code",
   "execution_count": null,
   "metadata": {},
   "outputs": [],
   "source": [
    "carre?"
   ]
  },
  {
   "cell_type": "code",
   "execution_count": null,
   "metadata": {},
   "outputs": [],
   "source": [
    "help(carre)"
   ]
  },
  {
   "cell_type": "markdown",
   "metadata": {},
   "source": [
    "Avec Python 3 il est possible d'utiliser des annotations dans les fonctions \n",
    "cela peut servir à remplacer les docstring pour documenter les types des arguments attendus et le type de la donnée retournée\n",
    "\n",
    "https://www.python.org/dev/peps/pep-0484/"
   ]
  },
  {
   "cell_type": "code",
   "execution_count": null,
   "metadata": {},
   "outputs": [],
   "source": [
    "def cube(var : int) -> int :\n",
    "    return var ** 3\n",
    "\n",
    "print(cube(2))\n",
    "print(cube(2.2))"
   ]
  },
  {
   "cell_type": "code",
   "execution_count": null,
   "metadata": {},
   "outputs": [],
   "source": [
    "def cube(var : int) -> int :\n",
    "    return var ** 3\n",
    "\n",
    "print(cube(2))\n",
    "print(cube(2.2))"
   ]
  },
  {
   "cell_type": "markdown",
   "metadata": {},
   "source": [
    "Utilisation d'un paramètre qui n'est pas du type souhaité ? \n",
    "\n",
    "Erreur dans le code de la fonction, pas dans l'appel de la fonction"
   ]
  },
  {
   "cell_type": "code",
   "execution_count": null,
   "metadata": {},
   "outputs": [],
   "source": [
    "cube(\"a\")"
   ]
  },
  {
   "cell_type": "code",
   "execution_count": null,
   "metadata": {},
   "outputs": [],
   "source": [
    "def cube(var : int) -> int :\n",
    "    return \"une chaine\"\n",
    "\n",
    "print(cube(2))\n",
    "print(cube(2.2))"
   ]
  },
  {
   "cell_type": "code",
   "execution_count": null,
   "metadata": {},
   "outputs": [],
   "source": [
    "cube?"
   ]
  },
  {
   "cell_type": "code",
   "execution_count": null,
   "metadata": {},
   "outputs": [],
   "source": [
    "help(cube)"
   ]
  },
  {
   "cell_type": "markdown",
   "metadata": {},
   "source": [
    "#### Une fonction est un objet ..."
   ]
  },
  {
   "cell_type": "code",
   "execution_count": null,
   "metadata": {},
   "outputs": [],
   "source": [
    "ma_fonction = carre\n",
    "\n",
    "ma_fonction(2)"
   ]
  },
  {
   "cell_type": "markdown",
   "metadata": {},
   "source": [
    "#### pass : pour ne rien faire là où la structure python attend une instruction"
   ]
  },
  {
   "cell_type": "code",
   "execution_count": null,
   "metadata": {},
   "outputs": [],
   "source": [
    "def ma_fonction():\n",
    "    pass"
   ]
  },
  {
   "cell_type": "markdown",
   "metadata": {},
   "source": [
    "Cela sert aussi dans les boucles et structures conditionnelles"
   ]
  },
  {
   "cell_type": "code",
   "execution_count": null,
   "metadata": {},
   "outputs": [],
   "source": [
    "liste = [1, 2, 3]\n",
    "\n",
    "for item in liste:\n",
    "    pass"
   ]
  },
  {
   "cell_type": "markdown",
   "metadata": {},
   "source": [
    "## Variables et espaces de nommage"
   ]
  },
  {
   "cell_type": "markdown",
   "metadata": {},
   "source": [
    "Les variables internes à une fonction ne sont pas utilisable en dehors de la fonction : "
   ]
  },
  {
   "cell_type": "code",
   "execution_count": null,
   "metadata": {},
   "outputs": [],
   "source": [
    "def carre(var):\n",
    "    \"\"\"\n",
    "    Fonction qui met au carré une variable\n",
    "    :param var: objet de type int\n",
    "    :return: int\n",
    "    \"\"\"\n",
    "    # utilisation d'une variable dans l'espace de nomage de la fonction\n",
    "    temp_var = var**2\n",
    "    print('la fonction fait son calcul : {}'.format(temp_var))\n",
    "    # si la fonction doit retourner quelque chose :\n",
    "    return temp_var\n",
    "\n",
    "temp = carre(2)\n",
    "\n",
    "temp_var"
   ]
  },
  {
   "cell_type": "markdown",
   "metadata": {},
   "source": [
    "Mais dans une fonction il est possible d'utiliser des variable contenue dans un espace englobant (ici la racine du code)"
   ]
  },
  {
   "cell_type": "code",
   "execution_count": null,
   "metadata": {},
   "outputs": [],
   "source": [
    "temp_var = 10\n",
    "temp_global = 12\n",
    "\n",
    "def carre(var):\n",
    "    print('temp_global dans la fonction : {}'.format(temp_global))\n",
    "    temp_var = var**2\n",
    "    print('temp_var dans la fonction : {}'.format(temp_var))\n",
    "    return temp_var\n",
    "\n",
    "temp = carre(2)\n",
    "\n",
    "print('temp_var après la fonction : {}'.format(temp_var))\n",
    "temp_var"
   ]
  },
  {
   "cell_type": "markdown",
   "metadata": {},
   "source": [
    "L'utilisation d'une définition \"global\" d'une variable dans une fonction permet de dire que l'on va modifier une variable"
   ]
  },
  {
   "cell_type": "code",
   "execution_count": null,
   "metadata": {},
   "outputs": [],
   "source": [
    "temp_var = 10\n",
    "temp_global = 12\n",
    "\n",
    "def carre(var):\n",
    "    global temp_var\n",
    "    print('temp_global dans la fonction : {}'.format(temp_global))\n",
    "    print('temp_var dans la fonction avant calcul : {}'.format(temp_var))\n",
    "    temp_var = var**2\n",
    "    print('temp_var dans la fonction après calcul : {}'.format(temp_var))\n",
    "    return temp_var\n",
    "\n",
    "temp = carre(2)\n",
    "\n",
    "print('temp_var après la fonction : {}'.format(temp_var))\n",
    "temp_var"
   ]
  },
  {
   "cell_type": "markdown",
   "metadata": {},
   "source": [
    "La règle à appliquer pour comprendre la porté des variables : LEG\n",
    "- L : localement\n",
    "- E : dans les fonctions englobantes (voir vidéo ci-dessous)\n",
    "- G : Globalement\n",
    "\n",
    "\n",
    "Pour aller plus loin vidéo issue du mooc INRIA sur Python : \n",
    "- https://www.youtube.com/watch?v=L__mdt2TxVU\n",
    "\n",
    "A l'issu des cours 4 (et 5) on aura parcouru les bases de Python pour commencer à manipuler des fichiers, des cartes, créer des strcture de script.\n",
    "\n",
    "les autres vidéo de ce Mooc donnent de tres bonnes bases et une tres bonne compréhension de python. A regarder !\n",
    "\n"
   ]
  },
  {
   "cell_type": "markdown",
   "metadata": {},
   "source": [
    "## Paramètres positionnels obligatoires"
   ]
  },
  {
   "cell_type": "markdown",
   "metadata": {},
   "source": [
    "Tous les paramètres définis dans la fonction son obligatoire et traité dans l'ordre"
   ]
  },
  {
   "cell_type": "code",
   "execution_count": null,
   "metadata": {},
   "outputs": [],
   "source": [
    "def puissance(val, puissance):\n",
    "    return val**puissance\n",
    "\n",
    "puissance(2,3)"
   ]
  },
  {
   "cell_type": "code",
   "execution_count": null,
   "metadata": {},
   "outputs": [],
   "source": [
    "puissance(2)"
   ]
  },
  {
   "cell_type": "markdown",
   "metadata": {},
   "source": [
    "## Paramètre nommés"
   ]
  },
  {
   "cell_type": "markdown",
   "metadata": {},
   "source": [
    "Ces paramètres sont optionnels, ils ont une valeur par défaut définie dans la fonction.\n",
    "Pour appeler la fonction en passant une valeur spécifique il faut utiliser le nom du paramètre ou respecter l'ordre sans oublier de paramètre"
   ]
  },
  {
   "cell_type": "markdown",
   "metadata": {},
   "source": [
    "### Exemple 1"
   ]
  },
  {
   "cell_type": "code",
   "execution_count": null,
   "metadata": {},
   "outputs": [],
   "source": [
    "def puissance(val, puissance=2):\n",
    "    return val**puissance"
   ]
  },
  {
   "cell_type": "code",
   "execution_count": null,
   "metadata": {},
   "outputs": [],
   "source": [
    "puissance(2)"
   ]
  },
  {
   "cell_type": "code",
   "execution_count": null,
   "metadata": {},
   "outputs": [],
   "source": [
    "puissance(2, 3)"
   ]
  },
  {
   "cell_type": "code",
   "execution_count": null,
   "metadata": {},
   "outputs": [],
   "source": [
    "puissance(puissance=3, val=2)"
   ]
  },
  {
   "cell_type": "code",
   "execution_count": null,
   "metadata": {},
   "outputs": [],
   "source": [
    "puissance(2,puissance=3)"
   ]
  },
  {
   "cell_type": "code",
   "execution_count": null,
   "metadata": {},
   "outputs": [],
   "source": [
    "puissance(puissance=3, 2)"
   ]
  },
  {
   "cell_type": "markdown",
   "metadata": {},
   "source": [
    "### Exemple 2"
   ]
  },
  {
   "cell_type": "code",
   "execution_count": null,
   "metadata": {},
   "outputs": [],
   "source": [
    "def puissance2(val, puissance=2, message=\"\"):\n",
    "    if message != \"\" : \n",
    "        print(message)\n",
    "    return val**puissance\n",
    "\n",
    "puissance2(2,3,\"coucou\")"
   ]
  },
  {
   "cell_type": "code",
   "execution_count": null,
   "metadata": {},
   "outputs": [],
   "source": [
    "puissance2(2)"
   ]
  },
  {
   "cell_type": "code",
   "execution_count": null,
   "metadata": {},
   "outputs": [],
   "source": [
    "puissance2(2, \"coucou\")"
   ]
  },
  {
   "cell_type": "code",
   "execution_count": null,
   "metadata": {},
   "outputs": [],
   "source": [
    "puissance?"
   ]
  },
  {
   "cell_type": "markdown",
   "metadata": {},
   "source": [
    "# Functions lambda"
   ]
  },
  {
   "cell_type": "markdown",
   "metadata": {},
   "source": [
    "Une fonction lambda sert à créer directement là où on en a besoin une fonction pour traiter une variable sans avoir à créer dans le code une fonction ailleurs"
   ]
  },
  {
   "cell_type": "code",
   "execution_count": null,
   "metadata": {},
   "outputs": [],
   "source": [
    "# nous disposons d'une fonction que l'on peut utiliser plusieurs fois : \n",
    "a = 3\n",
    "b = carre(a)\n",
    "b"
   ]
  },
  {
   "cell_type": "code",
   "execution_count": null,
   "metadata": {},
   "outputs": [],
   "source": [
    "# mais si ce calcul n'est fait qu'une fois \n",
    "# alors le code faisant référence à une fonction codée ailleurs cela complique la lecture\n",
    "# la fonction lambda permet de faire le calcul directement là où elle est necessaire\n",
    "a = 3\n",
    "b = (lambda x: x**2)(3)\n",
    "b"
   ]
  },
  {
   "cell_type": "markdown",
   "metadata": {},
   "source": [
    "Extrait de : \n",
    "    \n",
    "https://docs.python.org/3/faq/design.html#why-can-t-lambda-expressions-contain-statements\n",
    "    \n",
    "    \n",
    "\"Python lambdas are only a shorthand notation if you’re too lazy to define a function.\""
   ]
  },
  {
   "cell_type": "markdown",
   "metadata": {},
   "source": [
    "# Points d'attention sur l'usage des notebook"
   ]
  },
  {
   "cell_type": "markdown",
   "metadata": {},
   "source": [
    "## Renomages des variables et des fonctions"
   ]
  },
  {
   "cell_type": "code",
   "execution_count": null,
   "metadata": {},
   "outputs": [],
   "source": [
    "def mafonction(var):\n",
    "    return var**3"
   ]
  },
  {
   "cell_type": "code",
   "execution_count": null,
   "metadata": {},
   "outputs": [],
   "source": [
    "mafonction(3)"
   ]
  },
  {
   "cell_type": "markdown",
   "metadata": {},
   "source": [
    "Renommer la fonction 'mafonction' en 'cube' et relancer les 2 cellules\n",
    "\n",
    "L'appel à mafonction(3) marche toujours car même si le contenu de la cellule ou si la cellule a disparu les variables et fonctions sont toujours en mémoire ...\n",
    "\n",
    "Relancer le \"Kernel\" et voir le résultat : \n",
    "- il s'arrete à la première erreur des cellules du dessus\n",
    "- si on continue il va nous dire que mafonction() n'existe pas\n"
   ]
  },
  {
   "cell_type": "markdown",
   "metadata": {},
   "source": [
    "# Exceptions"
   ]
  },
  {
   "cell_type": "markdown",
   "metadata": {},
   "source": [
    "## Les erreurs"
   ]
  },
  {
   "cell_type": "markdown",
   "metadata": {},
   "source": [
    "Les erreurs se traduisent pas un message qui : \n",
    "- explique l'erreur et son type\n",
    "- pointe dans le code la ligne ou l'exception survient\n"
   ]
  },
  {
   "cell_type": "code",
   "execution_count": null,
   "metadata": {},
   "outputs": [],
   "source": [
    "a = \"coucou\"\n",
    "int(a)"
   ]
  },
  {
   "cell_type": "code",
   "execution_count": null,
   "metadata": {},
   "outputs": [],
   "source": [
    "a = 2\n",
    "b = 0\n",
    "a/b"
   ]
  },
  {
   "cell_type": "code",
   "execution_count": null,
   "metadata": {},
   "outputs": [],
   "source": [
    "b=\"coucou\"\n",
    "a/b"
   ]
  },
  {
   "cell_type": "code",
   "execution_count": null,
   "metadata": {},
   "outputs": [],
   "source": [
    "l = [1, 3]\n",
    "l[5]"
   ]
  },
  {
   "cell_type": "code",
   "execution_count": null,
   "metadata": {},
   "outputs": [],
   "source": [
    "d = {'nom': 'dupont', 'prenom': 'jean' }\n",
    "d[\"age\"]"
   ]
  },
  {
   "cell_type": "markdown",
   "metadata": {},
   "source": [
    "## Gérer les erreurs par des Exceptions"
   ]
  },
  {
   "cell_type": "markdown",
   "metadata": {},
   "source": [
    "### Try / Except"
   ]
  },
  {
   "cell_type": "code",
   "execution_count": null,
   "metadata": {},
   "outputs": [],
   "source": [
    "a = 1\n",
    "b = 0\n",
    "\n",
    "try : \n",
    "    print(a/b)\n",
    "except ZeroDivisionError: \n",
    "    print( \"Le dénominateur ne peut pas être 0 !\")"
   ]
  },
  {
   "cell_type": "code",
   "execution_count": null,
   "metadata": {},
   "outputs": [],
   "source": [
    "a = 1\n",
    "b = \"\"\n",
    "\n",
    "try : \n",
    "    print(a/b)\n",
    "except TypeError: \n",
    "    print( \"saisir des valeurs numériques !\")\n",
    "except ZeroDivisionError: \n",
    "    print( \"Le dénominateur ne peut pas être 0 !\")"
   ]
  },
  {
   "cell_type": "markdown",
   "metadata": {},
   "source": [
    "### Récupérer le message d'une erreur"
   ]
  },
  {
   "cell_type": "code",
   "execution_count": null,
   "metadata": {},
   "outputs": [],
   "source": [
    "a = 1\n",
    "b = 0\n",
    "\n",
    "try : \n",
    "    print(a/b)\n",
    "except ZeroDivisionError as e: \n",
    "    print( \"Le dénominateur ne peut pas être 0 !\")\n",
    "    print(e)"
   ]
  },
  {
   "cell_type": "markdown",
   "metadata": {},
   "source": [
    "### Finnaly"
   ]
  },
  {
   "cell_type": "code",
   "execution_count": null,
   "metadata": {},
   "outputs": [],
   "source": [
    "a = 'az'\n",
    "b = 0\n",
    "\n",
    "try : \n",
    "    print(a/b)\n",
    "except TypeError: \n",
    "    print( \"Saisir des valeurs numériques !\")\n",
    "except ZeroDivisionError: \n",
    "    print( \"Le dénominateur ne peut pas être 0 !\")\n",
    "finally:\n",
    "    print(\"Fin du try/except!\")\n",
    "\n",
    "# print('fin du code en dehors du try/except')"
   ]
  },
  {
   "cell_type": "markdown",
   "metadata": {},
   "source": [
    "### Except pour pour plusieurs exceptions"
   ]
  },
  {
   "cell_type": "code",
   "execution_count": null,
   "metadata": {},
   "outputs": [],
   "source": [
    "a = None\n",
    "b = 2\n",
    "\n",
    "try : \n",
    "    print(a/b)\n",
    "except (TypeError, ZeroDivisionError): \n",
    "    print( \"Saisir des valeurs numériques !\")\n",
    "except ZeroDivisionError: \n",
    "    print( \"Le dénominateur ne peut pas être 0 !\")\n",
    "finally:\n",
    "    print(\"Fin du try/except!\")"
   ]
  },
  {
   "cell_type": "markdown",
   "metadata": {},
   "source": [
    "### Mauvaises pratiques !!!\n",
    "Toujours spécifier dans le except les erreurs que vous récupérez car sinon vous pourrier lancer un code inadapté ! "
   ]
  },
  {
   "cell_type": "code",
   "execution_count": null,
   "metadata": {},
   "outputs": [],
   "source": [
    "a = 1\n",
    "b = \"a\"\n",
    "\n",
    "try : \n",
    "    print(a/b)\n",
    "except : \n",
    "    print( \"saisir des valeurs numériques !\")"
   ]
  },
  {
   "cell_type": "markdown",
   "metadata": {},
   "source": [
    "## Portée des exceptons dans les fonctions et Raise"
   ]
  },
  {
   "cell_type": "code",
   "execution_count": null,
   "metadata": {},
   "outputs": [],
   "source": [
    "def division(a, b):\n",
    "    return a/b\n",
    "\n",
    "division(1, 0)"
   ]
  },
  {
   "cell_type": "code",
   "execution_count": null,
   "metadata": {},
   "outputs": [],
   "source": [
    "try:\n",
    "    division(1,0)\n",
    "except ZeroDivisionError as e:\n",
    "    print(e)"
   ]
  },
  {
   "cell_type": "code",
   "execution_count": null,
   "metadata": {},
   "outputs": [],
   "source": [
    "def division(a, b):\n",
    "    try : \n",
    "        return a/b\n",
    "    except : \n",
    "        return None\n",
    "\n",
    "    \n",
    "if division(1,0) == None :\n",
    "    print(\"La division retourne None\")\n",
    "else :\n",
    "    print(\"La division retourne une valeur\")"
   ]
  },
  {
   "cell_type": "markdown",
   "metadata": {},
   "source": [
    "### Raise"
   ]
  },
  {
   "cell_type": "code",
   "execution_count": null,
   "metadata": {},
   "outputs": [],
   "source": [
    "def division(a, b):\n",
    "    try : \n",
    "        print(a/b)\n",
    "    except TypeError: \n",
    "        print( \"saisir des valeurs numériques !\")\n",
    "        #raise\n",
    "    except ZeroDivisionError: \n",
    "        print( \"Le dénominateur ne peut pas être 0 !\")\n",
    "        #raise\n",
    "    finally:\n",
    "        print(\"Fin du try/except!\")\n",
    "\n",
    "division(1,0)"
   ]
  },
  {
   "cell_type": "code",
   "execution_count": null,
   "metadata": {},
   "outputs": [],
   "source": [
    "# ici la fonction :\n",
    "def division(a, b):\n",
    "    try : \n",
    "        print(a/b)\n",
    "    except TypeError: \n",
    "        print( \"Division() : saisir des valeurs numériques !\")\n",
    "        raise\n",
    "    except ZeroDivisionError: \n",
    "        print( \"Division() : Le dénominateur ne peut pas être 0 !\")\n",
    "        raise\n",
    "    finally:\n",
    "        print(\"Division() : Fin du try/except\")\n",
    "\n",
    "# ici le script principal qui est \n",
    "try : \n",
    "    division(1,0)\n",
    "except TypeError: \n",
    "    print( \"Code principal : saisir des valeurs numériques !\")\n",
    "except ZeroDivisionError: \n",
    "    print( \"Code principal : Le dénominateur ne peut pas être 0 !\")\n",
    "finally:\n",
    "    print(\"Code principal : Fin du try/except!\")"
   ]
  },
  {
   "cell_type": "markdown",
   "metadata": {},
   "source": [
    "## Pour aller plus loin sur les erreurs : créer ses propres classes d'Erreur"
   ]
  },
  {
   "cell_type": "code",
   "execution_count": null,
   "metadata": {},
   "outputs": [],
   "source": [
    "class MyProcessError(Exception):\n",
    "    \"\"\"\n",
    "    Exception générique pour l'application qui sort via des raise sur les exceptions plus ciblées\n",
    "    \"\"\"\n",
    "    def __init__(self, *args):\n",
    "        if args:\n",
    "            self.message = args[0]\n",
    "        else:\n",
    "            self.message = None\n",
    "\n",
    "    def __str__(self):\n",
    "        if self.message:\n",
    "            return 'MyProcessError, {0} '.format(self.message)\n",
    "        else:\n",
    "            return 'MyProcessError has been raised'\n",
    "\n",
    "        \n",
    "def division(a, b):\n",
    "    try : \n",
    "        print(a/b)\n",
    "    except TypeError as error: \n",
    "        print( \"Division() : saisir des valeurs numériques !\")\n",
    "        raise MyProcessError(error) \n",
    "    except ZeroDivisionError as error : \n",
    "        print( \"Division() : Le dénominateur ne peut pas être 0 !\")\n",
    "        raise MyProcessError(error) \n",
    "\n",
    "a = 1\n",
    "b = 0\n",
    "        \n",
    "try:\n",
    "    division(a, b)\n",
    "except MyProcessError as e:\n",
    "    print(f\"Erreur principale : {e}\")\n",
    "    "
   ]
  },
  {
   "cell_type": "code",
   "execution_count": null,
   "metadata": {},
   "outputs": [],
   "source": []
  }
 ],
 "metadata": {
  "kernelspec": {
   "display_name": "Python 3",
   "language": "python",
   "name": "python3"
  },
  "language_info": {
   "codemirror_mode": {
    "name": "ipython",
    "version": 3
   },
   "file_extension": ".py",
   "mimetype": "text/x-python",
   "name": "python",
   "nbconvert_exporter": "python",
   "pygments_lexer": "ipython3",
   "version": "3.8.6"
  }
 },
 "nbformat": 4,
 "nbformat_minor": 4
}
