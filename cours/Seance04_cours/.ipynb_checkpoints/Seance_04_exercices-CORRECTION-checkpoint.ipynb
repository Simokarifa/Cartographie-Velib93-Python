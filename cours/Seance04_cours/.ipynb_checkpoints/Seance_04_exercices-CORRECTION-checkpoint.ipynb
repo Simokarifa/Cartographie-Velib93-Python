{
 "cells": [
  {
   "cell_type": "markdown",
   "metadata": {},
   "source": [
    "## Création de fonctions"
   ]
  },
  {
   "cell_type": "markdown",
   "metadata": {},
   "source": [
    "### Créer une fonction kmh2ms qui convertit des Km/h en m/s\n"
   ]
  },
  {
   "cell_type": "code",
   "execution_count": 1,
   "metadata": {},
   "outputs": [
    {
     "data": {
      "text/plain": [
       "8.333333333333334"
      ]
     },
     "execution_count": 1,
     "metadata": {},
     "output_type": "execute_result"
    }
   ],
   "source": [
    "# Votre code ici \n",
    "\n",
    "def kmh2ms(vitesse):\n",
    "    \"\"\"\n",
    "    Transforme des km/h en m/s\n",
    "    :param vitesse: objet de type numérique (int ou float)\n",
    "    :return: vitesse en m/s de type float\n",
    "    \"\"\"\n",
    "    val = vitesse / 3600 * 1000\n",
    "    return val\n",
    "\n",
    "kmh2ms(30)"
   ]
  },
  {
   "cell_type": "markdown",
   "metadata": {},
   "source": [
    "### Créer une fonction 'bonjour' \n",
    "qui écrit \"bonjour Guillaume !\" si on lui passe un paramètre de type str avec \"Guillaume\" mais qui écrit \"ceci n'est pas une chaine de caractère\" si on saisit autre chose qu'une str"
   ]
  },
  {
   "cell_type": "code",
   "execution_count": 2,
   "metadata": {},
   "outputs": [],
   "source": [
    "# Votre code ici \n",
    "def bonjour(prenom):\n",
    "    \"\"\"\n",
    "    Fonction qui écrit bonjour\n",
    "    :param prenom: objet de type str\n",
    "    :return: chaine de texte str\n",
    "    \"\"\"\n",
    "    if type(prenom)==str:\n",
    "        resultat = \"Bonjour {} !\".format(prenom)\n",
    "    else:\n",
    "        resultat = \"{} n'est pas une chaine de texte\".format(prenom)\n",
    "    print(resultat)\n"
   ]
  },
  {
   "cell_type": "code",
   "execution_count": 3,
   "metadata": {},
   "outputs": [
    {
     "name": "stdout",
     "output_type": "stream",
     "text": [
      "Bonjour Guillaume !\n"
     ]
    }
   ],
   "source": [
    "\n",
    "bonjour(\"Guillaume\")"
   ]
  },
  {
   "cell_type": "markdown",
   "metadata": {},
   "source": [
    "### Créer une fonction bonjour_detail qui prend en paramètres : \n",
    "    - nom (str)\n",
    "    - prenom (str)\n",
    "    - fonction (str, paramètre facultatif avec valeur par défaut)\n",
    "    \n",
    "La fonction retourne une chaine de caractère qui donne les noms et prénom et la fonction seulement s'il y en a une de passée en paramètre"
   ]
  },
  {
   "cell_type": "code",
   "execution_count": 4,
   "metadata": {},
   "outputs": [],
   "source": [
    "# Votre code ici pour la définition de la fonction\n",
    "\n",
    "def bonjour_details(nom, prenom, fonction=None) :\n",
    "    \"\"\"\n",
    "    Retourne une chaine à partir des paramètres passés\n",
    "    :param nom: nom str\n",
    "    :param prenom: prenom str\n",
    "    :param fonction: fonction str\n",
    "    :return: chaine de texte str\n",
    "    \"\"\"\n",
    "    texte = \"{}, {}\".format(nom, prenom)\n",
    "    if fonction != None :\n",
    "        texte += \" ({})\".format(fonction)\n",
    "    return texte\n"
   ]
  },
  {
   "cell_type": "code",
   "execution_count": 5,
   "metadata": {},
   "outputs": [
    {
     "data": {
      "text/plain": [
       "'Georges, Pierre (Professeur)'"
      ]
     },
     "execution_count": 5,
     "metadata": {},
     "output_type": "execute_result"
    }
   ],
   "source": [
    "bonjour_details(\"Georges\", \"Pierre\", \"Professeur\")"
   ]
  },
  {
   "cell_type": "code",
   "execution_count": 6,
   "metadata": {},
   "outputs": [
    {
     "data": {
      "text/plain": [
       "'Georges, Pierre'"
      ]
     },
     "execution_count": 6,
     "metadata": {},
     "output_type": "execute_result"
    }
   ],
   "source": [
    "bonjour_details(\"Georges\", \"Pierre\")"
   ]
  },
  {
   "cell_type": "markdown",
   "metadata": {},
   "source": [
    "#### Créer une fonction qui prend en entrée : un dict GeoJson (paramétrable) et qui va compter les objets selon la valeur (paramétrable) d'un attribut (paramétrable)\n",
    "\n",
    "Exemple : charger le dict des arbres remarquables et compter le nombre de Chênes\n",
    "    \n",
    "    "
   ]
  },
  {
   "cell_type": "code",
   "execution_count": 7,
   "metadata": {},
   "outputs": [],
   "source": [
    "# import du fichier GeoJson sous forme de dict python\n",
    "import json\n",
    "# chargement du fichier\n",
    "data = json.load(open('./data/arbresremarquablesparis.geojson', 'r',encoding='utf8'))"
   ]
  },
  {
   "cell_type": "code",
   "execution_count": 8,
   "metadata": {},
   "outputs": [],
   "source": [
    "# Ici : Compléter le code (signature de la fonction et corps de la fonction)\n",
    "def compter(donnee, valeur, attribut):\n",
    "    resultat = [ feature for feature in donnee[\"features\"] if feature[\"properties\"][attribut] == valeur]\n",
    "    return len(resultat)"
   ]
  },
  {
   "cell_type": "code",
   "execution_count": 9,
   "metadata": {},
   "outputs": [
    {
     "data": {
      "text/plain": [
       "11"
      ]
     },
     "execution_count": 9,
     "metadata": {},
     "output_type": "execute_result"
    }
   ],
   "source": [
    "compter(data, 'Chêne', 'libellefrancais')"
   ]
  },
  {
   "cell_type": "code",
   "execution_count": 10,
   "metadata": {},
   "outputs": [
    {
     "data": {
      "text/plain": [
       "6"
      ]
     },
     "execution_count": 10,
     "metadata": {},
     "output_type": "execute_result"
    }
   ],
   "source": [
    "compter(data, 'PARIS 8E ARRDT', 'arrondissement')"
   ]
  },
  {
   "cell_type": "markdown",
   "metadata": {},
   "source": [
    "### Créer une fonction qui calcule l'age (en année ronde) en fonction d'une date de naissance saisie au format str '1970-01-01'\n",
    "Méthode : comparer la date du jour et la date de naissance en trasposant la date de naissance dans l'année en cours. Prendre ensuite en compte la postion de la date du jour par rapport à cette date transposée pour définir si l'année en cours doit compter pour calculer l'âge."
   ]
  },
  {
   "cell_type": "code",
   "execution_count": 11,
   "metadata": {},
   "outputs": [],
   "source": [
    "# Votre code ici\n",
    "from datetime import date, datetime\n",
    "  \n",
    "def age(val): \n",
    "    \"\"\"\n",
    "    Donne l'age à partir de la date de naissance\n",
    "    :param val: date de naissance ('AAAA-MM-JJ') str\n",
    "    :return: age en année ronde int\n",
    "    \"\"\"\n",
    "    #commencer par construire une date à partir de la chaine de texte\n",
    "    naissance = datetime.strptime(val, '%Y-%m-%d').date()\n",
    "\n",
    "    # récupérer la date du jour\n",
    "    aujourdhui = date.today() \n",
    "    \n",
    "    # on va tenter de transposer l'année mais attention au mois de février\n",
    "    try:  \n",
    "        anniversaire = naissance.replace(year = aujourdhui.year) \n",
    "        # retourne une erreur si la date de naissance est le 29/02 et que l'année actuelle n'en a pas\n",
    "    except ValueError:  \n",
    "        anniversaire = naissance.replace(year = aujourdhui.year, \n",
    "                  month = naissance.month + 1, day = 1) \n",
    "  \n",
    "    if anniversaire > aujourdhui:\n",
    "        return aujourdhui.year - naissance.year - 1\n",
    "    else: \n",
    "        return aujourdhui.year - naissance.year\n",
    "           "
   ]
  },
  {
   "cell_type": "code",
   "execution_count": 12,
   "metadata": {},
   "outputs": [
    {
     "name": "stdout",
     "output_type": "stream",
     "text": [
      "50\n"
     ]
    }
   ],
   "source": [
    "# appel de la fonction\n",
    "print(age('1970-03-12')) "
   ]
  },
  {
   "cell_type": "markdown",
   "metadata": {},
   "source": [
    "Essayer de lancer la fonction avec des dates au format str mal formaté \n",
    "'1970-12-12 23:45'\n",
    "'1970-23-12'\n",
    "\n",
    "Il vaudrait mieux que la fonction prenne en entrée un objet bien défini de type date ou datetime pour éviter de recevoir des données qui vont potentiellement générer des erreurs dans la fonction\n"
   ]
  },
  {
   "cell_type": "code",
   "execution_count": 13,
   "metadata": {},
   "outputs": [],
   "source": [
    "# Votre code ici\n",
    "from datetime import date, datetime\n",
    "  \n",
    "def age2(naissance): \n",
    "    \"\"\"\n",
    "    Donne l'age à partir de la date de naissance\n",
    "    :param val: date de naissance datetime.date\n",
    "    :return: age en année ronde int\n",
    "    \"\"\"\n",
    "    \n",
    "    # récupérer la date du jour\n",
    "    aujourdhui = date.today() \n",
    "    \n",
    "    # on va tenter de transposer l'année mais attention au mois de février\n",
    "    try:  \n",
    "        anniversaire = naissance.replace(year = aujourdhui.year) \n",
    "        # retourne une erreur si la date de naissance est le 29/02 et que l'année actuelle n'en a pas\n",
    "    except ValueError:  \n",
    "        anniversaire = naissance.replace(year = aujourdhui.year, \n",
    "                  month = naissance.month + 1, day = 1) \n",
    "  \n",
    "    if anniversaire > aujourdhui: \n",
    "        return aujourdhui.year - naissance.year - 1\n",
    "    else: \n",
    "        return aujourdhui.year - naissance.year \n",
    "          "
   ]
  },
  {
   "cell_type": "code",
   "execution_count": 14,
   "metadata": {},
   "outputs": [
    {
     "name": "stdout",
     "output_type": "stream",
     "text": [
      "50 ans\n"
     ]
    }
   ],
   "source": [
    "# préparation de la date dans le bon format avant l'appel à la fonction\n",
    "datestr = '1970-12-12'\n",
    "datenaissance = datetime.strptime(datestr, '%Y-%m-%d').date()\n",
    "\n",
    "# ici on sait que c'est une date valide\n",
    "# il n'y aura normalement pas d'erreur dans la fonction à cause d'une date non valide.\n",
    "print(age2(datenaissance), \"ans\") "
   ]
  },
  {
   "cell_type": "markdown",
   "metadata": {},
   "source": [
    "## Gestion des Exceptions"
   ]
  },
  {
   "cell_type": "markdown",
   "metadata": {},
   "source": [
    "Modifier le contenu de chaque cellule pour gérer l'exception et afficher un message 'exception : ' + contenu de l'exception"
   ]
  },
  {
   "cell_type": "code",
   "execution_count": 15,
   "metadata": {},
   "outputs": [
    {
     "ename": "TypeError",
     "evalue": "unsupported operand type(s) for /: 'str' and 'int'",
     "output_type": "error",
     "traceback": [
      "\u001b[1;31m---------------------------------------------------------------------------\u001b[0m",
      "\u001b[1;31mTypeError\u001b[0m                                 Traceback (most recent call last)",
      "\u001b[1;32m<ipython-input-15-be07e8324b04>\u001b[0m in \u001b[0;36m<module>\u001b[1;34m\u001b[0m\n\u001b[0;32m      1\u001b[0m \u001b[0ma\u001b[0m \u001b[1;33m=\u001b[0m \u001b[1;34m\"abc\"\u001b[0m\u001b[1;33m\u001b[0m\u001b[1;33m\u001b[0m\u001b[0m\n\u001b[1;32m----> 2\u001b[1;33m \u001b[0ma\u001b[0m \u001b[1;33m/\u001b[0m \u001b[1;36m2\u001b[0m\u001b[1;33m\u001b[0m\u001b[1;33m\u001b[0m\u001b[0m\n\u001b[0m",
      "\u001b[1;31mTypeError\u001b[0m: unsupported operand type(s) for /: 'str' and 'int'"
     ]
    }
   ],
   "source": [
    "a = \"abc\"\n",
    "a / 2"
   ]
  },
  {
   "cell_type": "code",
   "execution_count": null,
   "metadata": {},
   "outputs": [],
   "source": [
    "b = 1\n",
    "c = 0\n",
    "b / 0"
   ]
  },
  {
   "cell_type": "code",
   "execution_count": null,
   "metadata": {},
   "outputs": [],
   "source": [
    "d = a + b"
   ]
  },
  {
   "cell_type": "markdown",
   "metadata": {},
   "source": [
    "Dans la cellule ci-dessous ajouter une gestion de l'exception qui affiche un message si le fichier n'est pas trouvé"
   ]
  },
  {
   "cell_type": "code",
   "execution_count": null,
   "metadata": {},
   "outputs": [],
   "source": [
    "# import du fichier GeoJson sous forme de dict python\n",
    "import json\n",
    "\n",
    "# rechargement du fichier (pour l'exercice le fichier n'existe pas)\n",
    "data = json.load(open('./data/monfichier.geojson', 'r',encoding='utf8'))"
   ]
  },
  {
   "cell_type": "markdown",
   "metadata": {},
   "source": [
    "A partir du code de la cellule ci-dessus, créer une fonction readgeojson qui prendra en paramètre le chemin d'un fichier.\n",
    "\n",
    "si le fichier n'est pas trouvé, renvoyer un dict avec une clés 'erreur' ayant pour valeur 'fichier non trouvé : ' + le nom du fichier\n"
   ]
  },
  {
   "cell_type": "code",
   "execution_count": null,
   "metadata": {},
   "outputs": [],
   "source": [
    "# ici remplacer pass par votre code\n",
    "def readgeojson(path):\n",
    "    pass"
   ]
  },
  {
   "cell_type": "code",
   "execution_count": null,
   "metadata": {},
   "outputs": [],
   "source": [
    "# cet appel doit renvoyer un dict contenant un message d'erreur : \n",
    "mon_geojson = readgeojson('./data/monfichier.geojson')"
   ]
  },
  {
   "cell_type": "code",
   "execution_count": null,
   "metadata": {},
   "outputs": [],
   "source": [
    "# cet appel doit renvoyer le bon dict"
   ]
  },
  {
   "cell_type": "code",
   "execution_count": null,
   "metadata": {},
   "outputs": [],
   "source": [
    "mon_geojson = readgeojson('./data/arbresremarquablesparis.geojson')"
   ]
  }
 ],
 "metadata": {
  "kernelspec": {
   "display_name": "Python 3",
   "language": "python",
   "name": "python3"
  },
  "language_info": {
   "codemirror_mode": {
    "name": "ipython",
    "version": 3
   },
   "file_extension": ".py",
   "mimetype": "text/x-python",
   "name": "python",
   "nbconvert_exporter": "python",
   "pygments_lexer": "ipython3",
   "version": "3.7.4"
  }
 },
 "nbformat": 4,
 "nbformat_minor": 4
}
