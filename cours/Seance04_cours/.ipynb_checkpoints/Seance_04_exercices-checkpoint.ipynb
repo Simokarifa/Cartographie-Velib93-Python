{
 "cells": [
  {
   "cell_type": "markdown",
   "metadata": {},
   "source": [
    "## Création de fonctions"
   ]
  },
  {
   "cell_type": "markdown",
   "metadata": {},
   "source": [
    "### Créer une fonction kmh2ms qui converti des Km/h en m/s\n",
    "Quand ca marche modifier le code pour prendre en compte de cas particuliers"
   ]
  },
  {
   "cell_type": "code",
   "execution_count": 31,
   "metadata": {},
   "outputs": [],
   "source": [
    "# Votre code ici \n",
    "def kmh2ms(a):\n",
    "    \"Fonction qui permet de convertir une valeur de Km/h en m/s\"\n",
    "    conver=a*0.277\n",
    "    affiche=print(\"la valeur est de:{}\".format(conver))\n",
    "    return affiche\n",
    "    "
   ]
  },
  {
   "cell_type": "code",
   "execution_count": 34,
   "metadata": {},
   "outputs": [
    {
     "name": "stdout",
     "output_type": "stream",
     "text": [
      "la valeur est de:8.31\n"
     ]
    },
    {
     "data": {
      "text/plain": [
       "str"
      ]
     },
     "execution_count": 34,
     "metadata": {},
     "output_type": "execute_result"
    }
   ],
   "source": [
    "# l'appel de votre fonction\n",
    "kmh2ms(30)"
   ]
  },
  {
   "cell_type": "markdown",
   "metadata": {},
   "source": [
    "### Créer une fonction 'bonjour' \n",
    "qui écrit \"bonjour Guillaume !\" si on lui passe un paramètre de type str avec \"Guillaume\" mais qui écrit \"ceci n'est pas une chaine de caractère\" si on saisit autre chose qu'une str"
   ]
  },
  {
   "cell_type": "code",
   "execution_count": 58,
   "metadata": {},
   "outputs": [],
   "source": [
    "# Votre code ici \n",
    "def bonjour(nom):\n",
    "    if type(nom)==str:\n",
    "        salutation=print(\"Bonjour {}\".format(nom))\n",
    "    else:\n",
    "        salutation=print(\"ceci n'est pas une chaine\")\n",
    "    return salutation"
   ]
  },
  {
   "cell_type": "code",
   "execution_count": 59,
   "metadata": {},
   "outputs": [
    {
     "name": "stdout",
     "output_type": "stream",
     "text": [
      "Bonjour Guillaume\n"
     ]
    }
   ],
   "source": [
    "# l'appel de votre fonction\n",
    "bonjour(\"Guillaume\")"
   ]
  },
  {
   "cell_type": "markdown",
   "metadata": {},
   "source": [
    "### Créer une fonction bonjour_detail qui prend en paramètres : \n",
    "    - nom (str)\n",
    "    - prenom (str)\n",
    "    - fonction (str, paramètre facultatif avec valeur par défaut)\n",
    "    \n",
    "La fonction retourne une chaine de caractère qui donne les noms et prénom et la fonction seulement s'il y en a une de passée en paramètre"
   ]
  },
  {
   "cell_type": "code",
   "execution_count": null,
   "metadata": {},
   "outputs": [],
   "source": [
    "# Votre code ici pour la définition de la fonction\n",
    "\n",
    "def bonjour_details(nom, prenom, fonction=None) :\n",
    "    \"\"\"\n",
    "    Retourne une chaine à partir des paramètres passés\n",
    "    :param nom: nom str\n",
    "    :param prenom: prenom str\n",
    "    :param fonction: fonction str\n",
    "    :return: chaine de texte str\n",
    "    \"\"\"\n",
    "    texte = \"{}, {}\".format(nom, prenom)\n",
    "    if fonction != None :\n",
    "        texte += \" ({})\".format(fonction)\n",
    "    return texte\n",
    "\n",
    "bonjour_details(\"Georges\", \"Pierre\", \"Professeur\")\n"
   ]
  },
  {
   "cell_type": "code",
   "execution_count": null,
   "metadata": {},
   "outputs": [],
   "source": [
    "# l'appel de votre fonction avec fonction dans les paramètres\n",
    "bonjour_details(\"Georges\", \"Pierre\", \"Professeur\")"
   ]
  },
  {
   "cell_type": "code",
   "execution_count": null,
   "metadata": {},
   "outputs": [],
   "source": [
    "# l'appel de votre fonction sans fonction dans les paramètres\n",
    "bonjour_details(\"Georges\", \"Pierre\")"
   ]
  },
  {
   "cell_type": "markdown",
   "metadata": {},
   "source": [
    "#### Créer une fonction qui prend en entrée : un dict GeoJson (paramétrable) et qui va compter les objets selon la valeur (paramétrable) d'un attribut (paramétrable)\n",
    "\n",
    "Exemple : charger le dict des arbres remarquables et compter le nombre de Chênes\n",
    "    \n",
    "    "
   ]
  },
  {
   "cell_type": "code",
   "execution_count": null,
   "metadata": {},
   "outputs": [],
   "source": [
    "# import du fichier GeoJson sous forme de dict python\n",
    "import json\n",
    "# rechargement du fichier (là encore au cas où)\n",
    "data = json.load(open('./data/arbresremarquablesparis.geojson', 'r',encoding='utf8'))"
   ]
  },
  {
   "cell_type": "code",
   "execution_count": null,
   "metadata": {},
   "outputs": [],
   "source": [
    "# Ici : Compléter le code (signature de la fonction et corps de la fonction)\n"
   ]
  },
  {
   "cell_type": "code",
   "execution_count": null,
   "metadata": {},
   "outputs": [],
   "source": [
    "# Ici : ajouter le code d'appel de la fonction\n"
   ]
  },
  {
   "cell_type": "markdown",
   "metadata": {},
   "source": [
    "### Créer une fonction qui calcule l'age (en année ronde) en fonction d'une date de naissance saisie au format str '1970-01-01'\n",
    "Méthode : comparer la date du jour et la date de naissance en trasposant la date de naissance dans l'année en cours. Prendre ensuite en compte la postion de la date du jour par rapport à cette date transposée pour définir si l'année en cours doit compter pour calculer l'âge."
   ]
  },
  {
   "cell_type": "code",
   "execution_count": null,
   "metadata": {},
   "outputs": [],
   "source": [
    "# Votre code ici\n",
    "from datetime import date, datetime\n",
    "  \n",
    "           "
   ]
  },
  {
   "cell_type": "code",
   "execution_count": null,
   "metadata": {},
   "outputs": [],
   "source": [
    "# appel de la fonction\n",
    "age('1970-03-12')"
   ]
  },
  {
   "cell_type": "markdown",
   "metadata": {},
   "source": [
    "Essayer de lancer la fonction avec des dates au format str mal formatées \n",
    "'1970-12-12 23:45'\n",
    "'1970-23-12'\n",
    "\n",
    "Il vaudrait mieux que la fonction prenne en entrée un objet bien défini de type date ou datetime pour éviter de recevoir des données qui vont potentiellement générer des erreurs\n"
   ]
  },
  {
   "cell_type": "code",
   "execution_count": null,
   "metadata": {},
   "outputs": [],
   "source": [
    "# Votre code ici\n",
    "\n",
    "      "
   ]
  },
  {
   "cell_type": "code",
   "execution_count": null,
   "metadata": {},
   "outputs": [],
   "source": [
    "# préparation de la date dans le bon format avant l'appel à la fonction\n"
   ]
  },
  {
   "cell_type": "markdown",
   "metadata": {},
   "source": [
    "## Gestion des Exceptions"
   ]
  },
  {
   "cell_type": "markdown",
   "metadata": {},
   "source": [
    "Modifier le contenu de chaque cellule pour gérer l'exception et afficher un message 'exception : ' + contenu de l'exception"
   ]
  },
  {
   "cell_type": "code",
   "execution_count": null,
   "metadata": {},
   "outputs": [],
   "source": [
    "a = \"abc\"\n",
    "a / 2"
   ]
  },
  {
   "cell_type": "code",
   "execution_count": null,
   "metadata": {},
   "outputs": [],
   "source": [
    "b = 1\n",
    "c = 0\n",
    "b / 0"
   ]
  },
  {
   "cell_type": "code",
   "execution_count": null,
   "metadata": {},
   "outputs": [],
   "source": [
    "d = a + b"
   ]
  },
  {
   "cell_type": "markdown",
   "metadata": {},
   "source": [
    "Dans la cellule ci-dessous ajouter une gestion de l'exception qui affiche un message si le fichier n'est pas trouvé"
   ]
  },
  {
   "cell_type": "code",
   "execution_count": null,
   "metadata": {},
   "outputs": [],
   "source": [
    "# import du fichier GeoJson sous forme de dict python\n",
    "import json\n",
    "\n",
    "# rechargement du fichier (pour l'exercice le fichier n'existe pas)\n",
    "data = json.load(open('./data/monfichier.geojson', 'r',encoding='utf8'))"
   ]
  },
  {
   "cell_type": "markdown",
   "metadata": {},
   "source": [
    "A partir du code de la cellule ci-dessus, créer une fonction readgeojson qui prendra en paramètre le chemin d'un fichier.\n",
    "\n",
    "si le fichier n'est pas trouvé, renvoyer un dict avec une clés 'erreur' ayant pour valeur 'fichier non trouvé : ' + le nom du fichier\n"
   ]
  },
  {
   "cell_type": "code",
   "execution_count": null,
   "metadata": {},
   "outputs": [],
   "source": [
    "# ici remplacer pass par votre code\n",
    "def readgeojson(path):\n",
    "    pass"
   ]
  },
  {
   "cell_type": "code",
   "execution_count": null,
   "metadata": {},
   "outputs": [],
   "source": [
    "# cet appel doit renvoyer un dict contenant un message d'erreur : \n",
    "mon_geojson_erreur = readgeojson('./data/monfichier.geojson')\n",
    "mon_geojson_erreur"
   ]
  },
  {
   "cell_type": "code",
   "execution_count": null,
   "metadata": {},
   "outputs": [],
   "source": [
    "# cet appel doit renvoyer le bon dict"
   ]
  },
  {
   "cell_type": "code",
   "execution_count": null,
   "metadata": {},
   "outputs": [],
   "source": [
    "mon_geojson = readgeojson('./data/arbresremarquablesparis.geojson')\n",
    "mon_geojson"
   ]
  }
 ],
 "metadata": {
  "kernelspec": {
   "display_name": "Python 3",
   "language": "python",
   "name": "python3"
  },
  "language_info": {
   "codemirror_mode": {
    "name": "ipython",
    "version": 3
   },
   "file_extension": ".py",
   "mimetype": "text/x-python",
   "name": "python",
   "nbconvert_exporter": "python",
   "pygments_lexer": "ipython3",
   "version": "3.8.6"
  }
 },
 "nbformat": 4,
 "nbformat_minor": 4
}
