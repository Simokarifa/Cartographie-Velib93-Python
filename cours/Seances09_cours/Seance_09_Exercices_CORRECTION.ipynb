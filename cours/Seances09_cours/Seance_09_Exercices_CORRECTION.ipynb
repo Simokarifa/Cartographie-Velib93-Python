{
 "cells": [
  {
   "cell_type": "markdown",
   "metadata": {},
   "source": [
    "# Séance 9 : Exercices"
   ]
  },
  {
   "cell_type": "markdown",
   "metadata": {},
   "source": [
    "### 1 : Tickets de piscine\n",
    "\n",
    "Un ticket de piscine vaut 4 euros.\n",
    "\n",
    "Sous reserve d'avoir acheté un abonnement à 10 euros une entrée de piscine ne vaut plus que 2 euros.\n",
    "\n",
    "En fonction d'un nombre de tickets à acheter pour votre sortie à la piscine (variable 'nb') determinez s'il vaut mieux acheter un abonnement ou non.\n",
    "(ecrire la réponse sous forme d'un texte)\n",
    "\n",
    "Préparez-vous des valeurs de tests avec résultat connus à l'avance !\n"
   ]
  },
  {
   "cell_type": "code",
   "execution_count": 13,
   "metadata": {},
   "outputs": [
    {
     "name": "stdout",
     "output_type": "stream",
     "text": [
      "Autant prendre un abonnement\n"
     ]
    }
   ],
   "source": [
    "# Décomposer les variable pour bien comprendre ce que l'on va manipuler dans le code\n",
    "\n",
    "# données \"fixes\" (à moins d'un changement de politique tarrifaire mais ce n'est pas l'objet de l'exercice)\n",
    "prix_ticket = 4\n",
    "prix_ticket_avec_abonnement = 2\n",
    "prix_abonnement = 10\n",
    "\n",
    "# donnée qui va changer \n",
    "nb_tickets = 5\n",
    "\n",
    "# on calcule les 2 couts\n",
    "cout_si_tickets = nb_tickets * prix_ticket\n",
    "cout_si_abonnement = prix_abonnement + nb_tickets * prix_ticket_avec_abonnement\n",
    "\n",
    "# on peut les comparer pour définir ce qui est le plus interessant de faire :\n",
    "if cout_si_tickets > cout_si_abonnement : \n",
    "    print(\"Il faut prendre un abonnement\")\n",
    "elif cout_si_tickets == cout_si_abonnement :\n",
    "    print(\"Autant prendre un abonnement\")\n",
    "else:\n",
    "    print(\"Pas besoin d'abonnement\")\n",
    "    "
   ]
  },
  {
   "cell_type": "markdown",
   "metadata": {},
   "source": [
    "Créer maintenant une fonction pour regrouper ces étapes du traitement"
   ]
  },
  {
   "cell_type": "code",
   "execution_count": 14,
   "metadata": {},
   "outputs": [],
   "source": [
    "# votre fonction\n",
    "def quoifaire(nb_tickets):\n",
    "    # données \"fixes\" (à moins d'un changement de politique tarrifaire mais ce n'est pas l'objet de l'exercice)\n",
    "    prix_ticket = 4\n",
    "    prix_ticket_avec_abonnement = 2\n",
    "    prix_abonnement = 10\n",
    "    # donnée qui va changer : récupérée par le paramètre de la fonction\n",
    "\n",
    "    # on calcule les 2 couts\n",
    "    cout_si_tickets = nb_tickets * prix_ticket\n",
    "    cout_si_abonnement = prix_abonnement + nb_tickets * prix_ticket_avec_abonnement\n",
    "\n",
    "    # on peut les comparer pour définir ce qui est le plus interessant de faire :\n",
    "    if cout_si_tickets > cout_si_abonnement : \n",
    "        print(\"Il faut prendre un abonnement\")\n",
    "    elif cout_si_tickets == cout_si_abonnement :\n",
    "        print(\"Autant prendre un abonnement\")\n",
    "    else:\n",
    "        print(\"Pas besoin d'abonnement\")"
   ]
  },
  {
   "cell_type": "code",
   "execution_count": 15,
   "metadata": {},
   "outputs": [
    {
     "name": "stdout",
     "output_type": "stream",
     "text": [
      "Il faut prendre un abonnement\n"
     ]
    }
   ],
   "source": [
    "quoifaire(6)"
   ]
  },
  {
   "cell_type": "markdown",
   "metadata": {},
   "source": [
    "Créer maintenant un script python qui fait saisir le nombre de tickets demandés (point de cours necessaire)"
   ]
  },
  {
   "cell_type": "markdown",
   "metadata": {},
   "source": [
    "## 2 : Quel type de triangle ?\n",
    "\n",
    "A partir de 3 valeurs (les longueurs d'un côté) vous devez determiner le type de triangle (isocele, equilatéral, rectangle)\n",
    "\n",
    "Préparez-vous des valeurs de tests avec résultat connus à l'avance !"
   ]
  },
  {
   "cell_type": "code",
   "execution_count": 23,
   "metadata": {},
   "outputs": [
    {
     "name": "stdout",
     "output_type": "stream",
     "text": [
      "[1, 4, 1]\n",
      "[1, 1, 4]\n",
      "impossible\n"
     ]
    }
   ],
   "source": [
    "a = 1\n",
    "b = 4\n",
    "c = 1\n",
    "\n",
    "# ETAPE 1 : explications sur le traitement\n",
    "# analyser les valeurs pour faciliter l'analyse des cas.\n",
    "\n",
    "# equilatéral ou isocèle : parmis les longueurs des côtés il y a des valeurs identiques, \n",
    "# on va essayer de trouver ces cas\n",
    "\n",
    "# pour vérifier pythagore il faut identifier l'hypothénuse, donc ordoner a, b et c pour trouver la longeur\n",
    "# la plus grande.\n",
    "\n",
    "# au final les cas à détecter sont : \n",
    "#- équilateral\n",
    "#- isocèle\n",
    "#- isocèle rectangle\n",
    "#- rectangle\n",
    "#- quelconque\n",
    "\n",
    "# il faut penser à gérer des cas particuliers ... \n",
    "# un cas est facilement identifiable : 3 valeurs qui ne permettent pas de définir un rectangle\n",
    "\n",
    "# ETAPE 2 : Préparer les valeurs qui vont nous permettre de traiter tous les cas\n",
    "\n",
    "# On met les valeurs dans une list pour bénéficier de certaines fonction sur les listes : \n",
    "liste_valeur = [a, b, c]\n",
    "\n",
    "# première utilisation de cette liste : on la transforme en SET pour ne garder que les valeurs uniques\n",
    "# on pourra ensuite analyse la longueur de cette liste : \n",
    "# 1 c'est equilatéral, \n",
    "# 2 c'est isocèle, \n",
    "# 3 rectangle ou quelconque\n",
    "nb_cotes_differents = len(set(liste_valeur))\n",
    "\n",
    "# seconde utilisation de la liste : on trie dans ordre croissant les valeurs, \n",
    "# à l'index 2 on aura donc la troisème valeur : la plus forte, donc le côté le plus long, hypothénuse\n",
    "# rappel : les listes sont des objets mutables donc la méthose sort() modifie la liste \"en place\"\n",
    "liste_valeur.sort()\n",
    "\n",
    "# ETAPE 3 : Maintenant que les données sont préparée on peut analyser les cas\n",
    "\n",
    "# premier cas : est-ce que le côté le plus long est >= à la somme des 2 autres ...\n",
    "# si oui les longueurs ne permettent pas de faire un triangle\n",
    "if liste_valeur[2] >= liste_valeur[1] + liste_valeur[0]:\n",
    "    print(\"impossible\")\n",
    "\n",
    "# à partir de là dans les elif suivant ont sait que l'on a un triange on peut continuer pour trouver les types de trianges\n",
    "# si 1 seule valeur de longueur : c'est un triangle equilatéral\n",
    "elif nb_cotes_differents == 1:\n",
    "    print(\"triangle equilatéral\")\n",
    "    \n",
    "# si 2 valeurs de longueur : il est isocèle mais attention ...\n",
    "elif nb_cotes_differents == 2:\n",
    "    # on doit vérifier que ce n'est pas un rectangle quand même\n",
    "    if liste_valeur[2]**2 == (liste_valeur[1]**2 + liste_valeur[0]**2) :\n",
    "        print(\"triangle isocèle rectangle\")\n",
    "    else : \n",
    "        print(\"triangle isocèle\")\n",
    "        \n",
    "# par défaut on arrive ici parce qu'il y a 3 longueurs différentes\n",
    "# on teste si c'est rectangle\n",
    "elif liste_valeur[2]**2 == (liste_valeur[1]**2 + liste_valeur[0]**2) :\n",
    "    print(\"triangle rectangle\")\n",
    "    \n",
    "# il reste ensuite le triangle quelconque\n",
    "else :\n",
    "    print(\"triangle\")"
   ]
  },
  {
   "cell_type": "markdown",
   "metadata": {},
   "source": [
    "Remarque : dans le code j'ai laissé 2 calculs identiques dans 2 elif ... cela montre qu'on pourrait aller plus loin dans la préparation des données pour ne faire ce calcul qu'une fois."
   ]
  },
  {
   "cell_type": "code",
   "execution_count": 20,
   "metadata": {},
   "outputs": [
    {
     "data": {
      "text/plain": [
       "False"
      ]
     },
     "execution_count": 20,
     "metadata": {},
     "output_type": "execute_result"
    }
   ],
   "source": [
    "pythagore = liste_valeur[2]**2 == (liste_valeur[1]**2 + liste_valeur[0]**2)\n",
    "pythagore"
   ]
  },
  {
   "cell_type": "markdown",
   "metadata": {},
   "source": [
    "Créer maintenant une fonction pour regrouper ces étapes du traitement"
   ]
  },
  {
   "cell_type": "code",
   "execution_count": 27,
   "metadata": {},
   "outputs": [
    {
     "data": {
      "text/plain": [
       "'triangle isocèle'"
      ]
     },
     "execution_count": 27,
     "metadata": {},
     "output_type": "execute_result"
    }
   ],
   "source": [
    "# votre fonction\n",
    "def triangle(a, b, c):\n",
    "    liste_valeur = [a, b, c]\n",
    "    nb_cotes_differents = len(set(liste_valeur))\n",
    "    liste_valeur.sort()\n",
    "    # ici j'ajoute la nouvelle variable calculée : \n",
    "    pythagore = liste_valeur[2]**2 == (liste_valeur[1]**2 + liste_valeur[0]**2)\n",
    "\n",
    "    if liste_valeur[2] >= liste_valeur[1] + liste_valeur[0]:\n",
    "        return \"impossible\"\n",
    "\n",
    "    elif nb_cotes_differents == 1:\n",
    "         return \"triangle equilatéral\"\n",
    "    \n",
    "    elif nb_cotes_differents == 2:\n",
    "        if pythagore :\n",
    "             return \"triangle isocèle rectangle\"\n",
    "        else : \n",
    "             return \"triangle isocèle\"\n",
    "\n",
    "    elif pythagore :\n",
    "         return \"triangle rectangle\"\n",
    "    \n",
    "    else :\n",
    "         return \"triangle quelconque\"\n",
    "\n",
    "triangle(4, 4,7)"
   ]
  },
  {
   "cell_type": "markdown",
   "metadata": {},
   "source": [
    "## 3 : le mot le plus long dans un texte\n",
    "\n",
    "à partir du texte-ci dessous trouver le mot le plus long, l'afficher et afficher le nombre de caractères qu'il contient"
   ]
  },
  {
   "cell_type": "code",
   "execution_count": 29,
   "metadata": {},
   "outputs": [],
   "source": [
    "texte = \"\"\"\n",
    "A l'orée d'une grande forêt vivaient un pauvre bûcheron, sa femme et ses deux enfants. Le garçon s'appelait Hansel et la fille Grethel. La famille ne mangeait guère. Une année que la famine régnait dans le pays et que le pain lui-même vint à manquer, le bûcheron ruminait des idées noires, une nuit, dans son lit et remâchait ses soucis. Il dit à sa femme\n",
    "- Qu'allons-nous devenir ? Comment nourrir nos pauvres enfants, quand nous n'avons plus rien pour nous-mêmes ?\n",
    "- Eh bien, mon homme, dit la femme, sais-tu ce que nous allons faire ? Dès l'aube, nous conduirons les enfants au plus profond de la forêt nous leur allumerons un feu et leur donnerons à chacun un petit morceau de pain. Puis nous irons à notre travail et les laisserons seuls. Ils ne retrouveront plus leur chemin et nous en serons débarrassés.\n",
    "\"\"\""
   ]
  },
  {
   "cell_type": "code",
   "execution_count": 30,
   "metadata": {},
   "outputs": [
    {
     "name": "stdout",
     "output_type": "stream",
     "text": [
      "Le mot le plus long dans le texte est :  débarrassés.\n",
      "\n"
     ]
    },
    {
     "data": {
      "text/plain": [
       "13"
      ]
     },
     "execution_count": 30,
     "metadata": {},
     "output_type": "execute_result"
    }
   ],
   "source": [
    "def motLong(texte):\n",
    "    \"\"\"\n",
    "    ici la descriotion\n",
    "    var texte : texte à étudier\n",
    "    return : le mot le plus long\n",
    "    \"\"\"\n",
    "    \n",
    "    # pour bien découper le texte il est plus simple d'agir dessus avant de l'analyser\n",
    "    # ici on fait \"simple\" avec plein de replace\n",
    "    texte2 = texte.replace(\",\",\" \")\n",
    "    texte2 = texte2.replace(\"-\",\" \")\n",
    "    texte2 =texte2.replace(\"'\",\" \")\n",
    "    \n",
    "    # on découpe le texte à chaque espace : \n",
    "    texteliste = texte2.split(\" \")\n",
    "    # on initialise une variable texte chaine vide pour y mettre le mot le plus long\n",
    "    mot = \"\"\n",
    "    # on boucle sur tous les mots de la liste : \n",
    "    for m in texteliste:\n",
    "        # si le mot de la liste est plus long que le mot que l'on a pour l'instant retenu comme étant le plus long\n",
    "        if(len(m)>len(mot)):\n",
    "            # on prend le mot de la liste comme nouveau mot le plus long\n",
    "            mot = m\n",
    "    # apres avoir bouclé sur tous les mots de la liste on peut retourner le mot le plus long        \n",
    "    return mot\n",
    "\n",
    "\n",
    "resultat = motLong(texte)\n",
    "print(\"Le mot le plus long dans le texte est : \", resultat)\n",
    "\n",
    "len(resultat)"
   ]
  },
  {
   "cell_type": "markdown",
   "metadata": {},
   "source": [
    "## 4 : le prix du parking\n",
    "\n",
    "Le prix du stationnement dans un parking dépend du type de véhicule et de la durée de stationnement.\n",
    "\n",
    "La durée de stationnement n'est pas prise en compte de manière linéaire.\n",
    "\n",
    "pour une voiture : \n",
    "- la première demi heure est gratuite\n",
    "- les 2 heures et demi suivantes sont à 5 euros\n",
    "- chaque heure de plus coûte ensuite 1,5 euros\n",
    "\n",
    "pour un 2 roues : \n",
    "- la première demi heure est gratuite\n",
    "- chaque tranche de 2 heures coûte 1 euros sans limite de temps\n",
    "\n",
    "Créer une fonction qui prendra en entrée : le type de véhicule, le temps de stationnement (en minute).\n",
    "la fonction retournera le montant à payer\n"
   ]
  },
  {
   "cell_type": "code",
   "execution_count": 31,
   "metadata": {},
   "outputs": [
    {
     "name": "stdout",
     "output_type": "stream",
     "text": [
      "1\n",
      "5\n",
      "5\n"
     ]
    }
   ],
   "source": [
    "# votre code\n",
    "\n",
    "duree_gratuite = 45\n",
    "\n",
    "\n",
    "def prix(type, duree):\n",
    "    \"\"\"\n",
    "    Retourne le prix à payer pour le stationnement\n",
    "    var type : 'voiture' ou 'moto'\n",
    "    var duree : durée de stationnement en minutes\n",
    "    \"\"\"\n",
    "\n",
    "    # on commence par regarder si on est dans les 30 minutes gratuites\n",
    "    if duree <= duree_gratuite : \n",
    "        # on peut finir la fonction en retournant la valeur ici il n'y a plus rien à faire\n",
    "        return 0\n",
    "    \n",
    "    # si on est au delà des 30 minutes gratuites on le retire de la durée à payer\n",
    "    duree_payante = duree - duree_gratuite\n",
    "    \n",
    "    if type == \"moto\":\n",
    "        \n",
    "        nb_forfait_plein = duree_payante // 120\n",
    "        \n",
    "        if duree_payante % 120 > 0 :\n",
    "            nb_forfait_plein += 1\n",
    "            \n",
    "        return nb_forfait_plein * 1\n",
    "    \n",
    "    elif type == \"voiture\":\n",
    "        \n",
    "        # on traite la première partie du prix : le forfait à 2,5h\n",
    "        duree_hors_forfait = duree_payante - 150\n",
    "        if duree_hors_forfait <= 0 :\n",
    "            return 5\n",
    "        else : \n",
    "            # puis le temps au delà du forfait\n",
    "            heures_supp = duree_hors_forfait // 60\n",
    "\n",
    "            if duree_hors_forfait % 60 > 0 :\n",
    "                heures_supp += 1\n",
    "\n",
    "            prix = 5 + (1.5 * heures_supp)\n",
    "            return prix\n",
    "        \n",
    "\n",
    "print(prix(\"moto\", 165))\n",
    "print(prix(\"voiture\", 135))\n",
    "print(prix(\"voiture\", 195))"
   ]
  },
  {
   "cell_type": "markdown",
   "metadata": {},
   "source": [
    "## 5 : Classifier les véhicules pour déterminer le tarif sur l'autoroute\n",
    "\n",
    "https://www.autoroutes.fr/fr/classification-des-vehicules.htm\n",
    "\n",
    "- véhicule avec PTAC < 3,5t et hauteur =< 2m : tarif 1\n",
    "- véhicule avec PTAC < 3,5t et hauteur > 2m et < 3m : tarif 2\n",
    "- véhicule avec 2 essieux (camion + remorque) et soit une hauteur >= 3m soit un PTAC > 3.5t : tarif 3\n",
    "- véhicule avec plus de 2 essieux et ayant soit un PTAC > 3,5t soit une hauteur >= 3m : tarif 4\n",
    "- motos : tarif 5\n",
    "\n",
    "créer une fonction avec en entrée un dictionnaire de véhicule et en sortie la valeur de la catégorie"
   ]
  },
  {
   "cell_type": "code",
   "execution_count": 8,
   "metadata": {},
   "outputs": [],
   "source": [
    "# données tests : analysez l'énoncé pour déterminer la catégorie de ces véhicules, puis utilisez le pour tester votre code.\n",
    "\n",
    "vehicule1 = {\n",
    "    'type' : 'camionette',\n",
    "    'ptac' : 3,\n",
    "    'hauteur' : 2.7,\n",
    "    'nbessieux' : 2\n",
    "}\n",
    "\n",
    "vehicule2 = {\n",
    "    'type' : 'moto',\n",
    "    'ptac' : 1,\n",
    "    'hauteur' : 1.2,\n",
    "}\n",
    "\n",
    "\n",
    "vehicule3 = {\n",
    "    'type' : 'voiture',\n",
    "    'ptac' : 3,\n",
    "    'hauteur' : 1.7,\n",
    "    'nbessieux' : 2\n",
    "}\n",
    "\n",
    "\n",
    "vehicule4 = {\n",
    "    'type' : 'camion',\n",
    "    'ptac' : 5,\n",
    "    'hauteur' : 3.2,\n",
    "    'nbessieux' : 2\n",
    "}\n",
    "\n",
    "vehicule5 = {\n",
    "    'type' : 'camion',\n",
    "    'ptac' : 6,\n",
    "    'hauteur' : 3.5,\n",
    "    'nbessieux' : 3\n",
    "}\n",
    "\n",
    "vehicule6 = {\n",
    "    'type' : 'camion',\n",
    "    'ptac' : 3.5,\n",
    "    'hauteur' : 3.2,\n",
    "    'nbessieux' : 4\n",
    "}\n"
   ]
  },
  {
   "cell_type": "code",
   "execution_count": 5,
   "metadata": {},
   "outputs": [],
   "source": [
    "\n",
    "def tarif(vehicule):\n",
    "    # on commence par le cas le plus simple : les motos (cela évite d'avoir à spécifier dans tous les autres test != 'moto')\n",
    "    if vehicule[\"type\"] == \"moto\" :\n",
    "        tarif = 5 \n",
    "    # A partir de là on prend les tests dans l'ordre demandé\n",
    "    #véhicule avec PTAC < 3,5t et hauteur =< 2m : tarif 1\n",
    "    elif vehicule[\"ptac\"] < 3.5 and vehicule[\"hauteur\"] <= 2 :\n",
    "        tarif = 1\n",
    "    #véhicule avec PTAC < 3,5t et hauteur > 2m et < 3m : tarif 2\n",
    "    elif vehicule[\"ptac\"] < 3.5 and vehicule[\"hauteur\"] > 2 and vehicule[\"hauteur\"] <= 3:\n",
    "        tarif = 2\n",
    "    #véhicule avec 2 essieux (camion + remorque) et soit une hauteur >= 3m soit un PTAC > 3.5t : tarif 3\n",
    "    elif vehicule[\"nbessieux\"] == 2 and (vehicule[\"hauteur\"] >= 3 or vehicule[\"ptac\"] > 3.5):\n",
    "        tarif = 3\n",
    "    #véhicule avec plus de 2 essieux et ayant soit un PTAC > 3,5t soit une hauteur >= 3m : tarif 4\n",
    "    elif vehicule[\"nbessieux\"] > 2 and (vehicule[\"hauteur\"] >= 3 or vehicule[\"ptac\"] > 3.5):\n",
    "        tarif = 3\n",
    "        \n",
    "    return tarif\n",
    "    "
   ]
  },
  {
   "cell_type": "code",
   "execution_count": 6,
   "metadata": {},
   "outputs": [
    {
     "data": {
      "text/plain": [
       "1"
      ]
     },
     "execution_count": 6,
     "metadata": {},
     "output_type": "execute_result"
    }
   ],
   "source": [
    "tarif(vehicule3)"
   ]
  },
  {
   "cell_type": "code",
   "execution_count": null,
   "metadata": {},
   "outputs": [],
   "source": []
  }
 ],
 "metadata": {
  "kernelspec": {
   "display_name": "Python 3",
   "language": "python",
   "name": "python3"
  },
  "language_info": {
   "codemirror_mode": {
    "name": "ipython",
    "version": 3
   },
   "file_extension": ".py",
   "mimetype": "text/x-python",
   "name": "python",
   "nbconvert_exporter": "python",
   "pygments_lexer": "ipython3",
   "version": "3.7.4"
  }
 },
 "nbformat": 4,
 "nbformat_minor": 4
}
