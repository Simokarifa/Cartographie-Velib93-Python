{
 "cells": [
  {
   "cell_type": "markdown",
   "metadata": {},
   "source": [
    "# Séance 9 : Exercices"
   ]
  },
  {
   "cell_type": "markdown",
   "metadata": {},
   "source": [
    "### 1 : Tickets de piscine\n",
    "\n",
    "Un ticket de piscine vaut 4 euros.\n",
    "\n",
    "Sous reserve d'avoir acheté un abonnement à 10 euros une entrée de piscine ne vaut plus que 2 euros.\n",
    "\n",
    "En fonction d'un nombre de tickets à acheter pour votre sortie à la piscine (variable 'nb') determinez s'il vaut mieux acheter un abonnement ou non.\n",
    "(ecrire la réponse sous forme d'un texte)"
   ]
  },
  {
   "cell_type": "code",
   "execution_count": 4,
   "metadata": {},
   "outputs": [
    {
     "name": "stdout",
     "output_type": "stream",
     "text": [
      "Autant prendre un abonnement ...\n"
     ]
    }
   ],
   "source": [
    "nb = 5\n",
    "\n",
    "# votre code ici\n"
   ]
  },
  {
   "cell_type": "markdown",
   "metadata": {},
   "source": [
    "Créer maintenant une fonction pour regrouper ces étapes du traitement"
   ]
  },
  {
   "cell_type": "code",
   "execution_count": 11,
   "metadata": {},
   "outputs": [],
   "source": [
    "# votre fonction\n"
   ]
  },
  {
   "cell_type": "markdown",
   "metadata": {},
   "source": [
    "Créer maintenant un script python qui fait saisir le nombre de tickets demandés (point de cours necessaire)"
   ]
  },
  {
   "cell_type": "markdown",
   "metadata": {},
   "source": [
    "## 2 : Quel type de triangle ?\n",
    "\n",
    "A partir de 3 valeurs (les longueurs d'un côté) vous devez determiner le type de triangle (isocele, equilatéral, rectangle)\n"
   ]
  },
  {
   "cell_type": "code",
   "execution_count": 8,
   "metadata": {},
   "outputs": [
    {
     "name": "stdout",
     "output_type": "stream",
     "text": [
      "5\n"
     ]
    }
   ],
   "source": [
    "a = 5\n",
    "b = 4\n",
    "c = 3\n",
    "\n",
    "# votre code ici\n"
   ]
  },
  {
   "cell_type": "markdown",
   "metadata": {},
   "source": [
    "Créer maintenant une fonction pour regrouper ces étapes du traitement"
   ]
  },
  {
   "cell_type": "code",
   "execution_count": null,
   "metadata": {},
   "outputs": [],
   "source": [
    "# votre fonction\n"
   ]
  },
  {
   "cell_type": "markdown",
   "metadata": {},
   "source": [
    "## 3 : le mot le plus long dans un texte\n",
    "\n",
    "à partir du texte-ci dessous trouver le mot le plus long, l'afficher et afficher le nombre de caractères qu'il contient"
   ]
  },
  {
   "cell_type": "code",
   "execution_count": 9,
   "metadata": {},
   "outputs": [],
   "source": [
    "texte = \"\"\"\n",
    "A l'orée d'une grande forêt vivaient un pauvre bûcheron, sa femme et ses deux enfants. Le garçon s'appelait Hansel et la fille Grethel. La famille ne mangeait guère. Une année que la famine régnait dans le pays et que le pain lui-même vint à manquer, le bûcheron ruminait des idées noires, une nuit, dans son lit et remâchait ses soucis. Il dit à sa femme\n",
    "- Qu'allons-nous devenir ? Comment nourrir nos pauvres enfants, quand nous n'avons plus rien pour nous-mêmes ?\n",
    "- Eh bien, mon homme, dit la femme, sais-tu ce que nous allons faire ? Dès l'aube, nous conduirons les enfants au plus profond de la forêt nous leur allumerons un feu et leur donnerons à chacun un petit morceau de pain. Puis nous irons à notre travail et les laisserons seuls. Ils ne retrouveront plus leur chemin et nous en serons débarrassés.\n",
    "\"\"\""
   ]
  },
  {
   "cell_type": "code",
   "execution_count": 10,
   "metadata": {},
   "outputs": [],
   "source": [
    "# votre code\n"
   ]
  },
  {
   "cell_type": "markdown",
   "metadata": {},
   "source": [
    "## 4 : le prix du parking\n",
    "\n",
    "Le prix du stationnement dans un parking dépend du type de véhicule et de la durée de stationnement.\n",
    "\n",
    "La durée de stationnement n'est pas prise en compte de manière linéaire.\n",
    "\n",
    "pour une voiture : \n",
    "- la première demi heure est gratuite\n",
    "- les 2 heures et demi suivantes sont à 5 euros\n",
    "- chaque heure de plus coûte ensuite 1,5 euros\n",
    "\n",
    "pour un 2 roue : \n",
    "- la première demi heure est gratuite\n",
    "- chaque tranche de 2 heures coûte 1 euros sans limite de temps\n",
    "\n",
    "Créer une fonction qui prendra en entrée : le type de véhicule, le temps de stationnement.\n",
    "la fonction retournera le montant à payer\n"
   ]
  },
  {
   "cell_type": "code",
   "execution_count": null,
   "metadata": {},
   "outputs": [],
   "source": [
    "# votre code\n"
   ]
  },
  {
   "cell_type": "markdown",
   "metadata": {},
   "source": [
    "## 5 : Classifier les véhicules pour déterminer le tarif sur l'autoroute\n",
    "\n",
    "- véhicule avec PTAC < 3,5t et hauteur =< 2m : tarif 1\n",
    "- véhicule avec PTAC < 3,5t et hauteur > 2m et < 3m : tarif 2\n",
    "- véhicule avec 2 essieux (camion + remorque) et soit une hauteur >= 3m soit un PTAC > 3.5t : tarif 3\n",
    "- véhicule avec plus de 2 essieux et ayant soit un PTAC > 3,5t soit une hauteur >= 3m : tarif 4\n",
    "- motos : tarif 5"
   ]
  },
  {
   "cell_type": "code",
   "execution_count": null,
   "metadata": {},
   "outputs": [],
   "source": [
    "vehicule1 = {\n",
    "    'type' : camionette,\n",
    "    'ptac' : 3,\n",
    "    'hauteur' : 2,7,\n",
    "    'nbessieux' : 1\n",
    "}\n",
    "\n",
    "vehicule2 = {\n",
    "    'type' : moto,\n",
    "    'ptac' : 1,\n",
    "    'hauteur' : 1,2,\n",
    "    'nbessieux' : 1\n",
    "}\n",
    "\n",
    "\n",
    "vehicule3 = {\n",
    "    'type' : voiture,\n",
    "    'ptac' : 3,\n",
    "    'hauteur' : 1,7,\n",
    "    'nbessieux' : 1\n",
    "}\n",
    "\n",
    "\n",
    "vehicule4 = {\n",
    "    'type' : camion,\n",
    "    'ptac' : 5,\n",
    "    'hauteur' : 3,2,\n",
    "    'nbessieux' : 2\n",
    "}\n",
    "\n",
    "vehicule5 = {\n",
    "    'type' : camion,\n",
    "    'ptac' : 6,\n",
    "    'hauteur' : 3,5\n",
    "    'nbessieux' : 3\n",
    "}\n",
    "\n",
    "vehicule5 = {\n",
    "    'type' : camion,\n",
    "    'ptac' : 3,\n",
    "    'hauteur' : 3,2\n",
    "    'nbremorques' : 2\n",
    "}"
   ]
  },
  {
   "cell_type": "code",
   "execution_count": null,
   "metadata": {},
   "outputs": [],
   "source": [
    "# votre code\n"
   ]
  }
 ],
 "metadata": {
  "kernelspec": {
   "display_name": "Python 3",
   "language": "python",
   "name": "python3"
  },
  "language_info": {
   "codemirror_mode": {
    "name": "ipython",
    "version": 3
   },
   "file_extension": ".py",
   "mimetype": "text/x-python",
   "name": "python",
   "nbconvert_exporter": "python",
   "pygments_lexer": "ipython3",
   "version": "3.8.6"
  }
 },
 "nbformat": 4,
 "nbformat_minor": 4
}
