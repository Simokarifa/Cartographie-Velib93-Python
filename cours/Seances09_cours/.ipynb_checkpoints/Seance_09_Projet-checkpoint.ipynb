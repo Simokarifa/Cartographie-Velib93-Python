{
 "cells": [
  {
   "cell_type": "markdown",
   "metadata": {},
   "source": [
    "# Séance 10 : Présentation Projet"
   ]
  },
  {
   "cell_type": "markdown",
   "metadata": {},
   "source": [
    "## Enoncé du Projet"
   ]
  },
  {
   "cell_type": "markdown",
   "metadata": {},
   "source": [
    "\n",
    "**10 points : réaliser un script python indépendant bien documenté et bien structuré qui va :**\n",
    "\n",
    "- Cartographier toutes les stations vélib\n",
    "- Les données doivent être récupérées sur internet en temps reel lors du lancement du script\n",
    "- Afficher pour chaque station une popup avec \n",
    "    - le nom de la station\n",
    "    - son id\n",
    "    - le nombre de place total\n",
    "- Utiliser des ClusterMarker dans la carte\n",
    "- Le code doit être bien commenté, organisé (création d'un module si possible pour la récupération des données par exemples, de fonctions) et prendre en compte la gestion des erreurs\n",
    "- le fichier HTML généré par le script doit être comme suit : index_YYYYMMJJ_hhMMSS.html (où l'indication d'heure correspond au rafraichissement des données, pas à l'écriture du fichier html sur le disque)\n",
    "- le livrable est : un fichier ZIP NOM_PRENOM.zip avec dedans : \n",
    "        - requirements.txt avec uniquement les librairies necessaires\n",
    "        - les fichers/repertoires constituant le code\n",
    "        - un fichier lisezmoi.txt qui indique les pbms rencontrés et comment lancer le code (surtout si vous n'avez pas été jusqu'aux derniers points)."
   ]
  },
  {
   "cell_type": "markdown",
   "metadata": {},
   "source": [
    "Les données sources sont disponibles ici :\n",
    "\n",
    "https://www.velib-metropole.fr/donnees-open-data-gbfs-du-service-velib-metropole\n",
    "    \n",
    "https://velib-metropole-opendata.smoove.pro/opendata/Velib_Metropole/station_information.json\n",
    "\n",
    "\n",
    "Sur les 10 points 2 points sont reservés à la qualité et à la structure du code, à la présence de commentaires etc.\n",
    "\n"
   ]
  },
  {
   "cell_type": "markdown",
   "metadata": {},
   "source": [
    "**Pour 5 points de plus : prise en compte des données de dispo des vélos**\n",
    "\n",
    "Les données sources complémentaires sont disponibles ici :\n",
    "        \n",
    "https://velib-metropole-opendata.smoove.pro/opendata/Velib_Metropole/station_status.json \n",
    "\n",
    "- 3 points : préparation des données à partir des deux sources\n",
    "- 1 points : La carte ne devra afficher que les stations avec plus de 8 vélibs disponibles (electriques et non electriques) dont au moins 1 velib éléctrique\n",
    "- 1 point : La popup devra aussi affichier : \n",
    "    - le nombre de velib éléctriques et non electriques disponibles par station\n",
    "    - la date et heure de la mesure  \n"
   ]
  },
  {
   "cell_type": "markdown",
   "metadata": {},
   "source": [
    "**Pour 5 points de plus : complément de structuration du code**\n",
    "\n",
    "- 1 point : Ajouter et charger dans le script un fichier de configuration contenant : \n",
    "    - le nb de velibs minimal pour l'affichage \n",
    "    - le nb de velibs electriques minimal pour l'affichage\n",
    "    - le chemin dans lequel mettre le fichier de Log\n",
    "    - le chemin vers le fichier Json des limites du département de la Seine-Saint-Denis (dispo via les fichiers des cours, à mettre dans vos sources)\n",
    "    - les 2 URL des services de données Opendata Velib\n",
    "- 1 point : utiliser les valeurs du fichier de configuration dans le filtrage appliqué plus haut (nb de vélib min + nb de vélib electrique min), et dans l'appel des URL\n",
    "- 1 point : ajouter un paramètre à l'appel du script pour indiquer le chemin vers le fichier de configuration\n",
    "- 1 point : ajouter des logs qui seront mis dans le dossier paramétré\n",
    "- 1 point : utiliser le GeoJson pour filtrer les points en ne gardant que les points situés dans la Seine-Saint-Denis"
   ]
  },
  {
   "cell_type": "markdown",
   "metadata": {},
   "source": [
    "**Indices sur les éléments du cours vu ensemble à mobiliser pour ce projet :**\n",
    " \n",
    "Pour les 15 premiers points : \n",
    "\n",
    "- gestion d'un environnement virtuel et de pip pour le fichier de requirement\n",
    "- script python\n",
    "- requests\n",
    "- module json\n",
    "- format Json/GeoJson\n",
    "- dict, list, compréhensions\n",
    "- boucles for et test\n",
    "- gestion des exceptions\n",
    "- modules, fonctions\n",
    "- manipulation de chaînes de texte\n",
    "- cartes Folium avec objets de détail, popup\n",
    "\n",
    "Pour les 5 points complémentaires : \n",
    "    \n",
    "- config, param, logs dans un script\n",
    "- Shapely"
   ]
  },
  {
   "cell_type": "markdown",
   "metadata": {},
   "source": [
    "## Mode d'évaluation : \n",
    "\n",
    "- Création d'un environnement virtuel dédié\n",
    "- Installation des packages du fichier requirements.txt\n",
    "- Lancement du script avec ou sans paramètre selon votre avancement\n",
    "- Analyse du code pour plus détail et les points relatifs à la qualité (ou assurer des points si le code ne fait pas tout le traitement)\n",
    "\n"
   ]
  },
  {
   "cell_type": "markdown",
   "metadata": {},
   "source": [
    "## Remarques \n",
    "\n",
    "- commencez par créer un environnement virtuel tout neuf\n",
    "- relisez https://www.python.org/dev/peps/pep-0008/ avant d'envoyer votre code\n",
    "- mettez bien les doc \n",
    "- n'utiliser que les choses vues en cours, \n",
    "    - plus tard pour réaliser la même chose vous pourriez aller voir s'il y a des librairies python déjà écrites pour consulter de telles données (par exemple https://pypi.org/project/gbfs-client/)"
   ]
  },
  {
   "cell_type": "markdown",
   "metadata": {},
   "source": [
    "# Planning\n",
    "\n",
    "- 26/03 : 2nd cours sur les scripts python (important pour le projet) + révision des environnements virtuels\n",
    "- 2/04 : question/réponses + présentation Pandas (Geopandas)\n",
    "- 9/04 : question/réponses + présentation python (Geopandas + Autres modules interessants)\n",
    "- 16/04 : dernier jour pour reception des projets\n",
    "- En mai : notes, correction par email et rattrapage si besoin"
   ]
  }
 ],
 "metadata": {
  "kernelspec": {
   "display_name": "Python 3",
   "language": "python",
   "name": "python3"
  },
  "language_info": {
   "codemirror_mode": {
    "name": "ipython",
    "version": 3
   },
   "file_extension": ".py",
   "mimetype": "text/x-python",
   "name": "python",
   "nbconvert_exporter": "python",
   "pygments_lexer": "ipython3",
   "version": "3.7.4"
  }
 },
 "nbformat": 4,
 "nbformat_minor": 4
}
