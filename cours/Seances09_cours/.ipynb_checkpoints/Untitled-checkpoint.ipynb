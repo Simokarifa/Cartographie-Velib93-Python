{
 "cells": [
  {
   "cell_type": "code",
   "execution_count": 4,
   "id": "decent-holder",
   "metadata": {},
   "outputs": [
    {
     "name": "stdout",
     "output_type": "stream",
     "text": [
      "7\n"
     ]
    }
   ],
   "source": [
    "c=\"Mohamed\"\n",
    "i=len(c)\n",
    "#while(i>0):\n",
    "    #print(i)\n",
    "print(i)\n"
   ]
  },
  {
   "cell_type": "code",
   "execution_count": 8,
   "id": "adolescent-cleveland",
   "metadata": {},
   "outputs": [
    {
     "data": {
      "text/plain": [
       "'demahoM'"
      ]
     },
     "execution_count": 8,
     "metadata": {},
     "output_type": "execute_result"
    }
   ],
   "source": [
    "c=\"Mohamed\"\n",
    "b=\"\".join(reversed(c))\n",
    "b"
   ]
  },
  {
   "cell_type": "code",
   "execution_count": 10,
   "id": "competitive-filing",
   "metadata": {},
   "outputs": [
    {
     "data": {
      "text/plain": [
       "'demahoM'"
      ]
     },
     "execution_count": 10,
     "metadata": {},
     "output_type": "execute_result"
    }
   ],
   "source": [
    "def inv(a):\n",
    "    rep=\"\".join(reversed(a))\n",
    "    return rep\n",
    "inv(c)"
   ]
  },
  {
   "cell_type": "code",
   "execution_count": 1,
   "id": "conscious-puzzle",
   "metadata": {},
   "outputs": [
    {
     "name": "stdout",
     "output_type": "stream",
     "text": [
      "M\n",
      "o\n",
      "h\n",
      "a\n",
      "m\n",
      "e\n",
      "d\n"
     ]
    }
   ],
   "source": [
    "c=\"Mohamed\"\n",
    "for i in c:\n",
    "    print(i)\n",
    "    "
   ]
  },
  {
   "cell_type": "code",
   "execution_count": 10,
   "id": "serial-support",
   "metadata": {},
   "outputs": [
    {
     "name": "stdout",
     "output_type": "stream",
     "text": [
      "demahoM \n"
     ]
    }
   ],
   "source": [
    "ch1 =\"Mohamed\" \n",
    "ch2 = \" \"\n",
    " \n",
    "for lettre in ch1:\n",
    "    ch2= lettre + ch2 \n",
    "print(ch2)"
   ]
  },
  {
   "cell_type": "code",
   "execution_count": 12,
   "id": "incoming-realtor",
   "metadata": {},
   "outputs": [],
   "source": [
    "ch1 = \"abcde\"\n",
    "ch2 = \"\"\n",
    "i = len(ch1) - 1 #index du dernier caractere de ch1\n",
    "while i >= 0:\n",
    "    ch2 += ch1[i]#on ajoute/concatène un caractere de ch1 (en partant de la fin) a ch2\n",
    "    i -= 1"
   ]
  },
  {
   "cell_type": "code",
   "execution_count": null,
   "id": "bacterial-height",
   "metadata": {},
   "outputs": [],
   "source": []
  }
 ],
 "metadata": {
  "kernelspec": {
   "display_name": "Python 3",
   "language": "python",
   "name": "python3"
  },
  "language_info": {
   "codemirror_mode": {
    "name": "ipython",
    "version": 3
   },
   "file_extension": ".py",
   "mimetype": "text/x-python",
   "name": "python",
   "nbconvert_exporter": "python",
   "pygments_lexer": "ipython3",
   "version": "3.8.6"
  }
 },
 "nbformat": 4,
 "nbformat_minor": 5
}
